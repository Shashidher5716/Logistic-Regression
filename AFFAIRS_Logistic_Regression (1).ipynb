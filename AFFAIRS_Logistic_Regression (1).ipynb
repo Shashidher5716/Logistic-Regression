{
  "nbformat": 4,
  "nbformat_minor": 0,
  "metadata": {
    "colab": {
      "provenance": []
    },
    "kernelspec": {
      "name": "python3",
      "display_name": "Python 3"
    },
    "language_info": {
      "name": "python"
    }
  },
  "cells": [
    {
      "cell_type": "markdown",
      "source": [
        "**Data Description** : The Dataset contain 18 columns with name like\n",
        "\n",
        "1. naffairs\t   : number of affairs within last year\n",
        "2. kids\t       : 1=have children;0= no children\n",
        "3. vryunhap    : (1/0) very unhappily married\n",
        "4. unhap\t     : (1/0) unhappily married\n",
        "5. avgmarr\t   : (1/0) average married\n",
        "6. hapavg\t     : (1/0) happily married\n",
        "7. vryhap\t     : (1/0) very happily married\n",
        "8. antirel\t   : (1/0) anti religious\n",
        "9. notrel\t     : (1/0) not religious\n",
        "10. slghtrel \t : (1/0) slightly religious\n",
        "11. smerel\t   : (1/0) somewhat religious\n",
        "12. vryrel\t   : (1/0) very religious\n",
        "13. yrsmarr1\t : (1/0) >0.75 yrs\n",
        "14. yrsmarr2\t : (1/0) >1.5 yrs\n",
        "15. yrsmarr3\t : (1/0) >4.0 yrs\n",
        "16. yrsmarr4\t : (1/0) >7.0 yrs\n",
        "17. yrsmarr5   : (1/0) >10.0 yrs\n",
        "18. yrsmarr6   : (1/0) >15.0 yrs\n",
        "\n"
      ],
      "metadata": {
        "id": "2jcmkcnh77g4"
      }
    },
    {
      "cell_type": "code",
      "execution_count": 81,
      "metadata": {
        "id": "PHi9kKXHu2y5"
      },
      "outputs": [],
      "source": [
        "# Importing the Libraries\n",
        "\n",
        "import pandas as pd\n",
        "import numpy as np\n",
        "import matplotlib.pyplot as plt\n",
        "import seaborn as sns\n",
        "from sklearn.linear_model import LogisticRegression \n",
        "from sklearn.model_selection import train_test_split\n",
        "from sklearn import metrics \n",
        "from sklearn.model_selection import cross_val_score\n"
      ]
    },
    {
      "cell_type": "code",
      "source": [
        "# Loading the dataset\n",
        "from google.colab import files\n",
        "\n",
        "uploaded = files.upload()"
      ],
      "metadata": {
        "colab": {
          "base_uri": "https://localhost:8080/",
          "height": 74
        },
        "id": "EndRLoDGu5G3",
        "outputId": "c594655c-3da2-44d3-de74-716ec237dade"
      },
      "execution_count": 82,
      "outputs": [
        {
          "output_type": "display_data",
          "data": {
            "text/plain": [
              "<IPython.core.display.HTML object>"
            ],
            "text/html": [
              "\n",
              "     <input type=\"file\" id=\"files-88fd7fd3-01d8-4114-a70c-473a1c67ea1a\" name=\"files[]\" multiple disabled\n",
              "        style=\"border:none\" />\n",
              "     <output id=\"result-88fd7fd3-01d8-4114-a70c-473a1c67ea1a\">\n",
              "      Upload widget is only available when the cell has been executed in the\n",
              "      current browser session. Please rerun this cell to enable.\n",
              "      </output>\n",
              "      <script>// Copyright 2017 Google LLC\n",
              "//\n",
              "// Licensed under the Apache License, Version 2.0 (the \"License\");\n",
              "// you may not use this file except in compliance with the License.\n",
              "// You may obtain a copy of the License at\n",
              "//\n",
              "//      http://www.apache.org/licenses/LICENSE-2.0\n",
              "//\n",
              "// Unless required by applicable law or agreed to in writing, software\n",
              "// distributed under the License is distributed on an \"AS IS\" BASIS,\n",
              "// WITHOUT WARRANTIES OR CONDITIONS OF ANY KIND, either express or implied.\n",
              "// See the License for the specific language governing permissions and\n",
              "// limitations under the License.\n",
              "\n",
              "/**\n",
              " * @fileoverview Helpers for google.colab Python module.\n",
              " */\n",
              "(function(scope) {\n",
              "function span(text, styleAttributes = {}) {\n",
              "  const element = document.createElement('span');\n",
              "  element.textContent = text;\n",
              "  for (const key of Object.keys(styleAttributes)) {\n",
              "    element.style[key] = styleAttributes[key];\n",
              "  }\n",
              "  return element;\n",
              "}\n",
              "\n",
              "// Max number of bytes which will be uploaded at a time.\n",
              "const MAX_PAYLOAD_SIZE = 100 * 1024;\n",
              "\n",
              "function _uploadFiles(inputId, outputId) {\n",
              "  const steps = uploadFilesStep(inputId, outputId);\n",
              "  const outputElement = document.getElementById(outputId);\n",
              "  // Cache steps on the outputElement to make it available for the next call\n",
              "  // to uploadFilesContinue from Python.\n",
              "  outputElement.steps = steps;\n",
              "\n",
              "  return _uploadFilesContinue(outputId);\n",
              "}\n",
              "\n",
              "// This is roughly an async generator (not supported in the browser yet),\n",
              "// where there are multiple asynchronous steps and the Python side is going\n",
              "// to poll for completion of each step.\n",
              "// This uses a Promise to block the python side on completion of each step,\n",
              "// then passes the result of the previous step as the input to the next step.\n",
              "function _uploadFilesContinue(outputId) {\n",
              "  const outputElement = document.getElementById(outputId);\n",
              "  const steps = outputElement.steps;\n",
              "\n",
              "  const next = steps.next(outputElement.lastPromiseValue);\n",
              "  return Promise.resolve(next.value.promise).then((value) => {\n",
              "    // Cache the last promise value to make it available to the next\n",
              "    // step of the generator.\n",
              "    outputElement.lastPromiseValue = value;\n",
              "    return next.value.response;\n",
              "  });\n",
              "}\n",
              "\n",
              "/**\n",
              " * Generator function which is called between each async step of the upload\n",
              " * process.\n",
              " * @param {string} inputId Element ID of the input file picker element.\n",
              " * @param {string} outputId Element ID of the output display.\n",
              " * @return {!Iterable<!Object>} Iterable of next steps.\n",
              " */\n",
              "function* uploadFilesStep(inputId, outputId) {\n",
              "  const inputElement = document.getElementById(inputId);\n",
              "  inputElement.disabled = false;\n",
              "\n",
              "  const outputElement = document.getElementById(outputId);\n",
              "  outputElement.innerHTML = '';\n",
              "\n",
              "  const pickedPromise = new Promise((resolve) => {\n",
              "    inputElement.addEventListener('change', (e) => {\n",
              "      resolve(e.target.files);\n",
              "    });\n",
              "  });\n",
              "\n",
              "  const cancel = document.createElement('button');\n",
              "  inputElement.parentElement.appendChild(cancel);\n",
              "  cancel.textContent = 'Cancel upload';\n",
              "  const cancelPromise = new Promise((resolve) => {\n",
              "    cancel.onclick = () => {\n",
              "      resolve(null);\n",
              "    };\n",
              "  });\n",
              "\n",
              "  // Wait for the user to pick the files.\n",
              "  const files = yield {\n",
              "    promise: Promise.race([pickedPromise, cancelPromise]),\n",
              "    response: {\n",
              "      action: 'starting',\n",
              "    }\n",
              "  };\n",
              "\n",
              "  cancel.remove();\n",
              "\n",
              "  // Disable the input element since further picks are not allowed.\n",
              "  inputElement.disabled = true;\n",
              "\n",
              "  if (!files) {\n",
              "    return {\n",
              "      response: {\n",
              "        action: 'complete',\n",
              "      }\n",
              "    };\n",
              "  }\n",
              "\n",
              "  for (const file of files) {\n",
              "    const li = document.createElement('li');\n",
              "    li.append(span(file.name, {fontWeight: 'bold'}));\n",
              "    li.append(span(\n",
              "        `(${file.type || 'n/a'}) - ${file.size} bytes, ` +\n",
              "        `last modified: ${\n",
              "            file.lastModifiedDate ? file.lastModifiedDate.toLocaleDateString() :\n",
              "                                    'n/a'} - `));\n",
              "    const percent = span('0% done');\n",
              "    li.appendChild(percent);\n",
              "\n",
              "    outputElement.appendChild(li);\n",
              "\n",
              "    const fileDataPromise = new Promise((resolve) => {\n",
              "      const reader = new FileReader();\n",
              "      reader.onload = (e) => {\n",
              "        resolve(e.target.result);\n",
              "      };\n",
              "      reader.readAsArrayBuffer(file);\n",
              "    });\n",
              "    // Wait for the data to be ready.\n",
              "    let fileData = yield {\n",
              "      promise: fileDataPromise,\n",
              "      response: {\n",
              "        action: 'continue',\n",
              "      }\n",
              "    };\n",
              "\n",
              "    // Use a chunked sending to avoid message size limits. See b/62115660.\n",
              "    let position = 0;\n",
              "    do {\n",
              "      const length = Math.min(fileData.byteLength - position, MAX_PAYLOAD_SIZE);\n",
              "      const chunk = new Uint8Array(fileData, position, length);\n",
              "      position += length;\n",
              "\n",
              "      const base64 = btoa(String.fromCharCode.apply(null, chunk));\n",
              "      yield {\n",
              "        response: {\n",
              "          action: 'append',\n",
              "          file: file.name,\n",
              "          data: base64,\n",
              "        },\n",
              "      };\n",
              "\n",
              "      let percentDone = fileData.byteLength === 0 ?\n",
              "          100 :\n",
              "          Math.round((position / fileData.byteLength) * 100);\n",
              "      percent.textContent = `${percentDone}% done`;\n",
              "\n",
              "    } while (position < fileData.byteLength);\n",
              "  }\n",
              "\n",
              "  // All done.\n",
              "  yield {\n",
              "    response: {\n",
              "      action: 'complete',\n",
              "    }\n",
              "  };\n",
              "}\n",
              "\n",
              "scope.google = scope.google || {};\n",
              "scope.google.colab = scope.google.colab || {};\n",
              "scope.google.colab._files = {\n",
              "  _uploadFiles,\n",
              "  _uploadFilesContinue,\n",
              "};\n",
              "})(self);\n",
              "</script> "
            ]
          },
          "metadata": {}
        },
        {
          "output_type": "stream",
          "name": "stdout",
          "text": [
            "Saving Affairs.csv to Affairs (1).csv\n"
          ]
        }
      ]
    },
    {
      "cell_type": "code",
      "source": [
        "# Accessing the dataset\n",
        "\n",
        "data = pd.read_csv('Affairs.csv')"
      ],
      "metadata": {
        "id": "m65NzuUMu94b"
      },
      "execution_count": 83,
      "outputs": []
    },
    {
      "cell_type": "code",
      "source": [
        "# Checking the head of data\n",
        "\n",
        "data.head()"
      ],
      "metadata": {
        "colab": {
          "base_uri": "https://localhost:8080/",
          "height": 206
        },
        "id": "WleCv8w-vDRz",
        "outputId": "5217482e-c344-4f01-d5ae-e156067da247"
      },
      "execution_count": 84,
      "outputs": [
        {
          "output_type": "execute_result",
          "data": {
            "text/plain": [
              "   Unnamed: 0  naffairs  kids  vryunhap  unhap  avgmarr  hapavg  vryhap  \\\n",
              "0           1         0     0         0      0        0       1       0   \n",
              "1           2         0     0         0      0        0       1       0   \n",
              "2           3         3     0         0      0        0       1       0   \n",
              "3           4         0     1         0      0        0       1       0   \n",
              "4           5         3     1         0      0        0       0       1   \n",
              "\n",
              "   antirel  notrel  slghtrel  smerel  vryrel  yrsmarr1  yrsmarr2  yrsmarr3  \\\n",
              "0        0       0         1       0       0         0         0         0   \n",
              "1        0       0         0       1       0         0         0         1   \n",
              "2        0       0         1       0       0         0         1         0   \n",
              "3        1       0         0       0       0         0         0         0   \n",
              "4        0       0         1       0       0         0         0         1   \n",
              "\n",
              "   yrsmarr4  yrsmarr5  yrsmarr6  \n",
              "0         0         1         0  \n",
              "1         0         0         0  \n",
              "2         0         0         0  \n",
              "3         0         0         1  \n",
              "4         0         0         0  "
            ],
            "text/html": [
              "\n",
              "  <div id=\"df-b968a6e3-c69e-44bb-90ea-cbadce44b3a0\">\n",
              "    <div class=\"colab-df-container\">\n",
              "      <div>\n",
              "<style scoped>\n",
              "    .dataframe tbody tr th:only-of-type {\n",
              "        vertical-align: middle;\n",
              "    }\n",
              "\n",
              "    .dataframe tbody tr th {\n",
              "        vertical-align: top;\n",
              "    }\n",
              "\n",
              "    .dataframe thead th {\n",
              "        text-align: right;\n",
              "    }\n",
              "</style>\n",
              "<table border=\"1\" class=\"dataframe\">\n",
              "  <thead>\n",
              "    <tr style=\"text-align: right;\">\n",
              "      <th></th>\n",
              "      <th>Unnamed: 0</th>\n",
              "      <th>naffairs</th>\n",
              "      <th>kids</th>\n",
              "      <th>vryunhap</th>\n",
              "      <th>unhap</th>\n",
              "      <th>avgmarr</th>\n",
              "      <th>hapavg</th>\n",
              "      <th>vryhap</th>\n",
              "      <th>antirel</th>\n",
              "      <th>notrel</th>\n",
              "      <th>slghtrel</th>\n",
              "      <th>smerel</th>\n",
              "      <th>vryrel</th>\n",
              "      <th>yrsmarr1</th>\n",
              "      <th>yrsmarr2</th>\n",
              "      <th>yrsmarr3</th>\n",
              "      <th>yrsmarr4</th>\n",
              "      <th>yrsmarr5</th>\n",
              "      <th>yrsmarr6</th>\n",
              "    </tr>\n",
              "  </thead>\n",
              "  <tbody>\n",
              "    <tr>\n",
              "      <th>0</th>\n",
              "      <td>1</td>\n",
              "      <td>0</td>\n",
              "      <td>0</td>\n",
              "      <td>0</td>\n",
              "      <td>0</td>\n",
              "      <td>0</td>\n",
              "      <td>1</td>\n",
              "      <td>0</td>\n",
              "      <td>0</td>\n",
              "      <td>0</td>\n",
              "      <td>1</td>\n",
              "      <td>0</td>\n",
              "      <td>0</td>\n",
              "      <td>0</td>\n",
              "      <td>0</td>\n",
              "      <td>0</td>\n",
              "      <td>0</td>\n",
              "      <td>1</td>\n",
              "      <td>0</td>\n",
              "    </tr>\n",
              "    <tr>\n",
              "      <th>1</th>\n",
              "      <td>2</td>\n",
              "      <td>0</td>\n",
              "      <td>0</td>\n",
              "      <td>0</td>\n",
              "      <td>0</td>\n",
              "      <td>0</td>\n",
              "      <td>1</td>\n",
              "      <td>0</td>\n",
              "      <td>0</td>\n",
              "      <td>0</td>\n",
              "      <td>0</td>\n",
              "      <td>1</td>\n",
              "      <td>0</td>\n",
              "      <td>0</td>\n",
              "      <td>0</td>\n",
              "      <td>1</td>\n",
              "      <td>0</td>\n",
              "      <td>0</td>\n",
              "      <td>0</td>\n",
              "    </tr>\n",
              "    <tr>\n",
              "      <th>2</th>\n",
              "      <td>3</td>\n",
              "      <td>3</td>\n",
              "      <td>0</td>\n",
              "      <td>0</td>\n",
              "      <td>0</td>\n",
              "      <td>0</td>\n",
              "      <td>1</td>\n",
              "      <td>0</td>\n",
              "      <td>0</td>\n",
              "      <td>0</td>\n",
              "      <td>1</td>\n",
              "      <td>0</td>\n",
              "      <td>0</td>\n",
              "      <td>0</td>\n",
              "      <td>1</td>\n",
              "      <td>0</td>\n",
              "      <td>0</td>\n",
              "      <td>0</td>\n",
              "      <td>0</td>\n",
              "    </tr>\n",
              "    <tr>\n",
              "      <th>3</th>\n",
              "      <td>4</td>\n",
              "      <td>0</td>\n",
              "      <td>1</td>\n",
              "      <td>0</td>\n",
              "      <td>0</td>\n",
              "      <td>0</td>\n",
              "      <td>1</td>\n",
              "      <td>0</td>\n",
              "      <td>1</td>\n",
              "      <td>0</td>\n",
              "      <td>0</td>\n",
              "      <td>0</td>\n",
              "      <td>0</td>\n",
              "      <td>0</td>\n",
              "      <td>0</td>\n",
              "      <td>0</td>\n",
              "      <td>0</td>\n",
              "      <td>0</td>\n",
              "      <td>1</td>\n",
              "    </tr>\n",
              "    <tr>\n",
              "      <th>4</th>\n",
              "      <td>5</td>\n",
              "      <td>3</td>\n",
              "      <td>1</td>\n",
              "      <td>0</td>\n",
              "      <td>0</td>\n",
              "      <td>0</td>\n",
              "      <td>0</td>\n",
              "      <td>1</td>\n",
              "      <td>0</td>\n",
              "      <td>0</td>\n",
              "      <td>1</td>\n",
              "      <td>0</td>\n",
              "      <td>0</td>\n",
              "      <td>0</td>\n",
              "      <td>0</td>\n",
              "      <td>1</td>\n",
              "      <td>0</td>\n",
              "      <td>0</td>\n",
              "      <td>0</td>\n",
              "    </tr>\n",
              "  </tbody>\n",
              "</table>\n",
              "</div>\n",
              "      <button class=\"colab-df-convert\" onclick=\"convertToInteractive('df-b968a6e3-c69e-44bb-90ea-cbadce44b3a0')\"\n",
              "              title=\"Convert this dataframe to an interactive table.\"\n",
              "              style=\"display:none;\">\n",
              "        \n",
              "  <svg xmlns=\"http://www.w3.org/2000/svg\" height=\"24px\"viewBox=\"0 0 24 24\"\n",
              "       width=\"24px\">\n",
              "    <path d=\"M0 0h24v24H0V0z\" fill=\"none\"/>\n",
              "    <path d=\"M18.56 5.44l.94 2.06.94-2.06 2.06-.94-2.06-.94-.94-2.06-.94 2.06-2.06.94zm-11 1L8.5 8.5l.94-2.06 2.06-.94-2.06-.94L8.5 2.5l-.94 2.06-2.06.94zm10 10l.94 2.06.94-2.06 2.06-.94-2.06-.94-.94-2.06-.94 2.06-2.06.94z\"/><path d=\"M17.41 7.96l-1.37-1.37c-.4-.4-.92-.59-1.43-.59-.52 0-1.04.2-1.43.59L10.3 9.45l-7.72 7.72c-.78.78-.78 2.05 0 2.83L4 21.41c.39.39.9.59 1.41.59.51 0 1.02-.2 1.41-.59l7.78-7.78 2.81-2.81c.8-.78.8-2.07 0-2.86zM5.41 20L4 18.59l7.72-7.72 1.47 1.35L5.41 20z\"/>\n",
              "  </svg>\n",
              "      </button>\n",
              "      \n",
              "  <style>\n",
              "    .colab-df-container {\n",
              "      display:flex;\n",
              "      flex-wrap:wrap;\n",
              "      gap: 12px;\n",
              "    }\n",
              "\n",
              "    .colab-df-convert {\n",
              "      background-color: #E8F0FE;\n",
              "      border: none;\n",
              "      border-radius: 50%;\n",
              "      cursor: pointer;\n",
              "      display: none;\n",
              "      fill: #1967D2;\n",
              "      height: 32px;\n",
              "      padding: 0 0 0 0;\n",
              "      width: 32px;\n",
              "    }\n",
              "\n",
              "    .colab-df-convert:hover {\n",
              "      background-color: #E2EBFA;\n",
              "      box-shadow: 0px 1px 2px rgba(60, 64, 67, 0.3), 0px 1px 3px 1px rgba(60, 64, 67, 0.15);\n",
              "      fill: #174EA6;\n",
              "    }\n",
              "\n",
              "    [theme=dark] .colab-df-convert {\n",
              "      background-color: #3B4455;\n",
              "      fill: #D2E3FC;\n",
              "    }\n",
              "\n",
              "    [theme=dark] .colab-df-convert:hover {\n",
              "      background-color: #434B5C;\n",
              "      box-shadow: 0px 1px 3px 1px rgba(0, 0, 0, 0.15);\n",
              "      filter: drop-shadow(0px 1px 2px rgba(0, 0, 0, 0.3));\n",
              "      fill: #FFFFFF;\n",
              "    }\n",
              "  </style>\n",
              "\n",
              "      <script>\n",
              "        const buttonEl =\n",
              "          document.querySelector('#df-b968a6e3-c69e-44bb-90ea-cbadce44b3a0 button.colab-df-convert');\n",
              "        buttonEl.style.display =\n",
              "          google.colab.kernel.accessAllowed ? 'block' : 'none';\n",
              "\n",
              "        async function convertToInteractive(key) {\n",
              "          const element = document.querySelector('#df-b968a6e3-c69e-44bb-90ea-cbadce44b3a0');\n",
              "          const dataTable =\n",
              "            await google.colab.kernel.invokeFunction('convertToInteractive',\n",
              "                                                     [key], {});\n",
              "          if (!dataTable) return;\n",
              "\n",
              "          const docLinkHtml = 'Like what you see? Visit the ' +\n",
              "            '<a target=\"_blank\" href=https://colab.research.google.com/notebooks/data_table.ipynb>data table notebook</a>'\n",
              "            + ' to learn more about interactive tables.';\n",
              "          element.innerHTML = '';\n",
              "          dataTable['output_type'] = 'display_data';\n",
              "          await google.colab.output.renderOutput(dataTable, element);\n",
              "          const docLink = document.createElement('div');\n",
              "          docLink.innerHTML = docLinkHtml;\n",
              "          element.appendChild(docLink);\n",
              "        }\n",
              "      </script>\n",
              "    </div>\n",
              "  </div>\n",
              "  "
            ]
          },
          "metadata": {},
          "execution_count": 84
        }
      ]
    },
    {
      "cell_type": "code",
      "source": [
        "# Checking the columns of data\n",
        "\n",
        "data.columns"
      ],
      "metadata": {
        "colab": {
          "base_uri": "https://localhost:8080/"
        },
        "id": "Wx-KdZROvE_B",
        "outputId": "461c0291-6565-47b5-90fb-5f01eba8f5bb"
      },
      "execution_count": 85,
      "outputs": [
        {
          "output_type": "execute_result",
          "data": {
            "text/plain": [
              "Index(['Unnamed: 0', 'naffairs', 'kids', 'vryunhap', 'unhap', 'avgmarr',\n",
              "       'hapavg', 'vryhap', 'antirel', 'notrel', 'slghtrel', 'smerel', 'vryrel',\n",
              "       'yrsmarr1', 'yrsmarr2', 'yrsmarr3', 'yrsmarr4', 'yrsmarr5', 'yrsmarr6'],\n",
              "      dtype='object')"
            ]
          },
          "metadata": {},
          "execution_count": 85
        }
      ]
    },
    {
      "cell_type": "code",
      "source": [
        "# 1st Business Moment : Measures of Central Tendency\n",
        "# Calculating the Mean, Mode, Median\n",
        "\n",
        "data.mean()"
      ],
      "metadata": {
        "colab": {
          "base_uri": "https://localhost:8080/"
        },
        "id": "PVv1D_QLvH0k",
        "outputId": "0935254a-d8e7-4be6-eff8-9b30bc82d1f2"
      },
      "execution_count": 86,
      "outputs": [
        {
          "output_type": "execute_result",
          "data": {
            "text/plain": [
              "Unnamed: 0    301.000000\n",
              "naffairs        1.455907\n",
              "kids            0.715474\n",
              "vryunhap        0.026622\n",
              "unhap           0.109817\n",
              "avgmarr         0.154742\n",
              "hapavg          0.322795\n",
              "vryhap          0.386023\n",
              "antirel         0.079867\n",
              "notrel          0.272879\n",
              "slghtrel        0.214642\n",
              "smerel          0.316140\n",
              "vryrel          0.116473\n",
              "yrsmarr1        0.086522\n",
              "yrsmarr2        0.146423\n",
              "yrsmarr3        0.174709\n",
              "yrsmarr4        0.136439\n",
              "yrsmarr5        0.116473\n",
              "yrsmarr6        0.339434\n",
              "dtype: float64"
            ]
          },
          "metadata": {},
          "execution_count": 86
        }
      ]
    },
    {
      "cell_type": "code",
      "source": [
        "data.mode()"
      ],
      "metadata": {
        "colab": {
          "base_uri": "https://localhost:8080/",
          "height": 424
        },
        "id": "2GI_lFRuvJ4h",
        "outputId": "9c25d0cb-7379-4917-ebc5-aff4f286b94b"
      },
      "execution_count": 87,
      "outputs": [
        {
          "output_type": "execute_result",
          "data": {
            "text/plain": [
              "     Unnamed: 0  naffairs  kids  vryunhap  unhap  avgmarr  hapavg  vryhap  \\\n",
              "0             1       0.0   1.0       0.0    0.0      0.0     0.0     0.0   \n",
              "1             2       NaN   NaN       NaN    NaN      NaN     NaN     NaN   \n",
              "2             3       NaN   NaN       NaN    NaN      NaN     NaN     NaN   \n",
              "3             4       NaN   NaN       NaN    NaN      NaN     NaN     NaN   \n",
              "4             5       NaN   NaN       NaN    NaN      NaN     NaN     NaN   \n",
              "..          ...       ...   ...       ...    ...      ...     ...     ...   \n",
              "596         597       NaN   NaN       NaN    NaN      NaN     NaN     NaN   \n",
              "597         598       NaN   NaN       NaN    NaN      NaN     NaN     NaN   \n",
              "598         599       NaN   NaN       NaN    NaN      NaN     NaN     NaN   \n",
              "599         600       NaN   NaN       NaN    NaN      NaN     NaN     NaN   \n",
              "600         601       NaN   NaN       NaN    NaN      NaN     NaN     NaN   \n",
              "\n",
              "     antirel  notrel  slghtrel  smerel  vryrel  yrsmarr1  yrsmarr2  yrsmarr3  \\\n",
              "0        0.0     0.0       0.0     0.0     0.0       0.0       0.0       0.0   \n",
              "1        NaN     NaN       NaN     NaN     NaN       NaN       NaN       NaN   \n",
              "2        NaN     NaN       NaN     NaN     NaN       NaN       NaN       NaN   \n",
              "3        NaN     NaN       NaN     NaN     NaN       NaN       NaN       NaN   \n",
              "4        NaN     NaN       NaN     NaN     NaN       NaN       NaN       NaN   \n",
              "..       ...     ...       ...     ...     ...       ...       ...       ...   \n",
              "596      NaN     NaN       NaN     NaN     NaN       NaN       NaN       NaN   \n",
              "597      NaN     NaN       NaN     NaN     NaN       NaN       NaN       NaN   \n",
              "598      NaN     NaN       NaN     NaN     NaN       NaN       NaN       NaN   \n",
              "599      NaN     NaN       NaN     NaN     NaN       NaN       NaN       NaN   \n",
              "600      NaN     NaN       NaN     NaN     NaN       NaN       NaN       NaN   \n",
              "\n",
              "     yrsmarr4  yrsmarr5  yrsmarr6  \n",
              "0         0.0       0.0       0.0  \n",
              "1         NaN       NaN       NaN  \n",
              "2         NaN       NaN       NaN  \n",
              "3         NaN       NaN       NaN  \n",
              "4         NaN       NaN       NaN  \n",
              "..        ...       ...       ...  \n",
              "596       NaN       NaN       NaN  \n",
              "597       NaN       NaN       NaN  \n",
              "598       NaN       NaN       NaN  \n",
              "599       NaN       NaN       NaN  \n",
              "600       NaN       NaN       NaN  \n",
              "\n",
              "[601 rows x 19 columns]"
            ],
            "text/html": [
              "\n",
              "  <div id=\"df-ab5667aa-31a1-49b0-bba1-be7ede72d6a6\">\n",
              "    <div class=\"colab-df-container\">\n",
              "      <div>\n",
              "<style scoped>\n",
              "    .dataframe tbody tr th:only-of-type {\n",
              "        vertical-align: middle;\n",
              "    }\n",
              "\n",
              "    .dataframe tbody tr th {\n",
              "        vertical-align: top;\n",
              "    }\n",
              "\n",
              "    .dataframe thead th {\n",
              "        text-align: right;\n",
              "    }\n",
              "</style>\n",
              "<table border=\"1\" class=\"dataframe\">\n",
              "  <thead>\n",
              "    <tr style=\"text-align: right;\">\n",
              "      <th></th>\n",
              "      <th>Unnamed: 0</th>\n",
              "      <th>naffairs</th>\n",
              "      <th>kids</th>\n",
              "      <th>vryunhap</th>\n",
              "      <th>unhap</th>\n",
              "      <th>avgmarr</th>\n",
              "      <th>hapavg</th>\n",
              "      <th>vryhap</th>\n",
              "      <th>antirel</th>\n",
              "      <th>notrel</th>\n",
              "      <th>slghtrel</th>\n",
              "      <th>smerel</th>\n",
              "      <th>vryrel</th>\n",
              "      <th>yrsmarr1</th>\n",
              "      <th>yrsmarr2</th>\n",
              "      <th>yrsmarr3</th>\n",
              "      <th>yrsmarr4</th>\n",
              "      <th>yrsmarr5</th>\n",
              "      <th>yrsmarr6</th>\n",
              "    </tr>\n",
              "  </thead>\n",
              "  <tbody>\n",
              "    <tr>\n",
              "      <th>0</th>\n",
              "      <td>1</td>\n",
              "      <td>0.0</td>\n",
              "      <td>1.0</td>\n",
              "      <td>0.0</td>\n",
              "      <td>0.0</td>\n",
              "      <td>0.0</td>\n",
              "      <td>0.0</td>\n",
              "      <td>0.0</td>\n",
              "      <td>0.0</td>\n",
              "      <td>0.0</td>\n",
              "      <td>0.0</td>\n",
              "      <td>0.0</td>\n",
              "      <td>0.0</td>\n",
              "      <td>0.0</td>\n",
              "      <td>0.0</td>\n",
              "      <td>0.0</td>\n",
              "      <td>0.0</td>\n",
              "      <td>0.0</td>\n",
              "      <td>0.0</td>\n",
              "    </tr>\n",
              "    <tr>\n",
              "      <th>1</th>\n",
              "      <td>2</td>\n",
              "      <td>NaN</td>\n",
              "      <td>NaN</td>\n",
              "      <td>NaN</td>\n",
              "      <td>NaN</td>\n",
              "      <td>NaN</td>\n",
              "      <td>NaN</td>\n",
              "      <td>NaN</td>\n",
              "      <td>NaN</td>\n",
              "      <td>NaN</td>\n",
              "      <td>NaN</td>\n",
              "      <td>NaN</td>\n",
              "      <td>NaN</td>\n",
              "      <td>NaN</td>\n",
              "      <td>NaN</td>\n",
              "      <td>NaN</td>\n",
              "      <td>NaN</td>\n",
              "      <td>NaN</td>\n",
              "      <td>NaN</td>\n",
              "    </tr>\n",
              "    <tr>\n",
              "      <th>2</th>\n",
              "      <td>3</td>\n",
              "      <td>NaN</td>\n",
              "      <td>NaN</td>\n",
              "      <td>NaN</td>\n",
              "      <td>NaN</td>\n",
              "      <td>NaN</td>\n",
              "      <td>NaN</td>\n",
              "      <td>NaN</td>\n",
              "      <td>NaN</td>\n",
              "      <td>NaN</td>\n",
              "      <td>NaN</td>\n",
              "      <td>NaN</td>\n",
              "      <td>NaN</td>\n",
              "      <td>NaN</td>\n",
              "      <td>NaN</td>\n",
              "      <td>NaN</td>\n",
              "      <td>NaN</td>\n",
              "      <td>NaN</td>\n",
              "      <td>NaN</td>\n",
              "    </tr>\n",
              "    <tr>\n",
              "      <th>3</th>\n",
              "      <td>4</td>\n",
              "      <td>NaN</td>\n",
              "      <td>NaN</td>\n",
              "      <td>NaN</td>\n",
              "      <td>NaN</td>\n",
              "      <td>NaN</td>\n",
              "      <td>NaN</td>\n",
              "      <td>NaN</td>\n",
              "      <td>NaN</td>\n",
              "      <td>NaN</td>\n",
              "      <td>NaN</td>\n",
              "      <td>NaN</td>\n",
              "      <td>NaN</td>\n",
              "      <td>NaN</td>\n",
              "      <td>NaN</td>\n",
              "      <td>NaN</td>\n",
              "      <td>NaN</td>\n",
              "      <td>NaN</td>\n",
              "      <td>NaN</td>\n",
              "    </tr>\n",
              "    <tr>\n",
              "      <th>4</th>\n",
              "      <td>5</td>\n",
              "      <td>NaN</td>\n",
              "      <td>NaN</td>\n",
              "      <td>NaN</td>\n",
              "      <td>NaN</td>\n",
              "      <td>NaN</td>\n",
              "      <td>NaN</td>\n",
              "      <td>NaN</td>\n",
              "      <td>NaN</td>\n",
              "      <td>NaN</td>\n",
              "      <td>NaN</td>\n",
              "      <td>NaN</td>\n",
              "      <td>NaN</td>\n",
              "      <td>NaN</td>\n",
              "      <td>NaN</td>\n",
              "      <td>NaN</td>\n",
              "      <td>NaN</td>\n",
              "      <td>NaN</td>\n",
              "      <td>NaN</td>\n",
              "    </tr>\n",
              "    <tr>\n",
              "      <th>...</th>\n",
              "      <td>...</td>\n",
              "      <td>...</td>\n",
              "      <td>...</td>\n",
              "      <td>...</td>\n",
              "      <td>...</td>\n",
              "      <td>...</td>\n",
              "      <td>...</td>\n",
              "      <td>...</td>\n",
              "      <td>...</td>\n",
              "      <td>...</td>\n",
              "      <td>...</td>\n",
              "      <td>...</td>\n",
              "      <td>...</td>\n",
              "      <td>...</td>\n",
              "      <td>...</td>\n",
              "      <td>...</td>\n",
              "      <td>...</td>\n",
              "      <td>...</td>\n",
              "      <td>...</td>\n",
              "    </tr>\n",
              "    <tr>\n",
              "      <th>596</th>\n",
              "      <td>597</td>\n",
              "      <td>NaN</td>\n",
              "      <td>NaN</td>\n",
              "      <td>NaN</td>\n",
              "      <td>NaN</td>\n",
              "      <td>NaN</td>\n",
              "      <td>NaN</td>\n",
              "      <td>NaN</td>\n",
              "      <td>NaN</td>\n",
              "      <td>NaN</td>\n",
              "      <td>NaN</td>\n",
              "      <td>NaN</td>\n",
              "      <td>NaN</td>\n",
              "      <td>NaN</td>\n",
              "      <td>NaN</td>\n",
              "      <td>NaN</td>\n",
              "      <td>NaN</td>\n",
              "      <td>NaN</td>\n",
              "      <td>NaN</td>\n",
              "    </tr>\n",
              "    <tr>\n",
              "      <th>597</th>\n",
              "      <td>598</td>\n",
              "      <td>NaN</td>\n",
              "      <td>NaN</td>\n",
              "      <td>NaN</td>\n",
              "      <td>NaN</td>\n",
              "      <td>NaN</td>\n",
              "      <td>NaN</td>\n",
              "      <td>NaN</td>\n",
              "      <td>NaN</td>\n",
              "      <td>NaN</td>\n",
              "      <td>NaN</td>\n",
              "      <td>NaN</td>\n",
              "      <td>NaN</td>\n",
              "      <td>NaN</td>\n",
              "      <td>NaN</td>\n",
              "      <td>NaN</td>\n",
              "      <td>NaN</td>\n",
              "      <td>NaN</td>\n",
              "      <td>NaN</td>\n",
              "    </tr>\n",
              "    <tr>\n",
              "      <th>598</th>\n",
              "      <td>599</td>\n",
              "      <td>NaN</td>\n",
              "      <td>NaN</td>\n",
              "      <td>NaN</td>\n",
              "      <td>NaN</td>\n",
              "      <td>NaN</td>\n",
              "      <td>NaN</td>\n",
              "      <td>NaN</td>\n",
              "      <td>NaN</td>\n",
              "      <td>NaN</td>\n",
              "      <td>NaN</td>\n",
              "      <td>NaN</td>\n",
              "      <td>NaN</td>\n",
              "      <td>NaN</td>\n",
              "      <td>NaN</td>\n",
              "      <td>NaN</td>\n",
              "      <td>NaN</td>\n",
              "      <td>NaN</td>\n",
              "      <td>NaN</td>\n",
              "    </tr>\n",
              "    <tr>\n",
              "      <th>599</th>\n",
              "      <td>600</td>\n",
              "      <td>NaN</td>\n",
              "      <td>NaN</td>\n",
              "      <td>NaN</td>\n",
              "      <td>NaN</td>\n",
              "      <td>NaN</td>\n",
              "      <td>NaN</td>\n",
              "      <td>NaN</td>\n",
              "      <td>NaN</td>\n",
              "      <td>NaN</td>\n",
              "      <td>NaN</td>\n",
              "      <td>NaN</td>\n",
              "      <td>NaN</td>\n",
              "      <td>NaN</td>\n",
              "      <td>NaN</td>\n",
              "      <td>NaN</td>\n",
              "      <td>NaN</td>\n",
              "      <td>NaN</td>\n",
              "      <td>NaN</td>\n",
              "    </tr>\n",
              "    <tr>\n",
              "      <th>600</th>\n",
              "      <td>601</td>\n",
              "      <td>NaN</td>\n",
              "      <td>NaN</td>\n",
              "      <td>NaN</td>\n",
              "      <td>NaN</td>\n",
              "      <td>NaN</td>\n",
              "      <td>NaN</td>\n",
              "      <td>NaN</td>\n",
              "      <td>NaN</td>\n",
              "      <td>NaN</td>\n",
              "      <td>NaN</td>\n",
              "      <td>NaN</td>\n",
              "      <td>NaN</td>\n",
              "      <td>NaN</td>\n",
              "      <td>NaN</td>\n",
              "      <td>NaN</td>\n",
              "      <td>NaN</td>\n",
              "      <td>NaN</td>\n",
              "      <td>NaN</td>\n",
              "    </tr>\n",
              "  </tbody>\n",
              "</table>\n",
              "<p>601 rows × 19 columns</p>\n",
              "</div>\n",
              "      <button class=\"colab-df-convert\" onclick=\"convertToInteractive('df-ab5667aa-31a1-49b0-bba1-be7ede72d6a6')\"\n",
              "              title=\"Convert this dataframe to an interactive table.\"\n",
              "              style=\"display:none;\">\n",
              "        \n",
              "  <svg xmlns=\"http://www.w3.org/2000/svg\" height=\"24px\"viewBox=\"0 0 24 24\"\n",
              "       width=\"24px\">\n",
              "    <path d=\"M0 0h24v24H0V0z\" fill=\"none\"/>\n",
              "    <path d=\"M18.56 5.44l.94 2.06.94-2.06 2.06-.94-2.06-.94-.94-2.06-.94 2.06-2.06.94zm-11 1L8.5 8.5l.94-2.06 2.06-.94-2.06-.94L8.5 2.5l-.94 2.06-2.06.94zm10 10l.94 2.06.94-2.06 2.06-.94-2.06-.94-.94-2.06-.94 2.06-2.06.94z\"/><path d=\"M17.41 7.96l-1.37-1.37c-.4-.4-.92-.59-1.43-.59-.52 0-1.04.2-1.43.59L10.3 9.45l-7.72 7.72c-.78.78-.78 2.05 0 2.83L4 21.41c.39.39.9.59 1.41.59.51 0 1.02-.2 1.41-.59l7.78-7.78 2.81-2.81c.8-.78.8-2.07 0-2.86zM5.41 20L4 18.59l7.72-7.72 1.47 1.35L5.41 20z\"/>\n",
              "  </svg>\n",
              "      </button>\n",
              "      \n",
              "  <style>\n",
              "    .colab-df-container {\n",
              "      display:flex;\n",
              "      flex-wrap:wrap;\n",
              "      gap: 12px;\n",
              "    }\n",
              "\n",
              "    .colab-df-convert {\n",
              "      background-color: #E8F0FE;\n",
              "      border: none;\n",
              "      border-radius: 50%;\n",
              "      cursor: pointer;\n",
              "      display: none;\n",
              "      fill: #1967D2;\n",
              "      height: 32px;\n",
              "      padding: 0 0 0 0;\n",
              "      width: 32px;\n",
              "    }\n",
              "\n",
              "    .colab-df-convert:hover {\n",
              "      background-color: #E2EBFA;\n",
              "      box-shadow: 0px 1px 2px rgba(60, 64, 67, 0.3), 0px 1px 3px 1px rgba(60, 64, 67, 0.15);\n",
              "      fill: #174EA6;\n",
              "    }\n",
              "\n",
              "    [theme=dark] .colab-df-convert {\n",
              "      background-color: #3B4455;\n",
              "      fill: #D2E3FC;\n",
              "    }\n",
              "\n",
              "    [theme=dark] .colab-df-convert:hover {\n",
              "      background-color: #434B5C;\n",
              "      box-shadow: 0px 1px 3px 1px rgba(0, 0, 0, 0.15);\n",
              "      filter: drop-shadow(0px 1px 2px rgba(0, 0, 0, 0.3));\n",
              "      fill: #FFFFFF;\n",
              "    }\n",
              "  </style>\n",
              "\n",
              "      <script>\n",
              "        const buttonEl =\n",
              "          document.querySelector('#df-ab5667aa-31a1-49b0-bba1-be7ede72d6a6 button.colab-df-convert');\n",
              "        buttonEl.style.display =\n",
              "          google.colab.kernel.accessAllowed ? 'block' : 'none';\n",
              "\n",
              "        async function convertToInteractive(key) {\n",
              "          const element = document.querySelector('#df-ab5667aa-31a1-49b0-bba1-be7ede72d6a6');\n",
              "          const dataTable =\n",
              "            await google.colab.kernel.invokeFunction('convertToInteractive',\n",
              "                                                     [key], {});\n",
              "          if (!dataTable) return;\n",
              "\n",
              "          const docLinkHtml = 'Like what you see? Visit the ' +\n",
              "            '<a target=\"_blank\" href=https://colab.research.google.com/notebooks/data_table.ipynb>data table notebook</a>'\n",
              "            + ' to learn more about interactive tables.';\n",
              "          element.innerHTML = '';\n",
              "          dataTable['output_type'] = 'display_data';\n",
              "          await google.colab.output.renderOutput(dataTable, element);\n",
              "          const docLink = document.createElement('div');\n",
              "          docLink.innerHTML = docLinkHtml;\n",
              "          element.appendChild(docLink);\n",
              "        }\n",
              "      </script>\n",
              "    </div>\n",
              "  </div>\n",
              "  "
            ]
          },
          "metadata": {},
          "execution_count": 87
        }
      ]
    },
    {
      "cell_type": "code",
      "source": [
        "data.median()"
      ],
      "metadata": {
        "colab": {
          "base_uri": "https://localhost:8080/"
        },
        "id": "6zwPp7d1vNY8",
        "outputId": "fc91122c-b40c-4ad6-f92c-72cb8e0f392b"
      },
      "execution_count": 88,
      "outputs": [
        {
          "output_type": "execute_result",
          "data": {
            "text/plain": [
              "Unnamed: 0    301.0\n",
              "naffairs        0.0\n",
              "kids            1.0\n",
              "vryunhap        0.0\n",
              "unhap           0.0\n",
              "avgmarr         0.0\n",
              "hapavg          0.0\n",
              "vryhap          0.0\n",
              "antirel         0.0\n",
              "notrel          0.0\n",
              "slghtrel        0.0\n",
              "smerel          0.0\n",
              "vryrel          0.0\n",
              "yrsmarr1        0.0\n",
              "yrsmarr2        0.0\n",
              "yrsmarr3        0.0\n",
              "yrsmarr4        0.0\n",
              "yrsmarr5        0.0\n",
              "yrsmarr6        0.0\n",
              "dtype: float64"
            ]
          },
          "metadata": {},
          "execution_count": 88
        }
      ]
    },
    {
      "cell_type": "code",
      "source": [
        "# 2nd Business Moment : MEasures of Disperstion\n",
        "# Calculating the variance and Standard Deviation\n",
        "\n",
        "data.var()"
      ],
      "metadata": {
        "colab": {
          "base_uri": "https://localhost:8080/"
        },
        "id": "slStQph-vO1B",
        "outputId": "44308f7c-defa-4b65-f493-701d2eb70e44"
      },
      "execution_count": 89,
      "outputs": [
        {
          "output_type": "execute_result",
          "data": {
            "text/plain": [
              "Unnamed: 0    30150.166667\n",
              "naffairs         10.881803\n",
              "kids              0.203910\n",
              "vryunhap          0.025957\n",
              "unhap             0.097920\n",
              "avgmarr           0.131015\n",
              "hapavg            0.218963\n",
              "vryhap            0.237404\n",
              "antirel           0.073611\n",
              "notrel            0.198747\n",
              "slghtrel          0.168852\n",
              "smerel            0.216556\n",
              "vryrel            0.103078\n",
              "yrsmarr1          0.079168\n",
              "yrsmarr2          0.125191\n",
              "yrsmarr3          0.144426\n",
              "yrsmarr4          0.118020\n",
              "yrsmarr5          0.103078\n",
              "yrsmarr6          0.224592\n",
              "dtype: float64"
            ]
          },
          "metadata": {},
          "execution_count": 89
        }
      ]
    },
    {
      "cell_type": "code",
      "source": [
        "data.std()"
      ],
      "metadata": {
        "colab": {
          "base_uri": "https://localhost:8080/"
        },
        "id": "9cHSLV1pvQnZ",
        "outputId": "fd587df5-8a26-4c21-c49e-87b036677828"
      },
      "execution_count": 90,
      "outputs": [
        {
          "output_type": "execute_result",
          "data": {
            "text/plain": [
              "Unnamed: 0    173.638033\n",
              "naffairs        3.298758\n",
              "kids            0.451564\n",
              "vryunhap        0.161111\n",
              "unhap           0.312922\n",
              "avgmarr         0.361960\n",
              "hapavg          0.467935\n",
              "vryhap          0.487242\n",
              "antirel         0.271313\n",
              "notrel          0.445810\n",
              "slghtrel        0.410916\n",
              "smerel          0.465355\n",
              "vryrel          0.321058\n",
              "yrsmarr1        0.281368\n",
              "yrsmarr2        0.353824\n",
              "yrsmarr3        0.380034\n",
              "yrsmarr4        0.343540\n",
              "yrsmarr5        0.321058\n",
              "yrsmarr6        0.473912\n",
              "dtype: float64"
            ]
          },
          "metadata": {},
          "execution_count": 90
        }
      ]
    },
    {
      "cell_type": "code",
      "source": [
        "# 3rd Business Moment : MEasures of Skewness\n",
        "\n",
        "data.skew()"
      ],
      "metadata": {
        "colab": {
          "base_uri": "https://localhost:8080/"
        },
        "id": "sfXfwNMKvTgV",
        "outputId": "a42bdf20-4fd5-4f78-f4be-1a0146bc3ec1"
      },
      "execution_count": 91,
      "outputs": [
        {
          "output_type": "execute_result",
          "data": {
            "text/plain": [
              "Unnamed: 0    0.000000\n",
              "naffairs      2.346998\n",
              "kids         -0.957532\n",
              "vryunhap      5.896039\n",
              "unhap         2.502131\n",
              "avgmarr       1.914083\n",
              "hapavg        0.759919\n",
              "vryhap        0.469407\n",
              "antirel       3.107379\n",
              "notrel        1.022318\n",
              "slghtrel      1.393524\n",
              "smerel        0.792831\n",
              "vryrel        2.397125\n",
              "yrsmarr1      2.948863\n",
              "yrsmarr2      2.005280\n",
              "yrsmarr3      1.717621\n",
              "yrsmarr4      2.123620\n",
              "yrsmarr5      2.397125\n",
              "yrsmarr6      0.679881\n",
              "dtype: float64"
            ]
          },
          "metadata": {},
          "execution_count": 91
        }
      ]
    },
    {
      "cell_type": "code",
      "source": [
        "# 4th Business Moment : Measures of Kurtisos\n",
        "\n",
        "data.kurt()"
      ],
      "metadata": {
        "colab": {
          "base_uri": "https://localhost:8080/"
        },
        "id": "PDTOGz_ZvXtA",
        "outputId": "58cc41b5-b597-4c13-e9e2-fe83b42b40e1"
      },
      "execution_count": 92,
      "outputs": [
        {
          "output_type": "execute_result",
          "data": {
            "text/plain": [
              "Unnamed: 0    -1.200000\n",
              "naffairs       4.256882\n",
              "kids          -1.086759\n",
              "vryunhap      32.872664\n",
              "unhap          4.274874\n",
              "avgmarr        1.669258\n",
              "hapavg        -1.427283\n",
              "vryhap        -1.785610\n",
              "antirel        7.681355\n",
              "notrel        -0.958065\n",
              "slghtrel      -0.058297\n",
              "smerel        -1.376009\n",
              "vryrel         3.758705\n",
              "yrsmarr1       6.718138\n",
              "yrsmarr2       2.027884\n",
              "yrsmarr3       0.953383\n",
              "yrsmarr4       2.518132\n",
              "yrsmarr5       3.758705\n",
              "yrsmarr6      -1.542907\n",
              "dtype: float64"
            ]
          },
          "metadata": {},
          "execution_count": 92
        }
      ]
    },
    {
      "cell_type": "code",
      "source": [
        "# Removing the col \n",
        "\n",
        "data.pop('Unnamed: 0')\n",
        "data"
      ],
      "metadata": {
        "colab": {
          "base_uri": "https://localhost:8080/",
          "height": 424
        },
        "id": "665gFNxWvZVt",
        "outputId": "e0be4115-ba66-4e2c-b944-7e6b23db6e30"
      },
      "execution_count": 93,
      "outputs": [
        {
          "output_type": "execute_result",
          "data": {
            "text/plain": [
              "     naffairs  kids  vryunhap  unhap  avgmarr  hapavg  vryhap  antirel  \\\n",
              "0           0     0         0      0        0       1       0        0   \n",
              "1           0     0         0      0        0       1       0        0   \n",
              "2           3     0         0      0        0       1       0        0   \n",
              "3           0     1         0      0        0       1       0        1   \n",
              "4           3     1         0      0        0       0       1        0   \n",
              "..        ...   ...       ...    ...      ...     ...     ...      ...   \n",
              "596         0     0         0      0        0       1       0        0   \n",
              "597         1     1         0      0        0       0       1        0   \n",
              "598         0     1         0      1        0       0       0        0   \n",
              "599         0     1         0      0        0       1       0        0   \n",
              "600         0     1         0      0        0       1       0        0   \n",
              "\n",
              "     notrel  slghtrel  smerel  vryrel  yrsmarr1  yrsmarr2  yrsmarr3  yrsmarr4  \\\n",
              "0         0         1       0       0         0         0         0         0   \n",
              "1         0         0       1       0         0         0         1         0   \n",
              "2         0         1       0       0         0         1         0         0   \n",
              "3         0         0       0       0         0         0         0         0   \n",
              "4         0         1       0       0         0         0         1         0   \n",
              "..      ...       ...     ...     ...       ...       ...       ...       ...   \n",
              "596       0         0       1       0         0         0         0         0   \n",
              "597       0         1       0       0         0         0         0         0   \n",
              "598       1         0       0       0         0         0         0         0   \n",
              "599       0         1       0       0         0         0         0         0   \n",
              "600       1         0       0       0         0         0         1         0   \n",
              "\n",
              "     yrsmarr5  yrsmarr6  \n",
              "0           1         0  \n",
              "1           0         0  \n",
              "2           0         0  \n",
              "3           0         1  \n",
              "4           0         0  \n",
              "..        ...       ...  \n",
              "596         0         1  \n",
              "597         0         1  \n",
              "598         1         0  \n",
              "599         0         1  \n",
              "600         0         0  \n",
              "\n",
              "[601 rows x 18 columns]"
            ],
            "text/html": [
              "\n",
              "  <div id=\"df-443166ea-41fc-4783-a7fe-f3e11d3618b0\">\n",
              "    <div class=\"colab-df-container\">\n",
              "      <div>\n",
              "<style scoped>\n",
              "    .dataframe tbody tr th:only-of-type {\n",
              "        vertical-align: middle;\n",
              "    }\n",
              "\n",
              "    .dataframe tbody tr th {\n",
              "        vertical-align: top;\n",
              "    }\n",
              "\n",
              "    .dataframe thead th {\n",
              "        text-align: right;\n",
              "    }\n",
              "</style>\n",
              "<table border=\"1\" class=\"dataframe\">\n",
              "  <thead>\n",
              "    <tr style=\"text-align: right;\">\n",
              "      <th></th>\n",
              "      <th>naffairs</th>\n",
              "      <th>kids</th>\n",
              "      <th>vryunhap</th>\n",
              "      <th>unhap</th>\n",
              "      <th>avgmarr</th>\n",
              "      <th>hapavg</th>\n",
              "      <th>vryhap</th>\n",
              "      <th>antirel</th>\n",
              "      <th>notrel</th>\n",
              "      <th>slghtrel</th>\n",
              "      <th>smerel</th>\n",
              "      <th>vryrel</th>\n",
              "      <th>yrsmarr1</th>\n",
              "      <th>yrsmarr2</th>\n",
              "      <th>yrsmarr3</th>\n",
              "      <th>yrsmarr4</th>\n",
              "      <th>yrsmarr5</th>\n",
              "      <th>yrsmarr6</th>\n",
              "    </tr>\n",
              "  </thead>\n",
              "  <tbody>\n",
              "    <tr>\n",
              "      <th>0</th>\n",
              "      <td>0</td>\n",
              "      <td>0</td>\n",
              "      <td>0</td>\n",
              "      <td>0</td>\n",
              "      <td>0</td>\n",
              "      <td>1</td>\n",
              "      <td>0</td>\n",
              "      <td>0</td>\n",
              "      <td>0</td>\n",
              "      <td>1</td>\n",
              "      <td>0</td>\n",
              "      <td>0</td>\n",
              "      <td>0</td>\n",
              "      <td>0</td>\n",
              "      <td>0</td>\n",
              "      <td>0</td>\n",
              "      <td>1</td>\n",
              "      <td>0</td>\n",
              "    </tr>\n",
              "    <tr>\n",
              "      <th>1</th>\n",
              "      <td>0</td>\n",
              "      <td>0</td>\n",
              "      <td>0</td>\n",
              "      <td>0</td>\n",
              "      <td>0</td>\n",
              "      <td>1</td>\n",
              "      <td>0</td>\n",
              "      <td>0</td>\n",
              "      <td>0</td>\n",
              "      <td>0</td>\n",
              "      <td>1</td>\n",
              "      <td>0</td>\n",
              "      <td>0</td>\n",
              "      <td>0</td>\n",
              "      <td>1</td>\n",
              "      <td>0</td>\n",
              "      <td>0</td>\n",
              "      <td>0</td>\n",
              "    </tr>\n",
              "    <tr>\n",
              "      <th>2</th>\n",
              "      <td>3</td>\n",
              "      <td>0</td>\n",
              "      <td>0</td>\n",
              "      <td>0</td>\n",
              "      <td>0</td>\n",
              "      <td>1</td>\n",
              "      <td>0</td>\n",
              "      <td>0</td>\n",
              "      <td>0</td>\n",
              "      <td>1</td>\n",
              "      <td>0</td>\n",
              "      <td>0</td>\n",
              "      <td>0</td>\n",
              "      <td>1</td>\n",
              "      <td>0</td>\n",
              "      <td>0</td>\n",
              "      <td>0</td>\n",
              "      <td>0</td>\n",
              "    </tr>\n",
              "    <tr>\n",
              "      <th>3</th>\n",
              "      <td>0</td>\n",
              "      <td>1</td>\n",
              "      <td>0</td>\n",
              "      <td>0</td>\n",
              "      <td>0</td>\n",
              "      <td>1</td>\n",
              "      <td>0</td>\n",
              "      <td>1</td>\n",
              "      <td>0</td>\n",
              "      <td>0</td>\n",
              "      <td>0</td>\n",
              "      <td>0</td>\n",
              "      <td>0</td>\n",
              "      <td>0</td>\n",
              "      <td>0</td>\n",
              "      <td>0</td>\n",
              "      <td>0</td>\n",
              "      <td>1</td>\n",
              "    </tr>\n",
              "    <tr>\n",
              "      <th>4</th>\n",
              "      <td>3</td>\n",
              "      <td>1</td>\n",
              "      <td>0</td>\n",
              "      <td>0</td>\n",
              "      <td>0</td>\n",
              "      <td>0</td>\n",
              "      <td>1</td>\n",
              "      <td>0</td>\n",
              "      <td>0</td>\n",
              "      <td>1</td>\n",
              "      <td>0</td>\n",
              "      <td>0</td>\n",
              "      <td>0</td>\n",
              "      <td>0</td>\n",
              "      <td>1</td>\n",
              "      <td>0</td>\n",
              "      <td>0</td>\n",
              "      <td>0</td>\n",
              "    </tr>\n",
              "    <tr>\n",
              "      <th>...</th>\n",
              "      <td>...</td>\n",
              "      <td>...</td>\n",
              "      <td>...</td>\n",
              "      <td>...</td>\n",
              "      <td>...</td>\n",
              "      <td>...</td>\n",
              "      <td>...</td>\n",
              "      <td>...</td>\n",
              "      <td>...</td>\n",
              "      <td>...</td>\n",
              "      <td>...</td>\n",
              "      <td>...</td>\n",
              "      <td>...</td>\n",
              "      <td>...</td>\n",
              "      <td>...</td>\n",
              "      <td>...</td>\n",
              "      <td>...</td>\n",
              "      <td>...</td>\n",
              "    </tr>\n",
              "    <tr>\n",
              "      <th>596</th>\n",
              "      <td>0</td>\n",
              "      <td>0</td>\n",
              "      <td>0</td>\n",
              "      <td>0</td>\n",
              "      <td>0</td>\n",
              "      <td>1</td>\n",
              "      <td>0</td>\n",
              "      <td>0</td>\n",
              "      <td>0</td>\n",
              "      <td>0</td>\n",
              "      <td>1</td>\n",
              "      <td>0</td>\n",
              "      <td>0</td>\n",
              "      <td>0</td>\n",
              "      <td>0</td>\n",
              "      <td>0</td>\n",
              "      <td>0</td>\n",
              "      <td>1</td>\n",
              "    </tr>\n",
              "    <tr>\n",
              "      <th>597</th>\n",
              "      <td>1</td>\n",
              "      <td>1</td>\n",
              "      <td>0</td>\n",
              "      <td>0</td>\n",
              "      <td>0</td>\n",
              "      <td>0</td>\n",
              "      <td>1</td>\n",
              "      <td>0</td>\n",
              "      <td>0</td>\n",
              "      <td>1</td>\n",
              "      <td>0</td>\n",
              "      <td>0</td>\n",
              "      <td>0</td>\n",
              "      <td>0</td>\n",
              "      <td>0</td>\n",
              "      <td>0</td>\n",
              "      <td>0</td>\n",
              "      <td>1</td>\n",
              "    </tr>\n",
              "    <tr>\n",
              "      <th>598</th>\n",
              "      <td>0</td>\n",
              "      <td>1</td>\n",
              "      <td>0</td>\n",
              "      <td>1</td>\n",
              "      <td>0</td>\n",
              "      <td>0</td>\n",
              "      <td>0</td>\n",
              "      <td>0</td>\n",
              "      <td>1</td>\n",
              "      <td>0</td>\n",
              "      <td>0</td>\n",
              "      <td>0</td>\n",
              "      <td>0</td>\n",
              "      <td>0</td>\n",
              "      <td>0</td>\n",
              "      <td>0</td>\n",
              "      <td>1</td>\n",
              "      <td>0</td>\n",
              "    </tr>\n",
              "    <tr>\n",
              "      <th>599</th>\n",
              "      <td>0</td>\n",
              "      <td>1</td>\n",
              "      <td>0</td>\n",
              "      <td>0</td>\n",
              "      <td>0</td>\n",
              "      <td>1</td>\n",
              "      <td>0</td>\n",
              "      <td>0</td>\n",
              "      <td>0</td>\n",
              "      <td>1</td>\n",
              "      <td>0</td>\n",
              "      <td>0</td>\n",
              "      <td>0</td>\n",
              "      <td>0</td>\n",
              "      <td>0</td>\n",
              "      <td>0</td>\n",
              "      <td>0</td>\n",
              "      <td>1</td>\n",
              "    </tr>\n",
              "    <tr>\n",
              "      <th>600</th>\n",
              "      <td>0</td>\n",
              "      <td>1</td>\n",
              "      <td>0</td>\n",
              "      <td>0</td>\n",
              "      <td>0</td>\n",
              "      <td>1</td>\n",
              "      <td>0</td>\n",
              "      <td>0</td>\n",
              "      <td>1</td>\n",
              "      <td>0</td>\n",
              "      <td>0</td>\n",
              "      <td>0</td>\n",
              "      <td>0</td>\n",
              "      <td>0</td>\n",
              "      <td>1</td>\n",
              "      <td>0</td>\n",
              "      <td>0</td>\n",
              "      <td>0</td>\n",
              "    </tr>\n",
              "  </tbody>\n",
              "</table>\n",
              "<p>601 rows × 18 columns</p>\n",
              "</div>\n",
              "      <button class=\"colab-df-convert\" onclick=\"convertToInteractive('df-443166ea-41fc-4783-a7fe-f3e11d3618b0')\"\n",
              "              title=\"Convert this dataframe to an interactive table.\"\n",
              "              style=\"display:none;\">\n",
              "        \n",
              "  <svg xmlns=\"http://www.w3.org/2000/svg\" height=\"24px\"viewBox=\"0 0 24 24\"\n",
              "       width=\"24px\">\n",
              "    <path d=\"M0 0h24v24H0V0z\" fill=\"none\"/>\n",
              "    <path d=\"M18.56 5.44l.94 2.06.94-2.06 2.06-.94-2.06-.94-.94-2.06-.94 2.06-2.06.94zm-11 1L8.5 8.5l.94-2.06 2.06-.94-2.06-.94L8.5 2.5l-.94 2.06-2.06.94zm10 10l.94 2.06.94-2.06 2.06-.94-2.06-.94-.94-2.06-.94 2.06-2.06.94z\"/><path d=\"M17.41 7.96l-1.37-1.37c-.4-.4-.92-.59-1.43-.59-.52 0-1.04.2-1.43.59L10.3 9.45l-7.72 7.72c-.78.78-.78 2.05 0 2.83L4 21.41c.39.39.9.59 1.41.59.51 0 1.02-.2 1.41-.59l7.78-7.78 2.81-2.81c.8-.78.8-2.07 0-2.86zM5.41 20L4 18.59l7.72-7.72 1.47 1.35L5.41 20z\"/>\n",
              "  </svg>\n",
              "      </button>\n",
              "      \n",
              "  <style>\n",
              "    .colab-df-container {\n",
              "      display:flex;\n",
              "      flex-wrap:wrap;\n",
              "      gap: 12px;\n",
              "    }\n",
              "\n",
              "    .colab-df-convert {\n",
              "      background-color: #E8F0FE;\n",
              "      border: none;\n",
              "      border-radius: 50%;\n",
              "      cursor: pointer;\n",
              "      display: none;\n",
              "      fill: #1967D2;\n",
              "      height: 32px;\n",
              "      padding: 0 0 0 0;\n",
              "      width: 32px;\n",
              "    }\n",
              "\n",
              "    .colab-df-convert:hover {\n",
              "      background-color: #E2EBFA;\n",
              "      box-shadow: 0px 1px 2px rgba(60, 64, 67, 0.3), 0px 1px 3px 1px rgba(60, 64, 67, 0.15);\n",
              "      fill: #174EA6;\n",
              "    }\n",
              "\n",
              "    [theme=dark] .colab-df-convert {\n",
              "      background-color: #3B4455;\n",
              "      fill: #D2E3FC;\n",
              "    }\n",
              "\n",
              "    [theme=dark] .colab-df-convert:hover {\n",
              "      background-color: #434B5C;\n",
              "      box-shadow: 0px 1px 3px 1px rgba(0, 0, 0, 0.15);\n",
              "      filter: drop-shadow(0px 1px 2px rgba(0, 0, 0, 0.3));\n",
              "      fill: #FFFFFF;\n",
              "    }\n",
              "  </style>\n",
              "\n",
              "      <script>\n",
              "        const buttonEl =\n",
              "          document.querySelector('#df-443166ea-41fc-4783-a7fe-f3e11d3618b0 button.colab-df-convert');\n",
              "        buttonEl.style.display =\n",
              "          google.colab.kernel.accessAllowed ? 'block' : 'none';\n",
              "\n",
              "        async function convertToInteractive(key) {\n",
              "          const element = document.querySelector('#df-443166ea-41fc-4783-a7fe-f3e11d3618b0');\n",
              "          const dataTable =\n",
              "            await google.colab.kernel.invokeFunction('convertToInteractive',\n",
              "                                                     [key], {});\n",
              "          if (!dataTable) return;\n",
              "\n",
              "          const docLinkHtml = 'Like what you see? Visit the ' +\n",
              "            '<a target=\"_blank\" href=https://colab.research.google.com/notebooks/data_table.ipynb>data table notebook</a>'\n",
              "            + ' to learn more about interactive tables.';\n",
              "          element.innerHTML = '';\n",
              "          dataTable['output_type'] = 'display_data';\n",
              "          await google.colab.output.renderOutput(dataTable, element);\n",
              "          const docLink = document.createElement('div');\n",
              "          docLink.innerHTML = docLinkHtml;\n",
              "          element.appendChild(docLink);\n",
              "        }\n",
              "      </script>\n",
              "    </div>\n",
              "  </div>\n",
              "  "
            ]
          },
          "metadata": {},
          "execution_count": 93
        }
      ]
    },
    {
      "cell_type": "code",
      "source": [
        "# Graphical Representation"
      ],
      "metadata": {
        "id": "XnUJCdb4vbR0"
      },
      "execution_count": 94,
      "outputs": []
    },
    {
      "cell_type": "code",
      "source": [
        "# Checking the Histograms\n",
        "\n",
        "for i, col in enumerate(data.columns):\n",
        "    plt.figure(i)\n",
        "    sns.distplot(data[col])"
      ],
      "metadata": {
        "colab": {
          "base_uri": "https://localhost:8080/",
          "height": 1000
        },
        "id": "MC4cdQlSvdUt",
        "outputId": "8d7330fd-1790-4831-e054-8ef97c1ccfb4"
      },
      "execution_count": 95,
      "outputs": [
        {
          "output_type": "stream",
          "name": "stderr",
          "text": [
            "/usr/local/lib/python3.7/dist-packages/seaborn/distributions.py:2619: FutureWarning: `distplot` is a deprecated function and will be removed in a future version. Please adapt your code to use either `displot` (a figure-level function with similar flexibility) or `histplot` (an axes-level function for histograms).\n",
            "  warnings.warn(msg, FutureWarning)\n",
            "/usr/local/lib/python3.7/dist-packages/seaborn/distributions.py:2619: FutureWarning: `distplot` is a deprecated function and will be removed in a future version. Please adapt your code to use either `displot` (a figure-level function with similar flexibility) or `histplot` (an axes-level function for histograms).\n",
            "  warnings.warn(msg, FutureWarning)\n",
            "/usr/local/lib/python3.7/dist-packages/seaborn/distributions.py:2619: FutureWarning: `distplot` is a deprecated function and will be removed in a future version. Please adapt your code to use either `displot` (a figure-level function with similar flexibility) or `histplot` (an axes-level function for histograms).\n",
            "  warnings.warn(msg, FutureWarning)\n",
            "/usr/local/lib/python3.7/dist-packages/seaborn/distributions.py:2619: FutureWarning: `distplot` is a deprecated function and will be removed in a future version. Please adapt your code to use either `displot` (a figure-level function with similar flexibility) or `histplot` (an axes-level function for histograms).\n",
            "  warnings.warn(msg, FutureWarning)\n",
            "/usr/local/lib/python3.7/dist-packages/seaborn/distributions.py:2619: FutureWarning: `distplot` is a deprecated function and will be removed in a future version. Please adapt your code to use either `displot` (a figure-level function with similar flexibility) or `histplot` (an axes-level function for histograms).\n",
            "  warnings.warn(msg, FutureWarning)\n",
            "/usr/local/lib/python3.7/dist-packages/seaborn/distributions.py:2619: FutureWarning: `distplot` is a deprecated function and will be removed in a future version. Please adapt your code to use either `displot` (a figure-level function with similar flexibility) or `histplot` (an axes-level function for histograms).\n",
            "  warnings.warn(msg, FutureWarning)\n",
            "/usr/local/lib/python3.7/dist-packages/seaborn/distributions.py:2619: FutureWarning: `distplot` is a deprecated function and will be removed in a future version. Please adapt your code to use either `displot` (a figure-level function with similar flexibility) or `histplot` (an axes-level function for histograms).\n",
            "  warnings.warn(msg, FutureWarning)\n",
            "/usr/local/lib/python3.7/dist-packages/seaborn/distributions.py:2619: FutureWarning: `distplot` is a deprecated function and will be removed in a future version. Please adapt your code to use either `displot` (a figure-level function with similar flexibility) or `histplot` (an axes-level function for histograms).\n",
            "  warnings.warn(msg, FutureWarning)\n",
            "/usr/local/lib/python3.7/dist-packages/seaborn/distributions.py:2619: FutureWarning: `distplot` is a deprecated function and will be removed in a future version. Please adapt your code to use either `displot` (a figure-level function with similar flexibility) or `histplot` (an axes-level function for histograms).\n",
            "  warnings.warn(msg, FutureWarning)\n",
            "/usr/local/lib/python3.7/dist-packages/seaborn/distributions.py:2619: FutureWarning: `distplot` is a deprecated function and will be removed in a future version. Please adapt your code to use either `displot` (a figure-level function with similar flexibility) or `histplot` (an axes-level function for histograms).\n",
            "  warnings.warn(msg, FutureWarning)\n",
            "/usr/local/lib/python3.7/dist-packages/seaborn/distributions.py:2619: FutureWarning: `distplot` is a deprecated function and will be removed in a future version. Please adapt your code to use either `displot` (a figure-level function with similar flexibility) or `histplot` (an axes-level function for histograms).\n",
            "  warnings.warn(msg, FutureWarning)\n",
            "/usr/local/lib/python3.7/dist-packages/seaborn/distributions.py:2619: FutureWarning: `distplot` is a deprecated function and will be removed in a future version. Please adapt your code to use either `displot` (a figure-level function with similar flexibility) or `histplot` (an axes-level function for histograms).\n",
            "  warnings.warn(msg, FutureWarning)\n",
            "/usr/local/lib/python3.7/dist-packages/seaborn/distributions.py:2619: FutureWarning: `distplot` is a deprecated function and will be removed in a future version. Please adapt your code to use either `displot` (a figure-level function with similar flexibility) or `histplot` (an axes-level function for histograms).\n",
            "  warnings.warn(msg, FutureWarning)\n",
            "/usr/local/lib/python3.7/dist-packages/seaborn/distributions.py:2619: FutureWarning: `distplot` is a deprecated function and will be removed in a future version. Please adapt your code to use either `displot` (a figure-level function with similar flexibility) or `histplot` (an axes-level function for histograms).\n",
            "  warnings.warn(msg, FutureWarning)\n",
            "/usr/local/lib/python3.7/dist-packages/seaborn/distributions.py:2619: FutureWarning: `distplot` is a deprecated function and will be removed in a future version. Please adapt your code to use either `displot` (a figure-level function with similar flexibility) or `histplot` (an axes-level function for histograms).\n",
            "  warnings.warn(msg, FutureWarning)\n",
            "/usr/local/lib/python3.7/dist-packages/seaborn/distributions.py:2619: FutureWarning: `distplot` is a deprecated function and will be removed in a future version. Please adapt your code to use either `displot` (a figure-level function with similar flexibility) or `histplot` (an axes-level function for histograms).\n",
            "  warnings.warn(msg, FutureWarning)\n",
            "/usr/local/lib/python3.7/dist-packages/seaborn/distributions.py:2619: FutureWarning: `distplot` is a deprecated function and will be removed in a future version. Please adapt your code to use either `displot` (a figure-level function with similar flexibility) or `histplot` (an axes-level function for histograms).\n",
            "  warnings.warn(msg, FutureWarning)\n",
            "/usr/local/lib/python3.7/dist-packages/seaborn/distributions.py:2619: FutureWarning: `distplot` is a deprecated function and will be removed in a future version. Please adapt your code to use either `displot` (a figure-level function with similar flexibility) or `histplot` (an axes-level function for histograms).\n",
            "  warnings.warn(msg, FutureWarning)\n"
          ]
        },
        {
          "output_type": "display_data",
          "data": {
            "text/plain": [
              "<Figure size 432x288 with 1 Axes>"
            ],
            "image/png": "[encoded data removed]"
          },
          "metadata": {
            "needs_background": "light"
          }
        },
        {
          "output_type": "display_data",
          "data": {
            "text/plain": [
              "<Figure size 432x288 with 1 Axes>"
            ],
            "image/png": "[encoded data removed]"
          },
          "metadata": {
            "needs_background": "light"
          }
        },
        {
          "output_type": "display_data",
          "data": {
            "text/plain": [
              "<Figure size 432x288 with 1 Axes>"
            ],
            "image/png": "[encoded data removed]"
          },
          "metadata": {
            "needs_background": "light"
          }
        },
        {
          "output_type": "display_data",
          "data": {
            "text/plain": [
              "<Figure size 432x288 with 1 Axes>"
            ],
            "image/png": "[encoded data removed]"
          },
          "metadata": {
            "needs_background": "light"
          }
        },
        {
          "output_type": "display_data",
          "data": {
            "text/plain": [
              "<Figure size 432x288 with 1 Axes>"
            ],
            "image/png": "[encoded data removed]"
          },
          "metadata": {
            "needs_background": "light"
          }
        },
        {
          "output_type": "display_data",
          "data": {
            "text/plain": [
              "<Figure size 432x288 with 1 Axes>"
            ],
            "image/png": "[encoded data removed]"
          },
          "metadata": {
            "needs_background": "light"
          }
        },
        {
          "output_type": "display_data",
          "data": {
            "text/plain": [
              "<Figure size 432x288 with 1 Axes>"
            ],
            "image/png": "[encoded data removed]"
          },
          "metadata": {
            "needs_background": "light"
          }
        },
        {
          "output_type": "display_data",
          "data": {
            "text/plain": [
              "<Figure size 432x288 with 1 Axes>"
            ],
            "image/png": "[encoded data removed]"
          },
          "metadata": {
            "needs_background": "light"
          }
        },
        {
          "output_type": "display_data",
          "data": {
            "text/plain": [
              "<Figure size 432x288 with 1 Axes>"
            ],
            "image/png": "[encoded data removed]"
          },
          "metadata": {
            "needs_background": "light"
          }
        },
        {
          "output_type": "display_data",
          "data": {
            "text/plain": [
              "<Figure size 432x288 with 1 Axes>"
            ],
            "image/png": "[encoded data removed]"
          },
          "metadata": {
            "needs_background": "light"
          }
        },
        {
          "output_type": "display_data",
          "data": {
            "text/plain": [
              "<Figure size 432x288 with 1 Axes>"
            ],
            "image/png": "[encoded data removed]"
          },
          "metadata": {
            "needs_background": "light"
          }
        },
        {
          "output_type": "display_data",
          "data": {
            "text/plain": [
              "<Figure size 432x288 with 1 Axes>"
            ],
            "image/png": "[encoded data removed]"
          },
          "metadata": {
            "needs_background": "light"
          }
        },
        {
          "output_type": "display_data",
          "data": {
            "text/plain": [
              "<Figure size 432x288 with 1 Axes>"
            ],
            "image/png": "[encoded data removed]"
          },
          "metadata": {
            "needs_background": "light"
          }
        },
        {
          "output_type": "display_data",
          "data": {
            "text/plain": [
              "<Figure size 432x288 with 1 Axes>"
            ],
            "image/png": "[encoded data removed]"
          },
          "metadata": {
            "needs_background": "light"
          }
        },
        {
          "output_type": "display_data",
          "data": {
            "text/plain": [
              "<Figure size 432x288 with 1 Axes>"
            ],
            "image/png": "[encoded data removed]"
          },
          "metadata": {
            "needs_background": "light"
          }
        },
        {
          "output_type": "display_data",
          "data": {
            "text/plain": [
              "<Figure size 432x288 with 1 Axes>"
            ],
            "image/png": "[encoded data removed]"
          },
          "metadata": {
            "needs_background": "light"
          }
        },
        {
          "output_type": "display_data",
          "data": {
            "text/plain": [
              "<Figure size 432x288 with 1 Axes>"
            ],
            "image/png": "[encoded data removed]"
          },
          "metadata": {
            "needs_background": "light"
          }
        },
        {
          "output_type": "display_data",
          "data": {
            "text/plain": [
              "<Figure size 432x288 with 1 Axes>"
            ],
            "image/png": "[encoded data removed]"
          },
          "metadata": {
            "needs_background": "light"
          }
        }
      ]
    },
    {
      "cell_type": "code",
      "source": [
        "# Checking for Outliers by using boxplot \n",
        "\n",
        "data.plot(kind = 'box')"
      ],
      "metadata": {
        "colab": {
          "base_uri": "https://localhost:8080/",
          "height": 282
        },
        "id": "p1LJVlk2vkt8",
        "outputId": "60e0c7fc-16e3-40da-ccd9-9d4e73d3c3e7"
      },
      "execution_count": 96,
      "outputs": [
        {
          "output_type": "execute_result",
          "data": {
            "text/plain": [
              "<matplotlib.axes._subplots.AxesSubplot at 0x7f2796d69e90>"
            ]
          },
          "metadata": {},
          "execution_count": 96
        },
        {
          "output_type": "display_data",
          "data": {
            "text/plain": [
              "<Figure size 432x288 with 1 Axes>"
            ],
            "image/png": "[encoded data removed]"
          },
          "metadata": {
            "needs_background": "light"
          }
        }
      ]
    },
    {
      "cell_type": "code",
      "source": [
        "# These are the columns which have Outliers like 0 means no outliers, 1 means outliers\n",
        "\n",
        "# 1. naffairs\t  # 1\n",
        "# 2. kids\t      # 0\n",
        "# 3. vryunhap   #\t1\n",
        "# 4. unhap\t    # 1\n",
        "# 5. avgmarr\t  # 1\n",
        "# 6. hapavg\t    # 0\n",
        "# 7. vryhap\t    # 0\n",
        "# 8. antirel\t  # 1\n",
        "# 9. notrel\t    # 0\n",
        "# 10. slghtrel\t# 1\n",
        "# 11. smerel\t  # 0\n",
        "# 12. vryrel\t  # 1\n",
        "# 13. yrsmarr1\t# 1\n",
        "# 14. yrsmarr2\t# 1\n",
        "# 15. yrsmarr3\t# 1\n",
        "# 16. yrsmarr4\t# 1\n",
        "# 17. yrsmarr5  # 1\n",
        "# 18. yrsmarr6  # 0"
      ],
      "metadata": {
        "id": "RW5XfghVvrTH"
      },
      "execution_count": 97,
      "outputs": []
    },
    {
      "cell_type": "code",
      "source": [
        "# To Clean the outliers we import Winsorizer\n",
        "\n",
        "!pip install feature_engine"
      ],
      "metadata": {
        "colab": {
          "base_uri": "https://localhost:8080/"
        },
        "id": "lkI5P-3Wvt2t",
        "outputId": "0ff98bf5-8649-4ba6-c3fb-ef3f8f9f0053"
      },
      "execution_count": 98,
      "outputs": [
        {
          "output_type": "stream",
          "name": "stdout",
          "text": [
            "Looking in indexes: https://pypi.org/simple, https://us-python.pkg.dev/colab-wheels/public/simple/\n",
            "Requirement already satisfied: feature_engine in /usr/local/lib/python3.7/dist-packages (1.4.0)\n",
            "Requirement already satisfied: pandas>=1.0.3 in /usr/local/lib/python3.7/dist-packages (from feature_engine) (1.3.5)\n",
            "Requirement already satisfied: scikit-learn>=1.0.0 in /usr/local/lib/python3.7/dist-packages (from feature_engine) (1.0.2)\n",
            "Requirement already satisfied: statsmodels>=0.11.1 in /usr/local/lib/python3.7/dist-packages (from feature_engine) (0.12.2)\n",
            "Requirement already satisfied: numpy>=1.18.2 in /usr/local/lib/python3.7/dist-packages (from feature_engine) (1.21.6)\n",
            "Requirement already satisfied: scipy>=1.4.1 in /usr/local/lib/python3.7/dist-packages (from feature_engine) (1.7.3)\n",
            "Requirement already satisfied: pytz>=2017.3 in /usr/local/lib/python3.7/dist-packages (from pandas>=1.0.3->feature_engine) (2022.6)\n",
            "Requirement already satisfied: python-dateutil>=2.7.3 in /usr/local/lib/python3.7/dist-packages (from pandas>=1.0.3->feature_engine) (2.8.2)\n",
            "Requirement already satisfied: six>=1.5 in /usr/local/lib/python3.7/dist-packages (from python-dateutil>=2.7.3->pandas>=1.0.3->feature_engine) (1.15.0)\n",
            "Requirement already satisfied: threadpoolctl>=2.0.0 in /usr/local/lib/python3.7/dist-packages (from scikit-learn>=1.0.0->feature_engine) (3.1.0)\n",
            "Requirement already satisfied: joblib>=0.11 in /usr/local/lib/python3.7/dist-packages (from scikit-learn>=1.0.0->feature_engine) (1.2.0)\n",
            "Requirement already satisfied: patsy>=0.5 in /usr/local/lib/python3.7/dist-packages (from statsmodels>=0.11.1->feature_engine) (0.5.3)\n"
          ]
        }
      ]
    },
    {
      "cell_type": "code",
      "source": [
        "from feature_engine.outliers import Winsorizer\n",
        "\n",
        "# naffairs\n",
        "winsor_iqr = Winsorizer(capping_method = 'iqr',\n",
        "                              tail = 'both',\n",
        "                               fold = 1.5,\n",
        "                                variables = ('naffairs'))\n",
        "\n",
        "data_iqr = winsor_iqr.fit_transform(data[['naffairs']])\n",
        "\n",
        "sns.boxplot(data_iqr['naffairs'])"
      ],
      "metadata": {
        "colab": {
          "base_uri": "https://localhost:8080/",
          "height": 351
        },
        "id": "AhpV3lHovvyS",
        "outputId": "1a020730-f168-4b11-d457-284d02af2f09"
      },
      "execution_count": 99,
      "outputs": [
        {
          "output_type": "stream",
          "name": "stderr",
          "text": [
            "/usr/local/lib/python3.7/dist-packages/seaborn/_decorators.py:43: FutureWarning: Pass the following variable as a keyword arg: x. From version 0.12, the only valid positional argument will be `data`, and passing other arguments without an explicit keyword will result in an error or misinterpretation.\n",
            "  FutureWarning\n"
          ]
        },
        {
          "output_type": "execute_result",
          "data": {
            "text/plain": [
              "<matplotlib.axes._subplots.AxesSubplot at 0x7f279608ffd0>"
            ]
          },
          "metadata": {},
          "execution_count": 99
        },
        {
          "output_type": "display_data",
          "data": {
            "text/plain": [
              "<Figure size 432x288 with 1 Axes>"
            ],
            "image/png": "[encoded data removed]"
          },
          "metadata": {
            "needs_background": "light"
          }
        }
      ]
    },
    {
      "cell_type": "code",
      "source": [
        "plt.boxplot(data['kids'])"
      ],
      "metadata": {
        "colab": {
          "base_uri": "https://localhost:8080/",
          "height": 404
        },
        "id": "BMoxQJImvxu8",
        "outputId": "0daa4d24-492c-4a70-d936-9832c9087e4a"
      },
      "execution_count": 100,
      "outputs": [
        {
          "output_type": "execute_result",
          "data": {
            "text/plain": [
              "{'whiskers': [<matplotlib.lines.Line2D at 0x7f2796643f10>,\n",
              "  <matplotlib.lines.Line2D at 0x7f2796675450>],\n",
              " 'caps': [<matplotlib.lines.Line2D at 0x7f2796675250>,\n",
              "  <matplotlib.lines.Line2D at 0x7f2796675cd0>],\n",
              " 'boxes': [<matplotlib.lines.Line2D at 0x7f2796643950>],\n",
              " 'medians': [<matplotlib.lines.Line2D at 0x7f279665e950>],\n",
              " 'fliers': [<matplotlib.lines.Line2D at 0x7f279665ecd0>],\n",
              " 'means': []}"
            ]
          },
          "metadata": {},
          "execution_count": 100
        },
        {
          "output_type": "display_data",
          "data": {
            "text/plain": [
              "<Figure size 432x288 with 1 Axes>"
            ],
            "image/png": "[encoded data removed]"
          },
          "metadata": {
            "needs_background": "light"
          }
        }
      ]
    },
    {
      "cell_type": "code",
      "source": [
        "plt.boxplot(data['vryunhap'])"
      ],
      "metadata": {
        "colab": {
          "base_uri": "https://localhost:8080/",
          "height": 404
        },
        "id": "dW46Ebfhv0LU",
        "outputId": "777581a4-1c43-4f4d-8a58-6433b7cd6787"
      },
      "execution_count": 101,
      "outputs": [
        {
          "output_type": "execute_result",
          "data": {
            "text/plain": [
              "{'whiskers': [<matplotlib.lines.Line2D at 0x7f279633e2d0>,\n",
              "  <matplotlib.lines.Line2D at 0x7f279633ee90>],\n",
              " 'caps': [<matplotlib.lines.Line2D at 0x7f279633e690>,\n",
              "  <matplotlib.lines.Line2D at 0x7f2796924e90>],\n",
              " 'boxes': [<matplotlib.lines.Line2D at 0x7f279682a8d0>],\n",
              " 'medians': [<matplotlib.lines.Line2D at 0x7f2796924f90>],\n",
              " 'fliers': [<matplotlib.lines.Line2D at 0x7f2796924d10>],\n",
              " 'means': []}"
            ]
          },
          "metadata": {},
          "execution_count": 101
        },
        {
          "output_type": "display_data",
          "data": {
            "text/plain": [
              "<Figure size 432x288 with 1 Axes>"
            ],
            "image/png": "[encoded data removed]"
          },
          "metadata": {
            "needs_background": "light"
          }
        }
      ]
    },
    {
      "cell_type": "code",
      "source": [
        "# vryunhap\n",
        "winsor_iqr = Winsorizer(capping_method = 'iqr',\n",
        "                              tail = 'both',\n",
        "                               fold = 1.5,\n",
        "                                variables = ('vryunhap'))\n",
        "\n",
        "data_iqr = winsor_iqr.fit_transform(data[['vryunhap']])\n",
        "\n",
        "sns.boxplot(data_iqr['vryunhap'])"
      ],
      "metadata": {
        "colab": {
          "base_uri": "https://localhost:8080/",
          "height": 351
        },
        "id": "BNvJLfLBv17q",
        "outputId": "e2a146a9-e8ec-4c8d-c353-3583edf98de9"
      },
      "execution_count": 102,
      "outputs": [
        {
          "output_type": "stream",
          "name": "stderr",
          "text": [
            "/usr/local/lib/python3.7/dist-packages/seaborn/_decorators.py:43: FutureWarning: Pass the following variable as a keyword arg: x. From version 0.12, the only valid positional argument will be `data`, and passing other arguments without an explicit keyword will result in an error or misinterpretation.\n",
            "  FutureWarning\n"
          ]
        },
        {
          "output_type": "execute_result",
          "data": {
            "text/plain": [
              "<matplotlib.axes._subplots.AxesSubplot at 0x7f27968705d0>"
            ]
          },
          "metadata": {},
          "execution_count": 102
        },
        {
          "output_type": "display_data",
          "data": {
            "text/plain": [
              "<Figure size 432x288 with 1 Axes>"
            ],
            "image/png": "[encoded data removed]"
          },
          "metadata": {
            "needs_background": "light"
          }
        }
      ]
    },
    {
      "cell_type": "code",
      "source": [
        "plt.boxplot(data['unhap'])"
      ],
      "metadata": {
        "colab": {
          "base_uri": "https://localhost:8080/",
          "height": 404
        },
        "id": "zWaAUfPkv3xM",
        "outputId": "6e223445-cc67-4a7d-ff80-9e48562d67c1"
      },
      "execution_count": 103,
      "outputs": [
        {
          "output_type": "execute_result",
          "data": {
            "text/plain": [
              "{'whiskers': [<matplotlib.lines.Line2D at 0x7f2796f251d0>,\n",
              "  <matplotlib.lines.Line2D at 0x7f2796edf350>],\n",
              " 'caps': [<matplotlib.lines.Line2D at 0x7f2796e884d0>,\n",
              "  <matplotlib.lines.Line2D at 0x7f2796e88690>],\n",
              " 'boxes': [<matplotlib.lines.Line2D at 0x7f27963ebb90>],\n",
              " 'medians': [<matplotlib.lines.Line2D at 0x7f2796ae3210>],\n",
              " 'fliers': [<matplotlib.lines.Line2D at 0x7f2796ae3650>],\n",
              " 'means': []}"
            ]
          },
          "metadata": {},
          "execution_count": 103
        },
        {
          "output_type": "display_data",
          "data": {
            "text/plain": [
              "<Figure size 432x288 with 1 Axes>"
            ],
            "image/png": "[encoded data removed]"
          },
          "metadata": {
            "needs_background": "light"
          }
        }
      ]
    },
    {
      "cell_type": "code",
      "source": [
        "# unhap\n",
        "winsor_iqr = Winsorizer(capping_method = 'iqr',\n",
        "                              tail = 'both',\n",
        "                               fold = 1.5,\n",
        "                                variables = ('unhap'))\n",
        "\n",
        "data_iqr = winsor_iqr.fit_transform(data[['unhap']])\n",
        "\n",
        "sns.boxplot(data_iqr['unhap'])\n"
      ],
      "metadata": {
        "colab": {
          "base_uri": "https://localhost:8080/",
          "height": 351
        },
        "id": "hVB69-RUv5Ul",
        "outputId": "d217f08f-92b6-47a3-c7b3-715e5283bbd7"
      },
      "execution_count": 104,
      "outputs": [
        {
          "output_type": "stream",
          "name": "stderr",
          "text": [
            "/usr/local/lib/python3.7/dist-packages/seaborn/_decorators.py:43: FutureWarning: Pass the following variable as a keyword arg: x. From version 0.12, the only valid positional argument will be `data`, and passing other arguments without an explicit keyword will result in an error or misinterpretation.\n",
            "  FutureWarning\n"
          ]
        },
        {
          "output_type": "execute_result",
          "data": {
            "text/plain": [
              "<matplotlib.axes._subplots.AxesSubplot at 0x7f27963faad0>"
            ]
          },
          "metadata": {},
          "execution_count": 104
        },
        {
          "output_type": "display_data",
          "data": {
            "text/plain": [
              "<Figure size 432x288 with 1 Axes>"
            ],
            "image/png": "[encoded data removed]"
          },
          "metadata": {
            "needs_background": "light"
          }
        }
      ]
    },
    {
      "cell_type": "code",
      "source": [
        "plt.boxplot(data['avgmarr'])"
      ],
      "metadata": {
        "colab": {
          "base_uri": "https://localhost:8080/",
          "height": 404
        },
        "id": "s5Tv9Q5hv7Jo",
        "outputId": "6be9923b-bdba-4ee9-9985-7b7d5234e31b"
      },
      "execution_count": 105,
      "outputs": [
        {
          "output_type": "execute_result",
          "data": {
            "text/plain": [
              "{'whiskers': [<matplotlib.lines.Line2D at 0x7f2796332510>,\n",
              "  <matplotlib.lines.Line2D at 0x7f2796332d50>],\n",
              " 'caps': [<matplotlib.lines.Line2D at 0x7f2796332050>,\n",
              "  <matplotlib.lines.Line2D at 0x7f2796326c50>],\n",
              " 'boxes': [<matplotlib.lines.Line2D at 0x7f279635e610>],\n",
              " 'medians': [<matplotlib.lines.Line2D at 0x7f2796326810>],\n",
              " 'fliers': [<matplotlib.lines.Line2D at 0x7f2796d86e90>],\n",
              " 'means': []}"
            ]
          },
          "metadata": {},
          "execution_count": 105
        },
        {
          "output_type": "display_data",
          "data": {
            "text/plain": [
              "<Figure size 432x288 with 1 Axes>"
            ],
            "image/png": "[encoded data removed]"
          },
          "metadata": {
            "needs_background": "light"
          }
        }
      ]
    },
    {
      "cell_type": "code",
      "source": [
        "# avgmarr\n",
        "winsor_iqr = Winsorizer(capping_method = 'iqr',\n",
        "                              tail = 'both',\n",
        "                               fold = 1.5,\n",
        "                                variables = ('avgmarr'))\n",
        "\n",
        "data_iqr = winsor_iqr.fit_transform(data[['avgmarr']])\n",
        "\n",
        "sns.boxplot(data_iqr['avgmarr'])\n"
      ],
      "metadata": {
        "colab": {
          "base_uri": "https://localhost:8080/",
          "height": 351
        },
        "id": "hv3FDqxIv9FO",
        "outputId": "9e2ee995-ca73-4644-f45f-18efae8a0d90"
      },
      "execution_count": 106,
      "outputs": [
        {
          "output_type": "stream",
          "name": "stderr",
          "text": [
            "/usr/local/lib/python3.7/dist-packages/seaborn/_decorators.py:43: FutureWarning: Pass the following variable as a keyword arg: x. From version 0.12, the only valid positional argument will be `data`, and passing other arguments without an explicit keyword will result in an error or misinterpretation.\n",
            "  FutureWarning\n"
          ]
        },
        {
          "output_type": "execute_result",
          "data": {
            "text/plain": [
              "<matplotlib.axes._subplots.AxesSubplot at 0x7f2796dcb310>"
            ]
          },
          "metadata": {},
          "execution_count": 106
        },
        {
          "output_type": "display_data",
          "data": {
            "text/plain": [
              "<Figure size 432x288 with 1 Axes>"
            ],
            "image/png": "[encoded data removed]"
          },
          "metadata": {
            "needs_background": "light"
          }
        }
      ]
    },
    {
      "cell_type": "code",
      "source": [
        "plt.boxplot(data['hapavg'])"
      ],
      "metadata": {
        "colab": {
          "base_uri": "https://localhost:8080/",
          "height": 404
        },
        "id": "7t8TDYnXv_AF",
        "outputId": "224c87ba-aa23-4fb1-b03d-f52fc0351ff1"
      },
      "execution_count": 107,
      "outputs": [
        {
          "output_type": "execute_result",
          "data": {
            "text/plain": [
              "{'whiskers': [<matplotlib.lines.Line2D at 0x7f2796592d10>,\n",
              "  <matplotlib.lines.Line2D at 0x7f2796582290>],\n",
              " 'caps': [<matplotlib.lines.Line2D at 0x7f27965827d0>,\n",
              "  <matplotlib.lines.Line2D at 0x7f2796582d10>],\n",
              " 'boxes': [<matplotlib.lines.Line2D at 0x7f2796592750>],\n",
              " 'medians': [<matplotlib.lines.Line2D at 0x7f27965892d0>],\n",
              " 'fliers': [<matplotlib.lines.Line2D at 0x7f2796589810>],\n",
              " 'means': []}"
            ]
          },
          "metadata": {},
          "execution_count": 107
        },
        {
          "output_type": "display_data",
          "data": {
            "text/plain": [
              "<Figure size 432x288 with 1 Axes>"
            ],
            "image/png": "[encoded data removed]"
          },
          "metadata": {
            "needs_background": "light"
          }
        }
      ]
    },
    {
      "cell_type": "code",
      "source": [
        "plt.boxplot(data['antirel'])"
      ],
      "metadata": {
        "colab": {
          "base_uri": "https://localhost:8080/",
          "height": 404
        },
        "id": "T29C1EjowAzs",
        "outputId": "695c1946-5d73-46bc-805a-1cfcca91dd4a"
      },
      "execution_count": 108,
      "outputs": [
        {
          "output_type": "execute_result",
          "data": {
            "text/plain": [
              "{'whiskers': [<matplotlib.lines.Line2D at 0x7f27963b3090>,\n",
              "  <matplotlib.lines.Line2D at 0x7f27963b35d0>],\n",
              " 'caps': [<matplotlib.lines.Line2D at 0x7f27963b3b10>,\n",
              "  <matplotlib.lines.Line2D at 0x7f2796391090>],\n",
              " 'boxes': [<matplotlib.lines.Line2D at 0x7f279639fa50>],\n",
              " 'medians': [<matplotlib.lines.Line2D at 0x7f2796391610>],\n",
              " 'fliers': [<matplotlib.lines.Line2D at 0x7f2796391b50>],\n",
              " 'means': []}"
            ]
          },
          "metadata": {},
          "execution_count": 108
        },
        {
          "output_type": "display_data",
          "data": {
            "text/plain": [
              "<Figure size 432x288 with 1 Axes>"
            ],
            "image/png": "[encoded data removed]"
          },
          "metadata": {
            "needs_background": "light"
          }
        }
      ]
    },
    {
      "cell_type": "code",
      "source": [
        "# antirel\n",
        "winsor_iqr = Winsorizer(capping_method = 'iqr',\n",
        "                              tail = 'both',\n",
        "                               fold = 1.5,\n",
        "                                variables = ('antirel'))\n",
        "\n",
        "data_iqr = winsor_iqr.fit_transform(data[['antirel']])\n",
        "\n",
        "sns.boxplot(data_iqr['antirel'])\n"
      ],
      "metadata": {
        "colab": {
          "base_uri": "https://localhost:8080/",
          "height": 351
        },
        "id": "zlIltvKCwCXV",
        "outputId": "a9c0f3dc-f244-45c8-84ac-44b70ee9dcff"
      },
      "execution_count": 109,
      "outputs": [
        {
          "output_type": "stream",
          "name": "stderr",
          "text": [
            "/usr/local/lib/python3.7/dist-packages/seaborn/_decorators.py:43: FutureWarning: Pass the following variable as a keyword arg: x. From version 0.12, the only valid positional argument will be `data`, and passing other arguments without an explicit keyword will result in an error or misinterpretation.\n",
            "  FutureWarning\n"
          ]
        },
        {
          "output_type": "execute_result",
          "data": {
            "text/plain": [
              "<matplotlib.axes._subplots.AxesSubplot at 0x7f279678acd0>"
            ]
          },
          "metadata": {},
          "execution_count": 109
        },
        {
          "output_type": "display_data",
          "data": {
            "text/plain": [
              "<Figure size 432x288 with 1 Axes>"
            ],
            "image/png": "[encoded data removed]"
          },
          "metadata": {
            "needs_background": "light"
          }
        }
      ]
    },
    {
      "cell_type": "code",
      "source": [
        "plt.boxplot(data['slghtrel'])"
      ],
      "metadata": {
        "colab": {
          "base_uri": "https://localhost:8080/",
          "height": 404
        },
        "id": "Crz53KZhwD_n",
        "outputId": "92f6cc5c-372f-4203-87a0-e8768c3ea11e"
      },
      "execution_count": 110,
      "outputs": [
        {
          "output_type": "execute_result",
          "data": {
            "text/plain": [
              "{'whiskers': [<matplotlib.lines.Line2D at 0x7f279651eb90>,\n",
              "  <matplotlib.lines.Line2D at 0x7f279652e110>],\n",
              " 'caps': [<matplotlib.lines.Line2D at 0x7f279652e650>,\n",
              "  <matplotlib.lines.Line2D at 0x7f279652eb90>],\n",
              " 'boxes': [<matplotlib.lines.Line2D at 0x7f279651e5d0>],\n",
              " 'medians': [<matplotlib.lines.Line2D at 0x7f2796512150>],\n",
              " 'fliers': [<matplotlib.lines.Line2D at 0x7f2796512690>],\n",
              " 'means': []}"
            ]
          },
          "metadata": {},
          "execution_count": 110
        },
        {
          "output_type": "display_data",
          "data": {
            "text/plain": [
              "<Figure size 432x288 with 1 Axes>"
            ],
            "image/png": "[encoded data removed]"
          },
          "metadata": {
            "needs_background": "light"
          }
        }
      ]
    },
    {
      "cell_type": "code",
      "source": [
        "# slghtrel\n",
        "winsor_iqr = Winsorizer(capping_method = 'iqr',\n",
        "                              tail = 'both',\n",
        "                               fold = 1.5,\n",
        "                                variables = ('slghtrel'))\n",
        "\n",
        "data_iqr = winsor_iqr.fit_transform(data[['slghtrel']])\n",
        "\n",
        "sns.boxplot(data_iqr['slghtrel'])\n"
      ],
      "metadata": {
        "colab": {
          "base_uri": "https://localhost:8080/",
          "height": 351
        },
        "id": "FqLiLJoOwFgt",
        "outputId": "dfaac677-6f3f-4dd7-d439-e52c8f73ffca"
      },
      "execution_count": 111,
      "outputs": [
        {
          "output_type": "stream",
          "name": "stderr",
          "text": [
            "/usr/local/lib/python3.7/dist-packages/seaborn/_decorators.py:43: FutureWarning: Pass the following variable as a keyword arg: x. From version 0.12, the only valid positional argument will be `data`, and passing other arguments without an explicit keyword will result in an error or misinterpretation.\n",
            "  FutureWarning\n"
          ]
        },
        {
          "output_type": "execute_result",
          "data": {
            "text/plain": [
              "<matplotlib.axes._subplots.AxesSubplot at 0x7f2796a519d0>"
            ]
          },
          "metadata": {},
          "execution_count": 111
        },
        {
          "output_type": "display_data",
          "data": {
            "text/plain": [
              "<Figure size 432x288 with 1 Axes>"
            ],
            "image/png": "[encoded data removed]"
          },
          "metadata": {
            "needs_background": "light"
          }
        }
      ]
    },
    {
      "cell_type": "code",
      "source": [
        "plt.boxplot(data['smerel'])"
      ],
      "metadata": {
        "colab": {
          "base_uri": "https://localhost:8080/",
          "height": 404
        },
        "id": "VmmLYSozwHD-",
        "outputId": "3db6c09b-cf6c-423f-9ef5-8b9c79c4902d"
      },
      "execution_count": 112,
      "outputs": [
        {
          "output_type": "execute_result",
          "data": {
            "text/plain": [
              "{'whiskers': [<matplotlib.lines.Line2D at 0x7f2796e09a50>,\n",
              "  <matplotlib.lines.Line2D at 0x7f2796e09f90>],\n",
              " 'caps': [<matplotlib.lines.Line2D at 0x7f2796e11510>,\n",
              "  <matplotlib.lines.Line2D at 0x7f2796e11a50>],\n",
              " 'boxes': [<matplotlib.lines.Line2D at 0x7f2796e09450>],\n",
              " 'medians': [<matplotlib.lines.Line2D at 0x7f2796e11fd0>],\n",
              " 'fliers': [<matplotlib.lines.Line2D at 0x7f2796e28550>],\n",
              " 'means': []}"
            ]
          },
          "metadata": {},
          "execution_count": 112
        },
        {
          "output_type": "display_data",
          "data": {
            "text/plain": [
              "<Figure size 432x288 with 1 Axes>"
            ],
            "image/png": "[encoded data removed]"
          },
          "metadata": {
            "needs_background": "light"
          }
        }
      ]
    },
    {
      "cell_type": "code",
      "source": [
        "plt.boxplot(data['vryhap'])"
      ],
      "metadata": {
        "colab": {
          "base_uri": "https://localhost:8080/",
          "height": 404
        },
        "id": "hqkRnAkTwJS1",
        "outputId": "cbb9a22e-8829-4c0b-f5f8-527827952e70"
      },
      "execution_count": 113,
      "outputs": [
        {
          "output_type": "execute_result",
          "data": {
            "text/plain": [
              "{'whiskers': [<matplotlib.lines.Line2D at 0x7f27963c4a10>,\n",
              "  <matplotlib.lines.Line2D at 0x7f27963c4f50>],\n",
              " 'caps': [<matplotlib.lines.Line2D at 0x7f27963db4d0>,\n",
              "  <matplotlib.lines.Line2D at 0x7f27963dba10>],\n",
              " 'boxes': [<matplotlib.lines.Line2D at 0x7f27963c4450>],\n",
              " 'medians': [<matplotlib.lines.Line2D at 0x7f27963dbf90>],\n",
              " 'fliers': [<matplotlib.lines.Line2D at 0x7f27963f3510>],\n",
              " 'means': []}"
            ]
          },
          "metadata": {},
          "execution_count": 113
        },
        {
          "output_type": "display_data",
          "data": {
            "text/plain": [
              "<Figure size 432x288 with 1 Axes>"
            ],
            "image/png": "[encoded data removed]"
          },
          "metadata": {
            "needs_background": "light"
          }
        }
      ]
    },
    {
      "cell_type": "code",
      "source": [
        "plt.boxplot(data['antirel'])"
      ],
      "metadata": {
        "colab": {
          "base_uri": "https://localhost:8080/",
          "height": 404
        },
        "id": "KCmPwhwgwLOL",
        "outputId": "d8b00e5a-7d91-4b7c-9218-1d0dc99dcf98"
      },
      "execution_count": 114,
      "outputs": [
        {
          "output_type": "execute_result",
          "data": {
            "text/plain": [
              "{'whiskers': [<matplotlib.lines.Line2D at 0x7f2796c49ad0>,\n",
              "  <matplotlib.lines.Line2D at 0x7f2796c4a250>],\n",
              " 'caps': [<matplotlib.lines.Line2D at 0x7f2796c4a790>,\n",
              "  <matplotlib.lines.Line2D at 0x7f2796c4acd0>],\n",
              " 'boxes': [<matplotlib.lines.Line2D at 0x7f2796c49090>],\n",
              " 'medians': [<matplotlib.lines.Line2D at 0x7f2796c76290>],\n",
              " 'fliers': [<matplotlib.lines.Line2D at 0x7f2796c767d0>],\n",
              " 'means': []}"
            ]
          },
          "metadata": {},
          "execution_count": 114
        },
        {
          "output_type": "display_data",
          "data": {
            "text/plain": [
              "<Figure size 432x288 with 1 Axes>"
            ],
            "image/png": "[encoded data removed]"
          },
          "metadata": {
            "needs_background": "light"
          }
        }
      ]
    },
    {
      "cell_type": "code",
      "source": [
        "# antirel\n",
        "winsor_iqr = Winsorizer(capping_method = 'iqr',\n",
        "                              tail = 'both',\n",
        "                               fold = 1.5,\n",
        "                                variables = ('antirel'))\n",
        "\n",
        "data_iqr = winsor_iqr.fit_transform(data[['antirel']])\n",
        "\n",
        "sns.boxplot(data_iqr['antirel'])\n"
      ],
      "metadata": {
        "colab": {
          "base_uri": "https://localhost:8080/",
          "height": 351
        },
        "id": "tX2L-zhDwNAI",
        "outputId": "442861c3-6e6a-4510-c9fa-01c454a4c7b8"
      },
      "execution_count": 115,
      "outputs": [
        {
          "output_type": "stream",
          "name": "stderr",
          "text": [
            "/usr/local/lib/python3.7/dist-packages/seaborn/_decorators.py:43: FutureWarning: Pass the following variable as a keyword arg: x. From version 0.12, the only valid positional argument will be `data`, and passing other arguments without an explicit keyword will result in an error or misinterpretation.\n",
            "  FutureWarning\n"
          ]
        },
        {
          "output_type": "execute_result",
          "data": {
            "text/plain": [
              "<matplotlib.axes._subplots.AxesSubplot at 0x7f27965d19d0>"
            ]
          },
          "metadata": {},
          "execution_count": 115
        },
        {
          "output_type": "display_data",
          "data": {
            "text/plain": [
              "<Figure size 432x288 with 1 Axes>"
            ],
            "image/png": "[encoded data removed]"
          },
          "metadata": {
            "needs_background": "light"
          }
        }
      ]
    },
    {
      "cell_type": "code",
      "source": [
        "plt.boxplot(data['notrel'])"
      ],
      "metadata": {
        "colab": {
          "base_uri": "https://localhost:8080/",
          "height": 404
        },
        "id": "DzjVTpbWwO5k",
        "outputId": "ce8b4bda-256b-41fa-95ad-00621556c119"
      },
      "execution_count": 116,
      "outputs": [
        {
          "output_type": "execute_result",
          "data": {
            "text/plain": [
              "{'whiskers': [<matplotlib.lines.Line2D at 0x7f2796e44990>,\n",
              "  <matplotlib.lines.Line2D at 0x7f2796e44ed0>],\n",
              " 'caps': [<matplotlib.lines.Line2D at 0x7f2796e49450>,\n",
              "  <matplotlib.lines.Line2D at 0x7f2796e49990>],\n",
              " 'boxes': [<matplotlib.lines.Line2D at 0x7f2796e44390>],\n",
              " 'medians': [<matplotlib.lines.Line2D at 0x7f2796e49f10>],\n",
              " 'fliers': [<matplotlib.lines.Line2D at 0x7f27969f1490>],\n",
              " 'means': []}"
            ]
          },
          "metadata": {},
          "execution_count": 116
        },
        {
          "output_type": "display_data",
          "data": {
            "text/plain": [
              "<Figure size 432x288 with 1 Axes>"
            ],
            "image/png": "[encoded data removed]"
          },
          "metadata": {
            "needs_background": "light"
          }
        }
      ]
    },
    {
      "cell_type": "code",
      "source": [
        "plt.boxplot(data['slghtrel'])"
      ],
      "metadata": {
        "colab": {
          "base_uri": "https://localhost:8080/",
          "height": 404
        },
        "id": "SAJnk7EhwQTS",
        "outputId": "013f6297-8db7-4433-f89a-ea7e82f18b14"
      },
      "execution_count": 117,
      "outputs": [
        {
          "output_type": "execute_result",
          "data": {
            "text/plain": [
              "{'whiskers': [<matplotlib.lines.Line2D at 0x7f2796831bd0>,\n",
              "  <matplotlib.lines.Line2D at 0x7f2796b87150>],\n",
              " 'caps': [<matplotlib.lines.Line2D at 0x7f2796b87690>,\n",
              "  <matplotlib.lines.Line2D at 0x7f2796b87bd0>],\n",
              " 'boxes': [<matplotlib.lines.Line2D at 0x7f2796831610>],\n",
              " 'medians': [<matplotlib.lines.Line2D at 0x7f2796bb4190>],\n",
              " 'fliers': [<matplotlib.lines.Line2D at 0x7f2796bb46d0>],\n",
              " 'means': []}"
            ]
          },
          "metadata": {},
          "execution_count": 117
        },
        {
          "output_type": "display_data",
          "data": {
            "text/plain": [
              "<Figure size 432x288 with 1 Axes>"
            ],
            "image/png": "[encoded data removed]"
          },
          "metadata": {
            "needs_background": "light"
          }
        }
      ]
    },
    {
      "cell_type": "code",
      "source": [
        "# slghtrel\n",
        "winsor_iqr = Winsorizer(capping_method = 'iqr',\n",
        "                              tail = 'both',\n",
        "                               fold = 1.5,\n",
        "                                variables = ('slghtrel'))\n",
        "\n",
        "data_iqr = winsor_iqr.fit_transform(data[['slghtrel']])\n",
        "\n",
        "sns.boxplot(data_iqr['slghtrel'])\n"
      ],
      "metadata": {
        "colab": {
          "base_uri": "https://localhost:8080/",
          "height": 351
        },
        "id": "AxJ_MIamwRzd",
        "outputId": "fbcc37b2-e2d1-4f16-d5e1-a2d3179c18d5"
      },
      "execution_count": 118,
      "outputs": [
        {
          "output_type": "stream",
          "name": "stderr",
          "text": [
            "/usr/local/lib/python3.7/dist-packages/seaborn/_decorators.py:43: FutureWarning: Pass the following variable as a keyword arg: x. From version 0.12, the only valid positional argument will be `data`, and passing other arguments without an explicit keyword will result in an error or misinterpretation.\n",
            "  FutureWarning\n"
          ]
        },
        {
          "output_type": "execute_result",
          "data": {
            "text/plain": [
              "<matplotlib.axes._subplots.AxesSubplot at 0x7f2796b887d0>"
            ]
          },
          "metadata": {},
          "execution_count": 118
        },
        {
          "output_type": "display_data",
          "data": {
            "text/plain": [
              "<Figure size 432x288 with 1 Axes>"
            ],
            "image/png": "[encoded data removed]"
          },
          "metadata": {
            "needs_background": "light"
          }
        }
      ]
    },
    {
      "cell_type": "code",
      "source": [
        "plt.boxplot(data['smerel'])"
      ],
      "metadata": {
        "colab": {
          "base_uri": "https://localhost:8080/",
          "height": 404
        },
        "id": "IVTJOPnYwTe0",
        "outputId": "47e24920-9196-4c3b-c45a-194cce2e4ce1"
      },
      "execution_count": 119,
      "outputs": [
        {
          "output_type": "execute_result",
          "data": {
            "text/plain": [
              "{'whiskers': [<matplotlib.lines.Line2D at 0x7f2796bd17d0>,\n",
              "  <matplotlib.lines.Line2D at 0x7f2796bd1d10>],\n",
              " 'caps': [<matplotlib.lines.Line2D at 0x7f27967c4290>,\n",
              "  <matplotlib.lines.Line2D at 0x7f27967c47d0>],\n",
              " 'boxes': [<matplotlib.lines.Line2D at 0x7f2796bd11d0>],\n",
              " 'medians': [<matplotlib.lines.Line2D at 0x7f27967c4d50>],\n",
              " 'fliers': [<matplotlib.lines.Line2D at 0x7f27967f1290>],\n",
              " 'means': []}"
            ]
          },
          "metadata": {},
          "execution_count": 119
        },
        {
          "output_type": "display_data",
          "data": {
            "text/plain": [
              "<Figure size 432x288 with 1 Axes>"
            ],
            "image/png": "[encoded data removed]"
          },
          "metadata": {
            "needs_background": "light"
          }
        }
      ]
    },
    {
      "cell_type": "code",
      "source": [
        "plt.boxplot(data['vryrel'])"
      ],
      "metadata": {
        "colab": {
          "base_uri": "https://localhost:8080/",
          "height": 404
        },
        "id": "m-nE6pgUwVFn",
        "outputId": "2cf46ea8-aed1-4b31-f346-24187cbe006b"
      },
      "execution_count": 120,
      "outputs": [
        {
          "output_type": "execute_result",
          "data": {
            "text/plain": [
              "{'whiskers': [<matplotlib.lines.Line2D at 0x7f2796d10dd0>,\n",
              "  <matplotlib.lines.Line2D at 0x7f2796992f10>],\n",
              " 'caps': [<matplotlib.lines.Line2D at 0x7f2796992810>,\n",
              "  <matplotlib.lines.Line2D at 0x7f2796992210>],\n",
              " 'boxes': [<matplotlib.lines.Line2D at 0x7f2796d10810>],\n",
              " 'medians': [<matplotlib.lines.Line2D at 0x7f27969b9390>],\n",
              " 'fliers': [<matplotlib.lines.Line2D at 0x7f27969b98d0>],\n",
              " 'means': []}"
            ]
          },
          "metadata": {},
          "execution_count": 120
        },
        {
          "output_type": "display_data",
          "data": {
            "text/plain": [
              "<Figure size 432x288 with 1 Axes>"
            ],
            "image/png": "[encoded data removed]"
          },
          "metadata": {
            "needs_background": "light"
          }
        }
      ]
    },
    {
      "cell_type": "code",
      "source": [
        "# vryrel\n",
        "winsor_iqr = Winsorizer(capping_method = 'iqr',\n",
        "                              tail = 'both',\n",
        "                               fold = 1.5,\n",
        "                                variables = ('vryrel'))\n",
        "\n",
        "data_iqr = winsor_iqr.fit_transform(data[['vryrel']])\n",
        "\n",
        "sns.boxplot(data_iqr['vryrel'])\n"
      ],
      "metadata": {
        "colab": {
          "base_uri": "https://localhost:8080/",
          "height": 351
        },
        "id": "123_vVQnwWre",
        "outputId": "f44003f4-b627-446a-b240-3d7eb6b91c76"
      },
      "execution_count": 121,
      "outputs": [
        {
          "output_type": "stream",
          "name": "stderr",
          "text": [
            "/usr/local/lib/python3.7/dist-packages/seaborn/_decorators.py:43: FutureWarning: Pass the following variable as a keyword arg: x. From version 0.12, the only valid positional argument will be `data`, and passing other arguments without an explicit keyword will result in an error or misinterpretation.\n",
            "  FutureWarning\n"
          ]
        },
        {
          "output_type": "execute_result",
          "data": {
            "text/plain": [
              "<matplotlib.axes._subplots.AxesSubplot at 0x7f279697e310>"
            ]
          },
          "metadata": {},
          "execution_count": 121
        },
        {
          "output_type": "display_data",
          "data": {
            "text/plain": [
              "<Figure size 432x288 with 1 Axes>"
            ],
            "image/png": "[encoded data removed]"
          },
          "metadata": {
            "needs_background": "light"
          }
        }
      ]
    },
    {
      "cell_type": "code",
      "source": [
        "plt.boxplot(data['yrsmarr1'])"
      ],
      "metadata": {
        "colab": {
          "base_uri": "https://localhost:8080/",
          "height": 404
        },
        "id": "vgGc2egJwYm9",
        "outputId": "ff3fa63a-b0b6-4638-84e5-030c9c380513"
      },
      "execution_count": 122,
      "outputs": [
        {
          "output_type": "execute_result",
          "data": {
            "text/plain": [
              "{'whiskers': [<matplotlib.lines.Line2D at 0x7f279668da90>,\n",
              "  <matplotlib.lines.Line2D at 0x7f279668dfd0>],\n",
              " 'caps': [<matplotlib.lines.Line2D at 0x7f27966a4550>,\n",
              "  <matplotlib.lines.Line2D at 0x7f27966a4a90>],\n",
              " 'boxes': [<matplotlib.lines.Line2D at 0x7f279668d4d0>],\n",
              " 'medians': [<matplotlib.lines.Line2D at 0x7f2796696050>],\n",
              " 'fliers': [<matplotlib.lines.Line2D at 0x7f2796696590>],\n",
              " 'means': []}"
            ]
          },
          "metadata": {},
          "execution_count": 122
        },
        {
          "output_type": "display_data",
          "data": {
            "text/plain": [
              "<Figure size 432x288 with 1 Axes>"
            ],
            "image/png": "[encoded data removed]"
          },
          "metadata": {
            "needs_background": "light"
          }
        }
      ]
    },
    {
      "cell_type": "code",
      "source": [
        "# yrsmarr1\n",
        "winsor_iqr = Winsorizer(capping_method = 'iqr',\n",
        "                              tail = 'both',\n",
        "                               fold = 1.5,\n",
        "                                variables = ('yrsmarr1'))\n",
        "\n",
        "data_iqr = winsor_iqr.fit_transform(data[['yrsmarr1']])\n",
        "\n",
        "sns.boxplot(data_iqr['yrsmarr1'])\n"
      ],
      "metadata": {
        "colab": {
          "base_uri": "https://localhost:8080/",
          "height": 351
        },
        "id": "CLrC7kgpwagT",
        "outputId": "fda24d6c-782b-4ab6-bc3c-b9b793865865"
      },
      "execution_count": 123,
      "outputs": [
        {
          "output_type": "stream",
          "name": "stderr",
          "text": [
            "/usr/local/lib/python3.7/dist-packages/seaborn/_decorators.py:43: FutureWarning: Pass the following variable as a keyword arg: x. From version 0.12, the only valid positional argument will be `data`, and passing other arguments without an explicit keyword will result in an error or misinterpretation.\n",
            "  FutureWarning\n"
          ]
        },
        {
          "output_type": "execute_result",
          "data": {
            "text/plain": [
              "<matplotlib.axes._subplots.AxesSubplot at 0x7f2796b27710>"
            ]
          },
          "metadata": {},
          "execution_count": 123
        },
        {
          "output_type": "display_data",
          "data": {
            "text/plain": [
              "<Figure size 432x288 with 1 Axes>"
            ],
            "image/png": "[encoded data removed]"
          },
          "metadata": {
            "needs_background": "light"
          }
        }
      ]
    },
    {
      "cell_type": "code",
      "source": [
        "plt.boxplot(data['yrsmarr2'])"
      ],
      "metadata": {
        "colab": {
          "base_uri": "https://localhost:8080/",
          "height": 404
        },
        "id": "0uSG-39ewcJI",
        "outputId": "6bca500d-f465-49a3-eff4-922022f375a0"
      },
      "execution_count": 124,
      "outputs": [
        {
          "output_type": "execute_result",
          "data": {
            "text/plain": [
              "{'whiskers': [<matplotlib.lines.Line2D at 0x7f2796cd43d0>,\n",
              "  <matplotlib.lines.Line2D at 0x7f2796cd4910>],\n",
              " 'caps': [<matplotlib.lines.Line2D at 0x7f2796cd4e50>,\n",
              "  <matplotlib.lines.Line2D at 0x7f2796cfa3d0>],\n",
              " 'boxes': [<matplotlib.lines.Line2D at 0x7f2796cc5dd0>],\n",
              " 'medians': [<matplotlib.lines.Line2D at 0x7f2796cfa950>],\n",
              " 'fliers': [<matplotlib.lines.Line2D at 0x7f2796cfae90>],\n",
              " 'means': []}"
            ]
          },
          "metadata": {},
          "execution_count": 124
        },
        {
          "output_type": "display_data",
          "data": {
            "text/plain": [
              "<Figure size 432x288 with 1 Axes>"
            ],
            "image/png": "[encoded data removed]"
          },
          "metadata": {
            "needs_background": "light"
          }
        }
      ]
    },
    {
      "cell_type": "code",
      "source": [
        "# yrsmarr2\n",
        "winsor_iqr = Winsorizer(capping_method = 'iqr',\n",
        "                              tail = 'both',\n",
        "                               fold = 1.5,\n",
        "                                variables = ('yrsmarr2'))\n",
        "\n",
        "data_iqr = winsor_iqr.fit_transform(data[['yrsmarr2']])\n",
        "\n",
        "sns.boxplot(data_iqr['yrsmarr2'])\n"
      ],
      "metadata": {
        "colab": {
          "base_uri": "https://localhost:8080/",
          "height": 351
        },
        "id": "FOvo9Lmrwdtr",
        "outputId": "fbe3ca38-ff4c-4c21-d9fd-8c951ef46633"
      },
      "execution_count": 125,
      "outputs": [
        {
          "output_type": "stream",
          "name": "stderr",
          "text": [
            "/usr/local/lib/python3.7/dist-packages/seaborn/_decorators.py:43: FutureWarning: Pass the following variable as a keyword arg: x. From version 0.12, the only valid positional argument will be `data`, and passing other arguments without an explicit keyword will result in an error or misinterpretation.\n",
            "  FutureWarning\n"
          ]
        },
        {
          "output_type": "execute_result",
          "data": {
            "text/plain": [
              "<matplotlib.axes._subplots.AxesSubplot at 0x7f2796ded090>"
            ]
          },
          "metadata": {},
          "execution_count": 125
        },
        {
          "output_type": "display_data",
          "data": {
            "text/plain": [
              "<Figure size 432x288 with 1 Axes>"
            ],
            "image/png": "[encoded data removed]"
          },
          "metadata": {
            "needs_background": "light"
          }
        }
      ]
    },
    {
      "cell_type": "code",
      "source": [
        "plt.boxplot(data['yrsmarr3'])"
      ],
      "metadata": {
        "colab": {
          "base_uri": "https://localhost:8080/",
          "height": 404
        },
        "id": "exoVra70wfPi",
        "outputId": "0780f076-7f0e-4094-e42b-3de4dd1361d6"
      },
      "execution_count": 126,
      "outputs": [
        {
          "output_type": "execute_result",
          "data": {
            "text/plain": [
              "{'whiskers': [<matplotlib.lines.Line2D at 0x7f2796373c90>,\n",
              "  <matplotlib.lines.Line2D at 0x7f279682af50>],\n",
              " 'caps': [<matplotlib.lines.Line2D at 0x7f2796b70310>,\n",
              "  <matplotlib.lines.Line2D at 0x7f2796aebc10>],\n",
              " 'boxes': [<matplotlib.lines.Line2D at 0x7f27963f7a10>],\n",
              " 'medians': [<matplotlib.lines.Line2D at 0x7f27963be8d0>],\n",
              " 'fliers': [<matplotlib.lines.Line2D at 0x7f27963fa310>],\n",
              " 'means': []}"
            ]
          },
          "metadata": {},
          "execution_count": 126
        },
        {
          "output_type": "display_data",
          "data": {
            "text/plain": [
              "<Figure size 432x288 with 1 Axes>"
            ],
            "image/png": "[encoded data removed]"
          },
          "metadata": {
            "needs_background": "light"
          }
        }
      ]
    },
    {
      "cell_type": "code",
      "source": [
        "# yrsmarr3\n",
        "winsor_iqr = Winsorizer(capping_method = 'iqr',\n",
        "                              tail = 'both',\n",
        "                               fold = 1.5,\n",
        "                                variables = ('yrsmarr3'))\n",
        "\n",
        "data_iqr = winsor_iqr.fit_transform(data[['yrsmarr3']])\n",
        "\n",
        "sns.boxplot(data_iqr['yrsmarr3'])\n"
      ],
      "metadata": {
        "colab": {
          "base_uri": "https://localhost:8080/",
          "height": 351
        },
        "id": "0HGDw7QOwhIn",
        "outputId": "431c9086-4086-4e06-ce68-4a4510cb1d18"
      },
      "execution_count": 127,
      "outputs": [
        {
          "output_type": "stream",
          "name": "stderr",
          "text": [
            "/usr/local/lib/python3.7/dist-packages/seaborn/_decorators.py:43: FutureWarning: Pass the following variable as a keyword arg: x. From version 0.12, the only valid positional argument will be `data`, and passing other arguments without an explicit keyword will result in an error or misinterpretation.\n",
            "  FutureWarning\n"
          ]
        },
        {
          "output_type": "execute_result",
          "data": {
            "text/plain": [
              "<matplotlib.axes._subplots.AxesSubplot at 0x7f2796d862d0>"
            ]
          },
          "metadata": {},
          "execution_count": 127
        },
        {
          "output_type": "display_data",
          "data": {
            "text/plain": [
              "<Figure size 432x288 with 1 Axes>"
            ],
            "image/png": "[encoded data removed]"
          },
          "metadata": {
            "needs_background": "light"
          }
        }
      ]
    },
    {
      "cell_type": "code",
      "source": [
        "plt.boxplot(data['yrsmarr4'])"
      ],
      "metadata": {
        "colab": {
          "base_uri": "https://localhost:8080/",
          "height": 404
        },
        "id": "xz8bf5P5wiw8",
        "outputId": "5379fe03-1cb4-4831-c3fb-46b2c027ee33"
      },
      "execution_count": 128,
      "outputs": [
        {
          "output_type": "execute_result",
          "data": {
            "text/plain": [
              "{'whiskers': [<matplotlib.lines.Line2D at 0x7f2796069550>,\n",
              "  <matplotlib.lines.Line2D at 0x7f2796069a90>],\n",
              " 'caps': [<matplotlib.lines.Line2D at 0x7f2796069fd0>,\n",
              "  <matplotlib.lines.Line2D at 0x7f2796071550>],\n",
              " 'boxes': [<matplotlib.lines.Line2D at 0x7f279676cf50>],\n",
              " 'medians': [<matplotlib.lines.Line2D at 0x7f2796071ad0>],\n",
              " 'fliers': [<matplotlib.lines.Line2D at 0x7f279607a050>],\n",
              " 'means': []}"
            ]
          },
          "metadata": {},
          "execution_count": 128
        },
        {
          "output_type": "display_data",
          "data": {
            "text/plain": [
              "<Figure size 432x288 with 1 Axes>"
            ],
            "image/png": "[encoded data removed]"
          },
          "metadata": {
            "needs_background": "light"
          }
        }
      ]
    },
    {
      "cell_type": "code",
      "source": [
        "# yrsmarr4\n",
        "winsor_iqr = Winsorizer(capping_method = 'iqr',\n",
        "                              tail = 'both',\n",
        "                               fold = 1.5,\n",
        "                                variables = ('yrsmarr4'))\n",
        "\n",
        "data_iqr = winsor_iqr.fit_transform(data[['yrsmarr4']])\n",
        "\n",
        "sns.boxplot(data_iqr['yrsmarr4'])\n"
      ],
      "metadata": {
        "colab": {
          "base_uri": "https://localhost:8080/",
          "height": 351
        },
        "id": "81Kr_4TswkJY",
        "outputId": "fca3b7bb-91bb-4952-f80e-0cb9f0e62a41"
      },
      "execution_count": 129,
      "outputs": [
        {
          "output_type": "stream",
          "name": "stderr",
          "text": [
            "/usr/local/lib/python3.7/dist-packages/seaborn/_decorators.py:43: FutureWarning: Pass the following variable as a keyword arg: x. From version 0.12, the only valid positional argument will be `data`, and passing other arguments without an explicit keyword will result in an error or misinterpretation.\n",
            "  FutureWarning\n"
          ]
        },
        {
          "output_type": "execute_result",
          "data": {
            "text/plain": [
              "<matplotlib.axes._subplots.AxesSubplot at 0x7f2796016810>"
            ]
          },
          "metadata": {},
          "execution_count": 129
        },
        {
          "output_type": "display_data",
          "data": {
            "text/plain": [
              "<Figure size 432x288 with 1 Axes>"
            ],
            "image/png": "[encoded data removed]"
          },
          "metadata": {
            "needs_background": "light"
          }
        }
      ]
    },
    {
      "cell_type": "code",
      "source": [
        "plt.boxplot(data['yrsmarr5'])"
      ],
      "metadata": {
        "colab": {
          "base_uri": "https://localhost:8080/",
          "height": 404
        },
        "id": "RH-BMDwFwlz2",
        "outputId": "62f94bf6-e33e-43e7-8948-6839b3a59b69"
      },
      "execution_count": 130,
      "outputs": [
        {
          "output_type": "execute_result",
          "data": {
            "text/plain": [
              "{'whiskers': [<matplotlib.lines.Line2D at 0x7f2795f48490>,\n",
              "  <matplotlib.lines.Line2D at 0x7f2795f489d0>],\n",
              " 'caps': [<matplotlib.lines.Line2D at 0x7f2795f48f10>,\n",
              "  <matplotlib.lines.Line2D at 0x7f2795f4e490>],\n",
              " 'boxes': [<matplotlib.lines.Line2D at 0x7f2795f42e50>],\n",
              " 'medians': [<matplotlib.lines.Line2D at 0x7f2795f4ea10>],\n",
              " 'fliers': [<matplotlib.lines.Line2D at 0x7f2795f4ef50>],\n",
              " 'means': []}"
            ]
          },
          "metadata": {},
          "execution_count": 130
        },
        {
          "output_type": "display_data",
          "data": {
            "text/plain": [
              "<Figure size 432x288 with 1 Axes>"
            ],
            "image/png": "[encoded data removed]"
          },
          "metadata": {
            "needs_background": "light"
          }
        }
      ]
    },
    {
      "cell_type": "code",
      "source": [
        "# yrsmarr5\n",
        "winsor_iqr = Winsorizer(capping_method = 'iqr',\n",
        "                              tail = 'both',\n",
        "                               fold = 1.5,\n",
        "                                variables = ('yrsmarr5'))\n",
        "\n",
        "data_iqr = winsor_iqr.fit_transform(data[['yrsmarr5']])\n",
        "\n",
        "sns.boxplot(data_iqr['yrsmarr5'])\n"
      ],
      "metadata": {
        "colab": {
          "base_uri": "https://localhost:8080/",
          "height": 351
        },
        "id": "EQH215Juwny9",
        "outputId": "49fcaeee-5a28-4d1e-897f-c3a1455eebf8"
      },
      "execution_count": 131,
      "outputs": [
        {
          "output_type": "stream",
          "name": "stderr",
          "text": [
            "/usr/local/lib/python3.7/dist-packages/seaborn/_decorators.py:43: FutureWarning: Pass the following variable as a keyword arg: x. From version 0.12, the only valid positional argument will be `data`, and passing other arguments without an explicit keyword will result in an error or misinterpretation.\n",
            "  FutureWarning\n"
          ]
        },
        {
          "output_type": "execute_result",
          "data": {
            "text/plain": [
              "<matplotlib.axes._subplots.AxesSubplot at 0x7f2795f69a10>"
            ]
          },
          "metadata": {},
          "execution_count": 131
        },
        {
          "output_type": "display_data",
          "data": {
            "text/plain": [
              "<Figure size 432x288 with 1 Axes>"
            ],
            "image/png": "[encoded data removed]"
          },
          "metadata": {
            "needs_background": "light"
          }
        }
      ]
    },
    {
      "cell_type": "code",
      "source": [
        "plt.boxplot(data['yrsmarr6'])"
      ],
      "metadata": {
        "colab": {
          "base_uri": "https://localhost:8080/",
          "height": 404
        },
        "id": "F6zEG5GPwpxZ",
        "outputId": "582f4de6-0574-44ab-e535-4f3b03eb24e2"
      },
      "execution_count": 132,
      "outputs": [
        {
          "output_type": "execute_result",
          "data": {
            "text/plain": [
              "{'whiskers': [<matplotlib.lines.Line2D at 0x7f2795e9fed0>,\n",
              "  <matplotlib.lines.Line2D at 0x7f2795ea3450>],\n",
              " 'caps': [<matplotlib.lines.Line2D at 0x7f2795ea3990>,\n",
              "  <matplotlib.lines.Line2D at 0x7f2795ea3ed0>],\n",
              " 'boxes': [<matplotlib.lines.Line2D at 0x7f2795e9f910>],\n",
              " 'medians': [<matplotlib.lines.Line2D at 0x7f2795eab490>],\n",
              " 'fliers': [<matplotlib.lines.Line2D at 0x7f2795eab9d0>],\n",
              " 'means': []}"
            ]
          },
          "metadata": {},
          "execution_count": 132
        },
        {
          "output_type": "display_data",
          "data": {
            "text/plain": [
              "<Figure size 432x288 with 1 Axes>"
            ],
            "image/png": "[encoded data removed]"
          },
          "metadata": {
            "needs_background": "light"
          }
        }
      ]
    },
    {
      "cell_type": "code",
      "source": [
        "# Checking the duplicates\n",
        "\n",
        "duplicates = data.duplicated()\n",
        "sum(duplicates)"
      ],
      "metadata": {
        "colab": {
          "base_uri": "https://localhost:8080/"
        },
        "id": "uZLdZGRlwrfn",
        "outputId": "dbdea9ef-a04e-4bc1-ba69-58ad3997a016"
      },
      "execution_count": 133,
      "outputs": [
        {
          "output_type": "execute_result",
          "data": {
            "text/plain": [
              "336"
            ]
          },
          "metadata": {},
          "execution_count": 133
        }
      ]
    },
    {
      "cell_type": "code",
      "source": [
        "duplicates =  data.drop_duplicates(keep = False)"
      ],
      "metadata": {
        "id": "w8et92Maws9x"
      },
      "execution_count": 134,
      "outputs": []
    },
    {
      "cell_type": "code",
      "source": [
        "duplicates.duplicated().sum()"
      ],
      "metadata": {
        "colab": {
          "base_uri": "https://localhost:8080/"
        },
        "id": "klpRJpySwu9G",
        "outputId": "614da84b-2dd9-4157-a4c6-69b7d3e43e34"
      },
      "execution_count": 135,
      "outputs": [
        {
          "output_type": "execute_result",
          "data": {
            "text/plain": [
              "0"
            ]
          },
          "metadata": {},
          "execution_count": 135
        }
      ]
    },
    {
      "cell_type": "code",
      "source": [
        "# Checking for Zero variance\n",
        "\n",
        "data.var() == 0"
      ],
      "metadata": {
        "colab": {
          "base_uri": "https://localhost:8080/"
        },
        "id": "g_CkimAywzXk",
        "outputId": "d8c72573-fb5c-41b9-a65d-a20ff0e8cd4d"
      },
      "execution_count": 136,
      "outputs": [
        {
          "output_type": "execute_result",
          "data": {
            "text/plain": [
              "naffairs    False\n",
              "kids        False\n",
              "vryunhap    False\n",
              "unhap       False\n",
              "avgmarr     False\n",
              "hapavg      False\n",
              "vryhap      False\n",
              "antirel     False\n",
              "notrel      False\n",
              "slghtrel    False\n",
              "smerel      False\n",
              "vryrel      False\n",
              "yrsmarr1    False\n",
              "yrsmarr2    False\n",
              "yrsmarr3    False\n",
              "yrsmarr4    False\n",
              "yrsmarr5    False\n",
              "yrsmarr6    False\n",
              "dtype: bool"
            ]
          },
          "metadata": {},
          "execution_count": 136
        }
      ]
    },
    {
      "cell_type": "code",
      "source": [
        "# Checking the Missing Values\n",
        "\n",
        "data.isna().sum()"
      ],
      "metadata": {
        "colab": {
          "base_uri": "https://localhost:8080/"
        },
        "id": "Un2X0-JPw1zh",
        "outputId": "6155af2a-2b69-442d-ba3d-3d4a9416a0ee"
      },
      "execution_count": 137,
      "outputs": [
        {
          "output_type": "execute_result",
          "data": {
            "text/plain": [
              "naffairs    0\n",
              "kids        0\n",
              "vryunhap    0\n",
              "unhap       0\n",
              "avgmarr     0\n",
              "hapavg      0\n",
              "vryhap      0\n",
              "antirel     0\n",
              "notrel      0\n",
              "slghtrel    0\n",
              "smerel      0\n",
              "vryrel      0\n",
              "yrsmarr1    0\n",
              "yrsmarr2    0\n",
              "yrsmarr3    0\n",
              "yrsmarr4    0\n",
              "yrsmarr5    0\n",
              "yrsmarr6    0\n",
              "dtype: int64"
            ]
          },
          "metadata": {},
          "execution_count": 137
        }
      ]
    },
    {
      "cell_type": "code",
      "source": [
        "# Binarization - Discritization \n",
        "\n",
        "data['naffairs'] = (data['naffairs'] > 0).astype(int)"
      ],
      "metadata": {
        "id": "OMxT_Ev5w3s6"
      },
      "execution_count": 138,
      "outputs": []
    },
    {
      "cell_type": "code",
      "source": [
        "data"
      ],
      "metadata": {
        "colab": {
          "base_uri": "https://localhost:8080/",
          "height": 424
        },
        "id": "-LYXWynzw80p",
        "outputId": "562187ec-d1d3-42b2-c5b4-627aeb1eb5fc"
      },
      "execution_count": 139,
      "outputs": [
        {
          "output_type": "execute_result",
          "data": {
            "text/plain": [
              "     naffairs  kids  vryunhap  unhap  avgmarr  hapavg  vryhap  antirel  \\\n",
              "0           0     0         0      0        0       1       0        0   \n",
              "1           0     0         0      0        0       1       0        0   \n",
              "2           1     0         0      0        0       1       0        0   \n",
              "3           0     1         0      0        0       1       0        1   \n",
              "4           1     1         0      0        0       0       1        0   \n",
              "..        ...   ...       ...    ...      ...     ...     ...      ...   \n",
              "596         0     0         0      0        0       1       0        0   \n",
              "597         1     1         0      0        0       0       1        0   \n",
              "598         0     1         0      1        0       0       0        0   \n",
              "599         0     1         0      0        0       1       0        0   \n",
              "600         0     1         0      0        0       1       0        0   \n",
              "\n",
              "     notrel  slghtrel  smerel  vryrel  yrsmarr1  yrsmarr2  yrsmarr3  yrsmarr4  \\\n",
              "0         0         1       0       0         0         0         0         0   \n",
              "1         0         0       1       0         0         0         1         0   \n",
              "2         0         1       0       0         0         1         0         0   \n",
              "3         0         0       0       0         0         0         0         0   \n",
              "4         0         1       0       0         0         0         1         0   \n",
              "..      ...       ...     ...     ...       ...       ...       ...       ...   \n",
              "596       0         0       1       0         0         0         0         0   \n",
              "597       0         1       0       0         0         0         0         0   \n",
              "598       1         0       0       0         0         0         0         0   \n",
              "599       0         1       0       0         0         0         0         0   \n",
              "600       1         0       0       0         0         0         1         0   \n",
              "\n",
              "     yrsmarr5  yrsmarr6  \n",
              "0           1         0  \n",
              "1           0         0  \n",
              "2           0         0  \n",
              "3           0         1  \n",
              "4           0         0  \n",
              "..        ...       ...  \n",
              "596         0         1  \n",
              "597         0         1  \n",
              "598         1         0  \n",
              "599         0         1  \n",
              "600         0         0  \n",
              "\n",
              "[601 rows x 18 columns]"
            ],
            "text/html": [
              "\n",
              "  <div id=\"df-2f344a69-4c29-4785-a1b8-74e41f277a94\">\n",
              "    <div class=\"colab-df-container\">\n",
              "      <div>\n",
              "<style scoped>\n",
              "    .dataframe tbody tr th:only-of-type {\n",
              "        vertical-align: middle;\n",
              "    }\n",
              "\n",
              "    .dataframe tbody tr th {\n",
              "        vertical-align: top;\n",
              "    }\n",
              "\n",
              "    .dataframe thead th {\n",
              "        text-align: right;\n",
              "    }\n",
              "</style>\n",
              "<table border=\"1\" class=\"dataframe\">\n",
              "  <thead>\n",
              "    <tr style=\"text-align: right;\">\n",
              "      <th></th>\n",
              "      <th>naffairs</th>\n",
              "      <th>kids</th>\n",
              "      <th>vryunhap</th>\n",
              "      <th>unhap</th>\n",
              "      <th>avgmarr</th>\n",
              "      <th>hapavg</th>\n",
              "      <th>vryhap</th>\n",
              "      <th>antirel</th>\n",
              "      <th>notrel</th>\n",
              "      <th>slghtrel</th>\n",
              "      <th>smerel</th>\n",
              "      <th>vryrel</th>\n",
              "      <th>yrsmarr1</th>\n",
              "      <th>yrsmarr2</th>\n",
              "      <th>yrsmarr3</th>\n",
              "      <th>yrsmarr4</th>\n",
              "      <th>yrsmarr5</th>\n",
              "      <th>yrsmarr6</th>\n",
              "    </tr>\n",
              "  </thead>\n",
              "  <tbody>\n",
              "    <tr>\n",
              "      <th>0</th>\n",
              "      <td>0</td>\n",
              "      <td>0</td>\n",
              "      <td>0</td>\n",
              "      <td>0</td>\n",
              "      <td>0</td>\n",
              "      <td>1</td>\n",
              "      <td>0</td>\n",
              "      <td>0</td>\n",
              "      <td>0</td>\n",
              "      <td>1</td>\n",
              "      <td>0</td>\n",
              "      <td>0</td>\n",
              "      <td>0</td>\n",
              "      <td>0</td>\n",
              "      <td>0</td>\n",
              "      <td>0</td>\n",
              "      <td>1</td>\n",
              "      <td>0</td>\n",
              "    </tr>\n",
              "    <tr>\n",
              "      <th>1</th>\n",
              "      <td>0</td>\n",
              "      <td>0</td>\n",
              "      <td>0</td>\n",
              "      <td>0</td>\n",
              "      <td>0</td>\n",
              "      <td>1</td>\n",
              "      <td>0</td>\n",
              "      <td>0</td>\n",
              "      <td>0</td>\n",
              "      <td>0</td>\n",
              "      <td>1</td>\n",
              "      <td>0</td>\n",
              "      <td>0</td>\n",
              "      <td>0</td>\n",
              "      <td>1</td>\n",
              "      <td>0</td>\n",
              "      <td>0</td>\n",
              "      <td>0</td>\n",
              "    </tr>\n",
              "    <tr>\n",
              "      <th>2</th>\n",
              "      <td>1</td>\n",
              "      <td>0</td>\n",
              "      <td>0</td>\n",
              "      <td>0</td>\n",
              "      <td>0</td>\n",
              "      <td>1</td>\n",
              "      <td>0</td>\n",
              "      <td>0</td>\n",
              "      <td>0</td>\n",
              "      <td>1</td>\n",
              "      <td>0</td>\n",
              "      <td>0</td>\n",
              "      <td>0</td>\n",
              "      <td>1</td>\n",
              "      <td>0</td>\n",
              "      <td>0</td>\n",
              "      <td>0</td>\n",
              "      <td>0</td>\n",
              "    </tr>\n",
              "    <tr>\n",
              "      <th>3</th>\n",
              "      <td>0</td>\n",
              "      <td>1</td>\n",
              "      <td>0</td>\n",
              "      <td>0</td>\n",
              "      <td>0</td>\n",
              "      <td>1</td>\n",
              "      <td>0</td>\n",
              "      <td>1</td>\n",
              "      <td>0</td>\n",
              "      <td>0</td>\n",
              "      <td>0</td>\n",
              "      <td>0</td>\n",
              "      <td>0</td>\n",
              "      <td>0</td>\n",
              "      <td>0</td>\n",
              "      <td>0</td>\n",
              "      <td>0</td>\n",
              "      <td>1</td>\n",
              "    </tr>\n",
              "    <tr>\n",
              "      <th>4</th>\n",
              "      <td>1</td>\n",
              "      <td>1</td>\n",
              "      <td>0</td>\n",
              "      <td>0</td>\n",
              "      <td>0</td>\n",
              "      <td>0</td>\n",
              "      <td>1</td>\n",
              "      <td>0</td>\n",
              "      <td>0</td>\n",
              "      <td>1</td>\n",
              "      <td>0</td>\n",
              "      <td>0</td>\n",
              "      <td>0</td>\n",
              "      <td>0</td>\n",
              "      <td>1</td>\n",
              "      <td>0</td>\n",
              "      <td>0</td>\n",
              "      <td>0</td>\n",
              "    </tr>\n",
              "    <tr>\n",
              "      <th>...</th>\n",
              "      <td>...</td>\n",
              "      <td>...</td>\n",
              "      <td>...</td>\n",
              "      <td>...</td>\n",
              "      <td>...</td>\n",
              "      <td>...</td>\n",
              "      <td>...</td>\n",
              "      <td>...</td>\n",
              "      <td>...</td>\n",
              "      <td>...</td>\n",
              "      <td>...</td>\n",
              "      <td>...</td>\n",
              "      <td>...</td>\n",
              "      <td>...</td>\n",
              "      <td>...</td>\n",
              "      <td>...</td>\n",
              "      <td>...</td>\n",
              "      <td>...</td>\n",
              "    </tr>\n",
              "    <tr>\n",
              "      <th>596</th>\n",
              "      <td>0</td>\n",
              "      <td>0</td>\n",
              "      <td>0</td>\n",
              "      <td>0</td>\n",
              "      <td>0</td>\n",
              "      <td>1</td>\n",
              "      <td>0</td>\n",
              "      <td>0</td>\n",
              "      <td>0</td>\n",
              "      <td>0</td>\n",
              "      <td>1</td>\n",
              "      <td>0</td>\n",
              "      <td>0</td>\n",
              "      <td>0</td>\n",
              "      <td>0</td>\n",
              "      <td>0</td>\n",
              "      <td>0</td>\n",
              "      <td>1</td>\n",
              "    </tr>\n",
              "    <tr>\n",
              "      <th>597</th>\n",
              "      <td>1</td>\n",
              "      <td>1</td>\n",
              "      <td>0</td>\n",
              "      <td>0</td>\n",
              "      <td>0</td>\n",
              "      <td>0</td>\n",
              "      <td>1</td>\n",
              "      <td>0</td>\n",
              "      <td>0</td>\n",
              "      <td>1</td>\n",
              "      <td>0</td>\n",
              "      <td>0</td>\n",
              "      <td>0</td>\n",
              "      <td>0</td>\n",
              "      <td>0</td>\n",
              "      <td>0</td>\n",
              "      <td>0</td>\n",
              "      <td>1</td>\n",
              "    </tr>\n",
              "    <tr>\n",
              "      <th>598</th>\n",
              "      <td>0</td>\n",
              "      <td>1</td>\n",
              "      <td>0</td>\n",
              "      <td>1</td>\n",
              "      <td>0</td>\n",
              "      <td>0</td>\n",
              "      <td>0</td>\n",
              "      <td>0</td>\n",
              "      <td>1</td>\n",
              "      <td>0</td>\n",
              "      <td>0</td>\n",
              "      <td>0</td>\n",
              "      <td>0</td>\n",
              "      <td>0</td>\n",
              "      <td>0</td>\n",
              "      <td>0</td>\n",
              "      <td>1</td>\n",
              "      <td>0</td>\n",
              "    </tr>\n",
              "    <tr>\n",
              "      <th>599</th>\n",
              "      <td>0</td>\n",
              "      <td>1</td>\n",
              "      <td>0</td>\n",
              "      <td>0</td>\n",
              "      <td>0</td>\n",
              "      <td>1</td>\n",
              "      <td>0</td>\n",
              "      <td>0</td>\n",
              "      <td>0</td>\n",
              "      <td>1</td>\n",
              "      <td>0</td>\n",
              "      <td>0</td>\n",
              "      <td>0</td>\n",
              "      <td>0</td>\n",
              "      <td>0</td>\n",
              "      <td>0</td>\n",
              "      <td>0</td>\n",
              "      <td>1</td>\n",
              "    </tr>\n",
              "    <tr>\n",
              "      <th>600</th>\n",
              "      <td>0</td>\n",
              "      <td>1</td>\n",
              "      <td>0</td>\n",
              "      <td>0</td>\n",
              "      <td>0</td>\n",
              "      <td>1</td>\n",
              "      <td>0</td>\n",
              "      <td>0</td>\n",
              "      <td>1</td>\n",
              "      <td>0</td>\n",
              "      <td>0</td>\n",
              "      <td>0</td>\n",
              "      <td>0</td>\n",
              "      <td>0</td>\n",
              "      <td>1</td>\n",
              "      <td>0</td>\n",
              "      <td>0</td>\n",
              "      <td>0</td>\n",
              "    </tr>\n",
              "  </tbody>\n",
              "</table>\n",
              "<p>601 rows × 18 columns</p>\n",
              "</div>\n",
              "      <button class=\"colab-df-convert\" onclick=\"convertToInteractive('df-2f344a69-4c29-4785-a1b8-74e41f277a94')\"\n",
              "              title=\"Convert this dataframe to an interactive table.\"\n",
              "              style=\"display:none;\">\n",
              "        \n",
              "  <svg xmlns=\"http://www.w3.org/2000/svg\" height=\"24px\"viewBox=\"0 0 24 24\"\n",
              "       width=\"24px\">\n",
              "    <path d=\"M0 0h24v24H0V0z\" fill=\"none\"/>\n",
              "    <path d=\"M18.56 5.44l.94 2.06.94-2.06 2.06-.94-2.06-.94-.94-2.06-.94 2.06-2.06.94zm-11 1L8.5 8.5l.94-2.06 2.06-.94-2.06-.94L8.5 2.5l-.94 2.06-2.06.94zm10 10l.94 2.06.94-2.06 2.06-.94-2.06-.94-.94-2.06-.94 2.06-2.06.94z\"/><path d=\"M17.41 7.96l-1.37-1.37c-.4-.4-.92-.59-1.43-.59-.52 0-1.04.2-1.43.59L10.3 9.45l-7.72 7.72c-.78.78-.78 2.05 0 2.83L4 21.41c.39.39.9.59 1.41.59.51 0 1.02-.2 1.41-.59l7.78-7.78 2.81-2.81c.8-.78.8-2.07 0-2.86zM5.41 20L4 18.59l7.72-7.72 1.47 1.35L5.41 20z\"/>\n",
              "  </svg>\n",
              "      </button>\n",
              "      \n",
              "  <style>\n",
              "    .colab-df-container {\n",
              "      display:flex;\n",
              "      flex-wrap:wrap;\n",
              "      gap: 12px;\n",
              "    }\n",
              "\n",
              "    .colab-df-convert {\n",
              "      background-color: #E8F0FE;\n",
              "      border: none;\n",
              "      border-radius: 50%;\n",
              "      cursor: pointer;\n",
              "      display: none;\n",
              "      fill: #1967D2;\n",
              "      height: 32px;\n",
              "      padding: 0 0 0 0;\n",
              "      width: 32px;\n",
              "    }\n",
              "\n",
              "    .colab-df-convert:hover {\n",
              "      background-color: #E2EBFA;\n",
              "      box-shadow: 0px 1px 2px rgba(60, 64, 67, 0.3), 0px 1px 3px 1px rgba(60, 64, 67, 0.15);\n",
              "      fill: #174EA6;\n",
              "    }\n",
              "\n",
              "    [theme=dark] .colab-df-convert {\n",
              "      background-color: #3B4455;\n",
              "      fill: #D2E3FC;\n",
              "    }\n",
              "\n",
              "    [theme=dark] .colab-df-convert:hover {\n",
              "      background-color: #434B5C;\n",
              "      box-shadow: 0px 1px 3px 1px rgba(0, 0, 0, 0.15);\n",
              "      filter: drop-shadow(0px 1px 2px rgba(0, 0, 0, 0.3));\n",
              "      fill: #FFFFFF;\n",
              "    }\n",
              "  </style>\n",
              "\n",
              "      <script>\n",
              "        const buttonEl =\n",
              "          document.querySelector('#df-2f344a69-4c29-4785-a1b8-74e41f277a94 button.colab-df-convert');\n",
              "        buttonEl.style.display =\n",
              "          google.colab.kernel.accessAllowed ? 'block' : 'none';\n",
              "\n",
              "        async function convertToInteractive(key) {\n",
              "          const element = document.querySelector('#df-2f344a69-4c29-4785-a1b8-74e41f277a94');\n",
              "          const dataTable =\n",
              "            await google.colab.kernel.invokeFunction('convertToInteractive',\n",
              "                                                     [key], {});\n",
              "          if (!dataTable) return;\n",
              "\n",
              "          const docLinkHtml = 'Like what you see? Visit the ' +\n",
              "            '<a target=\"_blank\" href=https://colab.research.google.com/notebooks/data_table.ipynb>data table notebook</a>'\n",
              "            + ' to learn more about interactive tables.';\n",
              "          element.innerHTML = '';\n",
              "          dataTable['output_type'] = 'display_data';\n",
              "          await google.colab.output.renderOutput(dataTable, element);\n",
              "          const docLink = document.createElement('div');\n",
              "          docLink.innerHTML = docLinkHtml;\n",
              "          element.appendChild(docLink);\n",
              "        }\n",
              "      </script>\n",
              "    </div>\n",
              "  </div>\n",
              "  "
            ]
          },
          "metadata": {},
          "execution_count": 139
        }
      ]
    },
    {
      "cell_type": "code",
      "source": [
        "# no need for Transformation, because there are only one's and zeros so we get only two lines in plot"
      ],
      "metadata": {
        "id": "hYnSms98w_6K"
      },
      "execution_count": 140,
      "outputs": []
    },
    {
      "cell_type": "code",
      "source": [
        "# Standardization using Scaler mean min = 0, max = 1\n",
        "\n",
        "data.describe()"
      ],
      "metadata": {
        "colab": {
          "base_uri": "https://localhost:8080/",
          "height": 364
        },
        "id": "QOQNVPjwxB0-",
        "outputId": "f445a086-b3bb-4b1b-c6d0-3b37405250ec"
      },
      "execution_count": 141,
      "outputs": [
        {
          "output_type": "execute_result",
          "data": {
            "text/plain": [
              "         naffairs        kids    vryunhap       unhap     avgmarr      hapavg  \\\n",
              "count  601.000000  601.000000  601.000000  601.000000  601.000000  601.000000   \n",
              "mean     0.249584    0.715474    0.026622    0.109817    0.154742    0.322795   \n",
              "std      0.433133    0.451564    0.161111    0.312922    0.361960    0.467935   \n",
              "min      0.000000    0.000000    0.000000    0.000000    0.000000    0.000000   \n",
              "25%      0.000000    0.000000    0.000000    0.000000    0.000000    0.000000   \n",
              "50%      0.000000    1.000000    0.000000    0.000000    0.000000    0.000000   \n",
              "75%      0.000000    1.000000    0.000000    0.000000    0.000000    1.000000   \n",
              "max      1.000000    1.000000    1.000000    1.000000    1.000000    1.000000   \n",
              "\n",
              "           vryhap     antirel      notrel    slghtrel      smerel      vryrel  \\\n",
              "count  601.000000  601.000000  601.000000  601.000000  601.000000  601.000000   \n",
              "mean     0.386023    0.079867    0.272879    0.214642    0.316140    0.116473   \n",
              "std      0.487242    0.271313    0.445810    0.410916    0.465355    0.321058   \n",
              "min      0.000000    0.000000    0.000000    0.000000    0.000000    0.000000   \n",
              "25%      0.000000    0.000000    0.000000    0.000000    0.000000    0.000000   \n",
              "50%      0.000000    0.000000    0.000000    0.000000    0.000000    0.000000   \n",
              "75%      1.000000    0.000000    1.000000    0.000000    1.000000    0.000000   \n",
              "max      1.000000    1.000000    1.000000    1.000000    1.000000    1.000000   \n",
              "\n",
              "         yrsmarr1    yrsmarr2    yrsmarr3    yrsmarr4    yrsmarr5    yrsmarr6  \n",
              "count  601.000000  601.000000  601.000000  601.000000  601.000000  601.000000  \n",
              "mean     0.086522    0.146423    0.174709    0.136439    0.116473    0.339434  \n",
              "std      0.281368    0.353824    0.380034    0.343540    0.321058    0.473912  \n",
              "min      0.000000    0.000000    0.000000    0.000000    0.000000    0.000000  \n",
              "25%      0.000000    0.000000    0.000000    0.000000    0.000000    0.000000  \n",
              "50%      0.000000    0.000000    0.000000    0.000000    0.000000    0.000000  \n",
              "75%      0.000000    0.000000    0.000000    0.000000    0.000000    1.000000  \n",
              "max      1.000000    1.000000    1.000000    1.000000    1.000000    1.000000  "
            ],
            "text/html": [
              "\n",
              "  <div id=\"df-d842eb4f-9497-47b7-bfc0-7972e7a988e1\">\n",
              "    <div class=\"colab-df-container\">\n",
              "      <div>\n",
              "<style scoped>\n",
              "    .dataframe tbody tr th:only-of-type {\n",
              "        vertical-align: middle;\n",
              "    }\n",
              "\n",
              "    .dataframe tbody tr th {\n",
              "        vertical-align: top;\n",
              "    }\n",
              "\n",
              "    .dataframe thead th {\n",
              "        text-align: right;\n",
              "    }\n",
              "</style>\n",
              "<table border=\"1\" class=\"dataframe\">\n",
              "  <thead>\n",
              "    <tr style=\"text-align: right;\">\n",
              "      <th></th>\n",
              "      <th>naffairs</th>\n",
              "      <th>kids</th>\n",
              "      <th>vryunhap</th>\n",
              "      <th>unhap</th>\n",
              "      <th>avgmarr</th>\n",
              "      <th>hapavg</th>\n",
              "      <th>vryhap</th>\n",
              "      <th>antirel</th>\n",
              "      <th>notrel</th>\n",
              "      <th>slghtrel</th>\n",
              "      <th>smerel</th>\n",
              "      <th>vryrel</th>\n",
              "      <th>yrsmarr1</th>\n",
              "      <th>yrsmarr2</th>\n",
              "      <th>yrsmarr3</th>\n",
              "      <th>yrsmarr4</th>\n",
              "      <th>yrsmarr5</th>\n",
              "      <th>yrsmarr6</th>\n",
              "    </tr>\n",
              "  </thead>\n",
              "  <tbody>\n",
              "    <tr>\n",
              "      <th>count</th>\n",
              "      <td>601.000000</td>\n",
              "      <td>601.000000</td>\n",
              "      <td>601.000000</td>\n",
              "      <td>601.000000</td>\n",
              "      <td>601.000000</td>\n",
              "      <td>601.000000</td>\n",
              "      <td>601.000000</td>\n",
              "      <td>601.000000</td>\n",
              "      <td>601.000000</td>\n",
              "      <td>601.000000</td>\n",
              "      <td>601.000000</td>\n",
              "      <td>601.000000</td>\n",
              "      <td>601.000000</td>\n",
              "      <td>601.000000</td>\n",
              "      <td>601.000000</td>\n",
              "      <td>601.000000</td>\n",
              "      <td>601.000000</td>\n",
              "      <td>601.000000</td>\n",
              "    </tr>\n",
              "    <tr>\n",
              "      <th>mean</th>\n",
              "      <td>0.249584</td>\n",
              "      <td>0.715474</td>\n",
              "      <td>0.026622</td>\n",
              "      <td>0.109817</td>\n",
              "      <td>0.154742</td>\n",
              "      <td>0.322795</td>\n",
              "      <td>0.386023</td>\n",
              "      <td>0.079867</td>\n",
              "      <td>0.272879</td>\n",
              "      <td>0.214642</td>\n",
              "      <td>0.316140</td>\n",
              "      <td>0.116473</td>\n",
              "      <td>0.086522</td>\n",
              "      <td>0.146423</td>\n",
              "      <td>0.174709</td>\n",
              "      <td>0.136439</td>\n",
              "      <td>0.116473</td>\n",
              "      <td>0.339434</td>\n",
              "    </tr>\n",
              "    <tr>\n",
              "      <th>std</th>\n",
              "      <td>0.433133</td>\n",
              "      <td>0.451564</td>\n",
              "      <td>0.161111</td>\n",
              "      <td>0.312922</td>\n",
              "      <td>0.361960</td>\n",
              "      <td>0.467935</td>\n",
              "      <td>0.487242</td>\n",
              "      <td>0.271313</td>\n",
              "      <td>0.445810</td>\n",
              "      <td>0.410916</td>\n",
              "      <td>0.465355</td>\n",
              "      <td>0.321058</td>\n",
              "      <td>0.281368</td>\n",
              "      <td>0.353824</td>\n",
              "      <td>0.380034</td>\n",
              "      <td>0.343540</td>\n",
              "      <td>0.321058</td>\n",
              "      <td>0.473912</td>\n",
              "    </tr>\n",
              "    <tr>\n",
              "      <th>min</th>\n",
              "      <td>0.000000</td>\n",
              "      <td>0.000000</td>\n",
              "      <td>0.000000</td>\n",
              "      <td>0.000000</td>\n",
              "      <td>0.000000</td>\n",
              "      <td>0.000000</td>\n",
              "      <td>0.000000</td>\n",
              "      <td>0.000000</td>\n",
              "      <td>0.000000</td>\n",
              "      <td>0.000000</td>\n",
              "      <td>0.000000</td>\n",
              "      <td>0.000000</td>\n",
              "      <td>0.000000</td>\n",
              "      <td>0.000000</td>\n",
              "      <td>0.000000</td>\n",
              "      <td>0.000000</td>\n",
              "      <td>0.000000</td>\n",
              "      <td>0.000000</td>\n",
              "    </tr>\n",
              "    <tr>\n",
              "      <th>25%</th>\n",
              "      <td>0.000000</td>\n",
              "      <td>0.000000</td>\n",
              "      <td>0.000000</td>\n",
              "      <td>0.000000</td>\n",
              "      <td>0.000000</td>\n",
              "      <td>0.000000</td>\n",
              "      <td>0.000000</td>\n",
              "      <td>0.000000</td>\n",
              "      <td>0.000000</td>\n",
              "      <td>0.000000</td>\n",
              "      <td>0.000000</td>\n",
              "      <td>0.000000</td>\n",
              "      <td>0.000000</td>\n",
              "      <td>0.000000</td>\n",
              "      <td>0.000000</td>\n",
              "      <td>0.000000</td>\n",
              "      <td>0.000000</td>\n",
              "      <td>0.000000</td>\n",
              "    </tr>\n",
              "    <tr>\n",
              "      <th>50%</th>\n",
              "      <td>0.000000</td>\n",
              "      <td>1.000000</td>\n",
              "      <td>0.000000</td>\n",
              "      <td>0.000000</td>\n",
              "      <td>0.000000</td>\n",
              "      <td>0.000000</td>\n",
              "      <td>0.000000</td>\n",
              "      <td>0.000000</td>\n",
              "      <td>0.000000</td>\n",
              "      <td>0.000000</td>\n",
              "      <td>0.000000</td>\n",
              "      <td>0.000000</td>\n",
              "      <td>0.000000</td>\n",
              "      <td>0.000000</td>\n",
              "      <td>0.000000</td>\n",
              "      <td>0.000000</td>\n",
              "      <td>0.000000</td>\n",
              "      <td>0.000000</td>\n",
              "    </tr>\n",
              "    <tr>\n",
              "      <th>75%</th>\n",
              "      <td>0.000000</td>\n",
              "      <td>1.000000</td>\n",
              "      <td>0.000000</td>\n",
              "      <td>0.000000</td>\n",
              "      <td>0.000000</td>\n",
              "      <td>1.000000</td>\n",
              "      <td>1.000000</td>\n",
              "      <td>0.000000</td>\n",
              "      <td>1.000000</td>\n",
              "      <td>0.000000</td>\n",
              "      <td>1.000000</td>\n",
              "      <td>0.000000</td>\n",
              "      <td>0.000000</td>\n",
              "      <td>0.000000</td>\n",
              "      <td>0.000000</td>\n",
              "      <td>0.000000</td>\n",
              "      <td>0.000000</td>\n",
              "      <td>1.000000</td>\n",
              "    </tr>\n",
              "    <tr>\n",
              "      <th>max</th>\n",
              "      <td>1.000000</td>\n",
              "      <td>1.000000</td>\n",
              "      <td>1.000000</td>\n",
              "      <td>1.000000</td>\n",
              "      <td>1.000000</td>\n",
              "      <td>1.000000</td>\n",
              "      <td>1.000000</td>\n",
              "      <td>1.000000</td>\n",
              "      <td>1.000000</td>\n",
              "      <td>1.000000</td>\n",
              "      <td>1.000000</td>\n",
              "      <td>1.000000</td>\n",
              "      <td>1.000000</td>\n",
              "      <td>1.000000</td>\n",
              "      <td>1.000000</td>\n",
              "      <td>1.000000</td>\n",
              "      <td>1.000000</td>\n",
              "      <td>1.000000</td>\n",
              "    </tr>\n",
              "  </tbody>\n",
              "</table>\n",
              "</div>\n",
              "      <button class=\"colab-df-convert\" onclick=\"convertToInteractive('df-d842eb4f-9497-47b7-bfc0-7972e7a988e1')\"\n",
              "              title=\"Convert this dataframe to an interactive table.\"\n",
              "              style=\"display:none;\">\n",
              "        \n",
              "  <svg xmlns=\"http://www.w3.org/2000/svg\" height=\"24px\"viewBox=\"0 0 24 24\"\n",
              "       width=\"24px\">\n",
              "    <path d=\"M0 0h24v24H0V0z\" fill=\"none\"/>\n",
              "    <path d=\"M18.56 5.44l.94 2.06.94-2.06 2.06-.94-2.06-.94-.94-2.06-.94 2.06-2.06.94zm-11 1L8.5 8.5l.94-2.06 2.06-.94-2.06-.94L8.5 2.5l-.94 2.06-2.06.94zm10 10l.94 2.06.94-2.06 2.06-.94-2.06-.94-.94-2.06-.94 2.06-2.06.94z\"/><path d=\"M17.41 7.96l-1.37-1.37c-.4-.4-.92-.59-1.43-.59-.52 0-1.04.2-1.43.59L10.3 9.45l-7.72 7.72c-.78.78-.78 2.05 0 2.83L4 21.41c.39.39.9.59 1.41.59.51 0 1.02-.2 1.41-.59l7.78-7.78 2.81-2.81c.8-.78.8-2.07 0-2.86zM5.41 20L4 18.59l7.72-7.72 1.47 1.35L5.41 20z\"/>\n",
              "  </svg>\n",
              "      </button>\n",
              "      \n",
              "  <style>\n",
              "    .colab-df-container {\n",
              "      display:flex;\n",
              "      flex-wrap:wrap;\n",
              "      gap: 12px;\n",
              "    }\n",
              "\n",
              "    .colab-df-convert {\n",
              "      background-color: #E8F0FE;\n",
              "      border: none;\n",
              "      border-radius: 50%;\n",
              "      cursor: pointer;\n",
              "      display: none;\n",
              "      fill: #1967D2;\n",
              "      height: 32px;\n",
              "      padding: 0 0 0 0;\n",
              "      width: 32px;\n",
              "    }\n",
              "\n",
              "    .colab-df-convert:hover {\n",
              "      background-color: #E2EBFA;\n",
              "      box-shadow: 0px 1px 2px rgba(60, 64, 67, 0.3), 0px 1px 3px 1px rgba(60, 64, 67, 0.15);\n",
              "      fill: #174EA6;\n",
              "    }\n",
              "\n",
              "    [theme=dark] .colab-df-convert {\n",
              "      background-color: #3B4455;\n",
              "      fill: #D2E3FC;\n",
              "    }\n",
              "\n",
              "    [theme=dark] .colab-df-convert:hover {\n",
              "      background-color: #434B5C;\n",
              "      box-shadow: 0px 1px 3px 1px rgba(0, 0, 0, 0.15);\n",
              "      filter: drop-shadow(0px 1px 2px rgba(0, 0, 0, 0.3));\n",
              "      fill: #FFFFFF;\n",
              "    }\n",
              "  </style>\n",
              "\n",
              "      <script>\n",
              "        const buttonEl =\n",
              "          document.querySelector('#df-d842eb4f-9497-47b7-bfc0-7972e7a988e1 button.colab-df-convert');\n",
              "        buttonEl.style.display =\n",
              "          google.colab.kernel.accessAllowed ? 'block' : 'none';\n",
              "\n",
              "        async function convertToInteractive(key) {\n",
              "          const element = document.querySelector('#df-d842eb4f-9497-47b7-bfc0-7972e7a988e1');\n",
              "          const dataTable =\n",
              "            await google.colab.kernel.invokeFunction('convertToInteractive',\n",
              "                                                     [key], {});\n",
              "          if (!dataTable) return;\n",
              "\n",
              "          const docLinkHtml = 'Like what you see? Visit the ' +\n",
              "            '<a target=\"_blank\" href=https://colab.research.google.com/notebooks/data_table.ipynb>data table notebook</a>'\n",
              "            + ' to learn more about interactive tables.';\n",
              "          element.innerHTML = '';\n",
              "          dataTable['output_type'] = 'display_data';\n",
              "          await google.colab.output.renderOutput(dataTable, element);\n",
              "          const docLink = document.createElement('div');\n",
              "          docLink.innerHTML = docLinkHtml;\n",
              "          element.appendChild(docLink);\n",
              "        }\n",
              "      </script>\n",
              "    </div>\n",
              "  </div>\n",
              "  "
            ]
          },
          "metadata": {},
          "execution_count": 141
        }
      ]
    },
    {
      "cell_type": "code",
      "source": [
        "def norm_fun(i):\n",
        "  x = (i - i.min())/(i.max() - i.min())\n",
        "\n",
        "  return x"
      ],
      "metadata": {
        "id": "TsvJj3UKxDRp"
      },
      "execution_count": 142,
      "outputs": []
    },
    {
      "cell_type": "code",
      "source": [
        "data_norm = norm_fun(data)\n",
        "data = pd.DataFrame(data_norm)\n",
        "data.describe()"
      ],
      "metadata": {
        "colab": {
          "base_uri": "https://localhost:8080/",
          "height": 364
        },
        "id": "rH-f_RV2xFSV",
        "outputId": "fa73f9f6-e8fc-4899-f731-a29cf58fa274"
      },
      "execution_count": 143,
      "outputs": [
        {
          "output_type": "execute_result",
          "data": {
            "text/plain": [
              "         naffairs        kids    vryunhap       unhap     avgmarr      hapavg  \\\n",
              "count  601.000000  601.000000  601.000000  601.000000  601.000000  601.000000   \n",
              "mean     0.249584    0.715474    0.026622    0.109817    0.154742    0.322795   \n",
              "std      0.433133    0.451564    0.161111    0.312922    0.361960    0.467935   \n",
              "min      0.000000    0.000000    0.000000    0.000000    0.000000    0.000000   \n",
              "25%      0.000000    0.000000    0.000000    0.000000    0.000000    0.000000   \n",
              "50%      0.000000    1.000000    0.000000    0.000000    0.000000    0.000000   \n",
              "75%      0.000000    1.000000    0.000000    0.000000    0.000000    1.000000   \n",
              "max      1.000000    1.000000    1.000000    1.000000    1.000000    1.000000   \n",
              "\n",
              "           vryhap     antirel      notrel    slghtrel      smerel      vryrel  \\\n",
              "count  601.000000  601.000000  601.000000  601.000000  601.000000  601.000000   \n",
              "mean     0.386023    0.079867    0.272879    0.214642    0.316140    0.116473   \n",
              "std      0.487242    0.271313    0.445810    0.410916    0.465355    0.321058   \n",
              "min      0.000000    0.000000    0.000000    0.000000    0.000000    0.000000   \n",
              "25%      0.000000    0.000000    0.000000    0.000000    0.000000    0.000000   \n",
              "50%      0.000000    0.000000    0.000000    0.000000    0.000000    0.000000   \n",
              "75%      1.000000    0.000000    1.000000    0.000000    1.000000    0.000000   \n",
              "max      1.000000    1.000000    1.000000    1.000000    1.000000    1.000000   \n",
              "\n",
              "         yrsmarr1    yrsmarr2    yrsmarr3    yrsmarr4    yrsmarr5    yrsmarr6  \n",
              "count  601.000000  601.000000  601.000000  601.000000  601.000000  601.000000  \n",
              "mean     0.086522    0.146423    0.174709    0.136439    0.116473    0.339434  \n",
              "std      0.281368    0.353824    0.380034    0.343540    0.321058    0.473912  \n",
              "min      0.000000    0.000000    0.000000    0.000000    0.000000    0.000000  \n",
              "25%      0.000000    0.000000    0.000000    0.000000    0.000000    0.000000  \n",
              "50%      0.000000    0.000000    0.000000    0.000000    0.000000    0.000000  \n",
              "75%      0.000000    0.000000    0.000000    0.000000    0.000000    1.000000  \n",
              "max      1.000000    1.000000    1.000000    1.000000    1.000000    1.000000  "
            ],
            "text/html": [
              "\n",
              "  <div id=\"df-8d80b677-c604-44e3-8d28-529ababa8b61\">\n",
              "    <div class=\"colab-df-container\">\n",
              "      <div>\n",
              "<style scoped>\n",
              "    .dataframe tbody tr th:only-of-type {\n",
              "        vertical-align: middle;\n",
              "    }\n",
              "\n",
              "    .dataframe tbody tr th {\n",
              "        vertical-align: top;\n",
              "    }\n",
              "\n",
              "    .dataframe thead th {\n",
              "        text-align: right;\n",
              "    }\n",
              "</style>\n",
              "<table border=\"1\" class=\"dataframe\">\n",
              "  <thead>\n",
              "    <tr style=\"text-align: right;\">\n",
              "      <th></th>\n",
              "      <th>naffairs</th>\n",
              "      <th>kids</th>\n",
              "      <th>vryunhap</th>\n",
              "      <th>unhap</th>\n",
              "      <th>avgmarr</th>\n",
              "      <th>hapavg</th>\n",
              "      <th>vryhap</th>\n",
              "      <th>antirel</th>\n",
              "      <th>notrel</th>\n",
              "      <th>slghtrel</th>\n",
              "      <th>smerel</th>\n",
              "      <th>vryrel</th>\n",
              "      <th>yrsmarr1</th>\n",
              "      <th>yrsmarr2</th>\n",
              "      <th>yrsmarr3</th>\n",
              "      <th>yrsmarr4</th>\n",
              "      <th>yrsmarr5</th>\n",
              "      <th>yrsmarr6</th>\n",
              "    </tr>\n",
              "  </thead>\n",
              "  <tbody>\n",
              "    <tr>\n",
              "      <th>count</th>\n",
              "      <td>601.000000</td>\n",
              "      <td>601.000000</td>\n",
              "      <td>601.000000</td>\n",
              "      <td>601.000000</td>\n",
              "      <td>601.000000</td>\n",
              "      <td>601.000000</td>\n",
              "      <td>601.000000</td>\n",
              "      <td>601.000000</td>\n",
              "      <td>601.000000</td>\n",
              "      <td>601.000000</td>\n",
              "      <td>601.000000</td>\n",
              "      <td>601.000000</td>\n",
              "      <td>601.000000</td>\n",
              "      <td>601.000000</td>\n",
              "      <td>601.000000</td>\n",
              "      <td>601.000000</td>\n",
              "      <td>601.000000</td>\n",
              "      <td>601.000000</td>\n",
              "    </tr>\n",
              "    <tr>\n",
              "      <th>mean</th>\n",
              "      <td>0.249584</td>\n",
              "      <td>0.715474</td>\n",
              "      <td>0.026622</td>\n",
              "      <td>0.109817</td>\n",
              "      <td>0.154742</td>\n",
              "      <td>0.322795</td>\n",
              "      <td>0.386023</td>\n",
              "      <td>0.079867</td>\n",
              "      <td>0.272879</td>\n",
              "      <td>0.214642</td>\n",
              "      <td>0.316140</td>\n",
              "      <td>0.116473</td>\n",
              "      <td>0.086522</td>\n",
              "      <td>0.146423</td>\n",
              "      <td>0.174709</td>\n",
              "      <td>0.136439</td>\n",
              "      <td>0.116473</td>\n",
              "      <td>0.339434</td>\n",
              "    </tr>\n",
              "    <tr>\n",
              "      <th>std</th>\n",
              "      <td>0.433133</td>\n",
              "      <td>0.451564</td>\n",
              "      <td>0.161111</td>\n",
              "      <td>0.312922</td>\n",
              "      <td>0.361960</td>\n",
              "      <td>0.467935</td>\n",
              "      <td>0.487242</td>\n",
              "      <td>0.271313</td>\n",
              "      <td>0.445810</td>\n",
              "      <td>0.410916</td>\n",
              "      <td>0.465355</td>\n",
              "      <td>0.321058</td>\n",
              "      <td>0.281368</td>\n",
              "      <td>0.353824</td>\n",
              "      <td>0.380034</td>\n",
              "      <td>0.343540</td>\n",
              "      <td>0.321058</td>\n",
              "      <td>0.473912</td>\n",
              "    </tr>\n",
              "    <tr>\n",
              "      <th>min</th>\n",
              "      <td>0.000000</td>\n",
              "      <td>0.000000</td>\n",
              "      <td>0.000000</td>\n",
              "      <td>0.000000</td>\n",
              "      <td>0.000000</td>\n",
              "      <td>0.000000</td>\n",
              "      <td>0.000000</td>\n",
              "      <td>0.000000</td>\n",
              "      <td>0.000000</td>\n",
              "      <td>0.000000</td>\n",
              "      <td>0.000000</td>\n",
              "      <td>0.000000</td>\n",
              "      <td>0.000000</td>\n",
              "      <td>0.000000</td>\n",
              "      <td>0.000000</td>\n",
              "      <td>0.000000</td>\n",
              "      <td>0.000000</td>\n",
              "      <td>0.000000</td>\n",
              "    </tr>\n",
              "    <tr>\n",
              "      <th>25%</th>\n",
              "      <td>0.000000</td>\n",
              "      <td>0.000000</td>\n",
              "      <td>0.000000</td>\n",
              "      <td>0.000000</td>\n",
              "      <td>0.000000</td>\n",
              "      <td>0.000000</td>\n",
              "      <td>0.000000</td>\n",
              "      <td>0.000000</td>\n",
              "      <td>0.000000</td>\n",
              "      <td>0.000000</td>\n",
              "      <td>0.000000</td>\n",
              "      <td>0.000000</td>\n",
              "      <td>0.000000</td>\n",
              "      <td>0.000000</td>\n",
              "      <td>0.000000</td>\n",
              "      <td>0.000000</td>\n",
              "      <td>0.000000</td>\n",
              "      <td>0.000000</td>\n",
              "    </tr>\n",
              "    <tr>\n",
              "      <th>50%</th>\n",
              "      <td>0.000000</td>\n",
              "      <td>1.000000</td>\n",
              "      <td>0.000000</td>\n",
              "      <td>0.000000</td>\n",
              "      <td>0.000000</td>\n",
              "      <td>0.000000</td>\n",
              "      <td>0.000000</td>\n",
              "      <td>0.000000</td>\n",
              "      <td>0.000000</td>\n",
              "      <td>0.000000</td>\n",
              "      <td>0.000000</td>\n",
              "      <td>0.000000</td>\n",
              "      <td>0.000000</td>\n",
              "      <td>0.000000</td>\n",
              "      <td>0.000000</td>\n",
              "      <td>0.000000</td>\n",
              "      <td>0.000000</td>\n",
              "      <td>0.000000</td>\n",
              "    </tr>\n",
              "    <tr>\n",
              "      <th>75%</th>\n",
              "      <td>0.000000</td>\n",
              "      <td>1.000000</td>\n",
              "      <td>0.000000</td>\n",
              "      <td>0.000000</td>\n",
              "      <td>0.000000</td>\n",
              "      <td>1.000000</td>\n",
              "      <td>1.000000</td>\n",
              "      <td>0.000000</td>\n",
              "      <td>1.000000</td>\n",
              "      <td>0.000000</td>\n",
              "      <td>1.000000</td>\n",
              "      <td>0.000000</td>\n",
              "      <td>0.000000</td>\n",
              "      <td>0.000000</td>\n",
              "      <td>0.000000</td>\n",
              "      <td>0.000000</td>\n",
              "      <td>0.000000</td>\n",
              "      <td>1.000000</td>\n",
              "    </tr>\n",
              "    <tr>\n",
              "      <th>max</th>\n",
              "      <td>1.000000</td>\n",
              "      <td>1.000000</td>\n",
              "      <td>1.000000</td>\n",
              "      <td>1.000000</td>\n",
              "      <td>1.000000</td>\n",
              "      <td>1.000000</td>\n",
              "      <td>1.000000</td>\n",
              "      <td>1.000000</td>\n",
              "      <td>1.000000</td>\n",
              "      <td>1.000000</td>\n",
              "      <td>1.000000</td>\n",
              "      <td>1.000000</td>\n",
              "      <td>1.000000</td>\n",
              "      <td>1.000000</td>\n",
              "      <td>1.000000</td>\n",
              "      <td>1.000000</td>\n",
              "      <td>1.000000</td>\n",
              "      <td>1.000000</td>\n",
              "    </tr>\n",
              "  </tbody>\n",
              "</table>\n",
              "</div>\n",
              "      <button class=\"colab-df-convert\" onclick=\"convertToInteractive('df-8d80b677-c604-44e3-8d28-529ababa8b61')\"\n",
              "              title=\"Convert this dataframe to an interactive table.\"\n",
              "              style=\"display:none;\">\n",
              "        \n",
              "  <svg xmlns=\"http://www.w3.org/2000/svg\" height=\"24px\"viewBox=\"0 0 24 24\"\n",
              "       width=\"24px\">\n",
              "    <path d=\"M0 0h24v24H0V0z\" fill=\"none\"/>\n",
              "    <path d=\"M18.56 5.44l.94 2.06.94-2.06 2.06-.94-2.06-.94-.94-2.06-.94 2.06-2.06.94zm-11 1L8.5 8.5l.94-2.06 2.06-.94-2.06-.94L8.5 2.5l-.94 2.06-2.06.94zm10 10l.94 2.06.94-2.06 2.06-.94-2.06-.94-.94-2.06-.94 2.06-2.06.94z\"/><path d=\"M17.41 7.96l-1.37-1.37c-.4-.4-.92-.59-1.43-.59-.52 0-1.04.2-1.43.59L10.3 9.45l-7.72 7.72c-.78.78-.78 2.05 0 2.83L4 21.41c.39.39.9.59 1.41.59.51 0 1.02-.2 1.41-.59l7.78-7.78 2.81-2.81c.8-.78.8-2.07 0-2.86zM5.41 20L4 18.59l7.72-7.72 1.47 1.35L5.41 20z\"/>\n",
              "  </svg>\n",
              "      </button>\n",
              "      \n",
              "  <style>\n",
              "    .colab-df-container {\n",
              "      display:flex;\n",
              "      flex-wrap:wrap;\n",
              "      gap: 12px;\n",
              "    }\n",
              "\n",
              "    .colab-df-convert {\n",
              "      background-color: #E8F0FE;\n",
              "      border: none;\n",
              "      border-radius: 50%;\n",
              "      cursor: pointer;\n",
              "      display: none;\n",
              "      fill: #1967D2;\n",
              "      height: 32px;\n",
              "      padding: 0 0 0 0;\n",
              "      width: 32px;\n",
              "    }\n",
              "\n",
              "    .colab-df-convert:hover {\n",
              "      background-color: #E2EBFA;\n",
              "      box-shadow: 0px 1px 2px rgba(60, 64, 67, 0.3), 0px 1px 3px 1px rgba(60, 64, 67, 0.15);\n",
              "      fill: #174EA6;\n",
              "    }\n",
              "\n",
              "    [theme=dark] .colab-df-convert {\n",
              "      background-color: #3B4455;\n",
              "      fill: #D2E3FC;\n",
              "    }\n",
              "\n",
              "    [theme=dark] .colab-df-convert:hover {\n",
              "      background-color: #434B5C;\n",
              "      box-shadow: 0px 1px 3px 1px rgba(0, 0, 0, 0.15);\n",
              "      filter: drop-shadow(0px 1px 2px rgba(0, 0, 0, 0.3));\n",
              "      fill: #FFFFFF;\n",
              "    }\n",
              "  </style>\n",
              "\n",
              "      <script>\n",
              "        const buttonEl =\n",
              "          document.querySelector('#df-8d80b677-c604-44e3-8d28-529ababa8b61 button.colab-df-convert');\n",
              "        buttonEl.style.display =\n",
              "          google.colab.kernel.accessAllowed ? 'block' : 'none';\n",
              "\n",
              "        async function convertToInteractive(key) {\n",
              "          const element = document.querySelector('#df-8d80b677-c604-44e3-8d28-529ababa8b61');\n",
              "          const dataTable =\n",
              "            await google.colab.kernel.invokeFunction('convertToInteractive',\n",
              "                                                     [key], {});\n",
              "          if (!dataTable) return;\n",
              "\n",
              "          const docLinkHtml = 'Like what you see? Visit the ' +\n",
              "            '<a target=\"_blank\" href=https://colab.research.google.com/notebooks/data_table.ipynb>data table notebook</a>'\n",
              "            + ' to learn more about interactive tables.';\n",
              "          element.innerHTML = '';\n",
              "          dataTable['output_type'] = 'display_data';\n",
              "          await google.colab.output.renderOutput(dataTable, element);\n",
              "          const docLink = document.createElement('div');\n",
              "          docLink.innerHTML = docLinkHtml;\n",
              "          element.appendChild(docLink);\n",
              "        }\n",
              "      </script>\n",
              "    </div>\n",
              "  </div>\n",
              "  "
            ]
          },
          "metadata": {},
          "execution_count": 143
        }
      ]
    },
    {
      "cell_type": "code",
      "source": [
        "# Checking the Correaltion\n",
        "\n",
        "data.corr()"
      ],
      "metadata": {
        "colab": {
          "base_uri": "https://localhost:8080/",
          "height": 678
        },
        "id": "nqo1uA99xHCX",
        "outputId": "57832316-cbfb-46bc-a286-e0ca678fe215"
      },
      "execution_count": 144,
      "outputs": [
        {
          "output_type": "execute_result",
          "data": {
            "text/plain": [
              "          naffairs      kids  vryunhap     unhap   avgmarr    hapavg  \\\n",
              "naffairs  1.000000  0.133605  0.095694  0.203235  0.040277 -0.003448   \n",
              "kids      0.133605  1.000000  0.035564  0.127133  0.025094  0.119876   \n",
              "vryunhap  0.095694  0.035564  1.000000 -0.058087 -0.070761 -0.114179   \n",
              "unhap     0.203235  0.127133 -0.058087  1.000000 -0.150281 -0.242493   \n",
              "avgmarr   0.040277  0.025094 -0.070761 -0.150281  1.000000 -0.295402   \n",
              "hapavg   -0.003448  0.119876 -0.114179 -0.242493 -0.295402  1.000000   \n",
              "vryhap   -0.188775 -0.227176 -0.131133 -0.278500 -0.339266 -0.547437   \n",
              "antirel   0.113744 -0.045474 -0.010595 -0.044586 -0.041200  0.019768   \n",
              "notrel    0.000589 -0.110424  0.014710  0.071563 -0.003901 -0.015487   \n",
              "slghtrel  0.101169  0.015304  0.014242  0.023767  0.022840 -0.005553   \n",
              "smerel   -0.119244  0.071857 -0.023525 -0.044239  0.005927  0.020427   \n",
              "vryrel   -0.053584  0.068019  0.004396 -0.027989  0.002410 -0.017702   \n",
              "yrsmarr1 -0.109111 -0.369977 -0.050898 -0.089167  0.015602 -0.022600   \n",
              "yrsmarr2 -0.108355 -0.427288 -0.068496 -0.025047 -0.047075 -0.124884   \n",
              "yrsmarr3  0.008036 -0.059484 -0.021650 -0.091528 -0.015120  0.010370   \n",
              "yrsmarr4  0.028384  0.132481 -0.005511  0.108448  0.004170 -0.015233   \n",
              "yrsmarr5  0.042297  0.148491 -0.060046 -0.044579  0.002410  0.071048   \n",
              "yrsmarr6  0.090004  0.389742  0.143393  0.096623  0.033352  0.061251   \n",
              "\n",
              "            vryhap   antirel    notrel  slghtrel    smerel    vryrel  \\\n",
              "naffairs -0.188775  0.113744  0.000589  0.101169 -0.119244 -0.053584   \n",
              "kids     -0.227176 -0.045474 -0.110424  0.015304  0.071857  0.068019   \n",
              "vryunhap -0.131133 -0.010595  0.014710  0.014242 -0.023525  0.004396   \n",
              "unhap    -0.278500 -0.044586  0.071563  0.023767 -0.044239 -0.027989   \n",
              "avgmarr  -0.339266 -0.041200 -0.003901  0.022840  0.005927  0.002410   \n",
              "hapavg   -0.547437  0.019768 -0.015487 -0.005553  0.020427 -0.017702   \n",
              "vryhap    1.000000  0.043760 -0.033053 -0.031608  0.012169  0.031732   \n",
              "antirel   0.043760  1.000000 -0.180484 -0.154022 -0.200315 -0.106969   \n",
              "notrel   -0.033053 -0.180484  1.000000 -0.320262 -0.416521 -0.222425   \n",
              "slghtrel -0.031608 -0.154022 -0.320262  1.000000 -0.355451 -0.189813   \n",
              "smerel    0.012169 -0.200315 -0.416521 -0.355451  1.000000 -0.246864   \n",
              "vryrel    0.031732 -0.106969 -0.222425 -0.189813 -0.246864  1.000000   \n",
              "yrsmarr1  0.084210 -0.003342  0.063914 -0.016742 -0.056507  0.017406   \n",
              "yrsmarr2  0.193641 -0.000491  0.126652  0.012741 -0.099403 -0.047677   \n",
              "yrsmarr3  0.067214  0.123074 -0.016254  0.079645 -0.058379 -0.098755   \n",
              "yrsmarr4 -0.056296 -0.027700  0.017672 -0.030705  0.084200 -0.083876   \n",
              "yrsmarr5 -0.021539 -0.030435  0.022107 -0.025582  0.009708  0.013694   \n",
              "yrsmarr6 -0.193068 -0.055645 -0.147259 -0.023853  0.086965  0.155979   \n",
              "\n",
              "          yrsmarr1  yrsmarr2  yrsmarr3  yrsmarr4  yrsmarr5  yrsmarr6  \n",
              "naffairs -0.109111 -0.108355  0.008036  0.028384  0.042297  0.090004  \n",
              "kids     -0.369977 -0.427288 -0.059484  0.132481  0.148491  0.389742  \n",
              "vryunhap -0.050898 -0.068496 -0.021650 -0.005511 -0.060046  0.143393  \n",
              "unhap    -0.089167 -0.025047 -0.091528  0.108448 -0.044579  0.096623  \n",
              "avgmarr   0.015602 -0.047075 -0.015120  0.004170  0.002410  0.033352  \n",
              "hapavg   -0.022600 -0.124884  0.010370 -0.015233  0.071048  0.061251  \n",
              "vryhap    0.084210  0.193641  0.067214 -0.056296 -0.021539 -0.193068  \n",
              "antirel  -0.003342 -0.000491  0.123074 -0.027700 -0.030435 -0.055645  \n",
              "notrel    0.063914  0.126652 -0.016254  0.017672  0.022107 -0.147259  \n",
              "slghtrel -0.016742  0.012741  0.079645 -0.030705 -0.025582 -0.023853  \n",
              "smerel   -0.056507 -0.099403 -0.058379  0.084200  0.009708  0.086965  \n",
              "vryrel    0.017406 -0.047677 -0.098755 -0.083876  0.013694  0.155979  \n",
              "yrsmarr1  1.000000 -0.127467 -0.141602 -0.122332 -0.111742 -0.220615  \n",
              "yrsmarr2 -0.127467  1.000000 -0.190562 -0.164629 -0.150378 -0.296895  \n",
              "yrsmarr3 -0.141602 -0.190562  1.000000 -0.182885 -0.167053 -0.329817  \n",
              "yrsmarr4 -0.122332 -0.164629 -0.182885  1.000000 -0.144319 -0.284933  \n",
              "yrsmarr5 -0.111742 -0.150378 -0.167053 -0.144319  1.000000 -0.260268  \n",
              "yrsmarr6 -0.220615 -0.296895 -0.329817 -0.284933 -0.260268  1.000000  "
            ],
            "text/html": [
              "\n",
              "  <div id=\"df-474accd1-b309-4822-ab33-56d3bed41693\">\n",
              "    <div class=\"colab-df-container\">\n",
              "      <div>\n",
              "<style scoped>\n",
              "    .dataframe tbody tr th:only-of-type {\n",
              "        vertical-align: middle;\n",
              "    }\n",
              "\n",
              "    .dataframe tbody tr th {\n",
              "        vertical-align: top;\n",
              "    }\n",
              "\n",
              "    .dataframe thead th {\n",
              "        text-align: right;\n",
              "    }\n",
              "</style>\n",
              "<table border=\"1\" class=\"dataframe\">\n",
              "  <thead>\n",
              "    <tr style=\"text-align: right;\">\n",
              "      <th></th>\n",
              "      <th>naffairs</th>\n",
              "      <th>kids</th>\n",
              "      <th>vryunhap</th>\n",
              "      <th>unhap</th>\n",
              "      <th>avgmarr</th>\n",
              "      <th>hapavg</th>\n",
              "      <th>vryhap</th>\n",
              "      <th>antirel</th>\n",
              "      <th>notrel</th>\n",
              "      <th>slghtrel</th>\n",
              "      <th>smerel</th>\n",
              "      <th>vryrel</th>\n",
              "      <th>yrsmarr1</th>\n",
              "      <th>yrsmarr2</th>\n",
              "      <th>yrsmarr3</th>\n",
              "      <th>yrsmarr4</th>\n",
              "      <th>yrsmarr5</th>\n",
              "      <th>yrsmarr6</th>\n",
              "    </tr>\n",
              "  </thead>\n",
              "  <tbody>\n",
              "    <tr>\n",
              "      <th>naffairs</th>\n",
              "      <td>1.000000</td>\n",
              "      <td>0.133605</td>\n",
              "      <td>0.095694</td>\n",
              "      <td>0.203235</td>\n",
              "      <td>0.040277</td>\n",
              "      <td>-0.003448</td>\n",
              "      <td>-0.188775</td>\n",
              "      <td>0.113744</td>\n",
              "      <td>0.000589</td>\n",
              "      <td>0.101169</td>\n",
              "      <td>-0.119244</td>\n",
              "      <td>-0.053584</td>\n",
              "      <td>-0.109111</td>\n",
              "      <td>-0.108355</td>\n",
              "      <td>0.008036</td>\n",
              "      <td>0.028384</td>\n",
              "      <td>0.042297</td>\n",
              "      <td>0.090004</td>\n",
              "    </tr>\n",
              "    <tr>\n",
              "      <th>kids</th>\n",
              "      <td>0.133605</td>\n",
              "      <td>1.000000</td>\n",
              "      <td>0.035564</td>\n",
              "      <td>0.127133</td>\n",
              "      <td>0.025094</td>\n",
              "      <td>0.119876</td>\n",
              "      <td>-0.227176</td>\n",
              "      <td>-0.045474</td>\n",
              "      <td>-0.110424</td>\n",
              "      <td>0.015304</td>\n",
              "      <td>0.071857</td>\n",
              "      <td>0.068019</td>\n",
              "      <td>-0.369977</td>\n",
              "      <td>-0.427288</td>\n",
              "      <td>-0.059484</td>\n",
              "      <td>0.132481</td>\n",
              "      <td>0.148491</td>\n",
              "      <td>0.389742</td>\n",
              "    </tr>\n",
              "    <tr>\n",
              "      <th>vryunhap</th>\n",
              "      <td>0.095694</td>\n",
              "      <td>0.035564</td>\n",
              "      <td>1.000000</td>\n",
              "      <td>-0.058087</td>\n",
              "      <td>-0.070761</td>\n",
              "      <td>-0.114179</td>\n",
              "      <td>-0.131133</td>\n",
              "      <td>-0.010595</td>\n",
              "      <td>0.014710</td>\n",
              "      <td>0.014242</td>\n",
              "      <td>-0.023525</td>\n",
              "      <td>0.004396</td>\n",
              "      <td>-0.050898</td>\n",
              "      <td>-0.068496</td>\n",
              "      <td>-0.021650</td>\n",
              "      <td>-0.005511</td>\n",
              "      <td>-0.060046</td>\n",
              "      <td>0.143393</td>\n",
              "    </tr>\n",
              "    <tr>\n",
              "      <th>unhap</th>\n",
              "      <td>0.203235</td>\n",
              "      <td>0.127133</td>\n",
              "      <td>-0.058087</td>\n",
              "      <td>1.000000</td>\n",
              "      <td>-0.150281</td>\n",
              "      <td>-0.242493</td>\n",
              "      <td>-0.278500</td>\n",
              "      <td>-0.044586</td>\n",
              "      <td>0.071563</td>\n",
              "      <td>0.023767</td>\n",
              "      <td>-0.044239</td>\n",
              "      <td>-0.027989</td>\n",
              "      <td>-0.089167</td>\n",
              "      <td>-0.025047</td>\n",
              "      <td>-0.091528</td>\n",
              "      <td>0.108448</td>\n",
              "      <td>-0.044579</td>\n",
              "      <td>0.096623</td>\n",
              "    </tr>\n",
              "    <tr>\n",
              "      <th>avgmarr</th>\n",
              "      <td>0.040277</td>\n",
              "      <td>0.025094</td>\n",
              "      <td>-0.070761</td>\n",
              "      <td>-0.150281</td>\n",
              "      <td>1.000000</td>\n",
              "      <td>-0.295402</td>\n",
              "      <td>-0.339266</td>\n",
              "      <td>-0.041200</td>\n",
              "      <td>-0.003901</td>\n",
              "      <td>0.022840</td>\n",
              "      <td>0.005927</td>\n",
              "      <td>0.002410</td>\n",
              "      <td>0.015602</td>\n",
              "      <td>-0.047075</td>\n",
              "      <td>-0.015120</td>\n",
              "      <td>0.004170</td>\n",
              "      <td>0.002410</td>\n",
              "      <td>0.033352</td>\n",
              "    </tr>\n",
              "    <tr>\n",
              "      <th>hapavg</th>\n",
              "      <td>-0.003448</td>\n",
              "      <td>0.119876</td>\n",
              "      <td>-0.114179</td>\n",
              "      <td>-0.242493</td>\n",
              "      <td>-0.295402</td>\n",
              "      <td>1.000000</td>\n",
              "      <td>-0.547437</td>\n",
              "      <td>0.019768</td>\n",
              "      <td>-0.015487</td>\n",
              "      <td>-0.005553</td>\n",
              "      <td>0.020427</td>\n",
              "      <td>-0.017702</td>\n",
              "      <td>-0.022600</td>\n",
              "      <td>-0.124884</td>\n",
              "      <td>0.010370</td>\n",
              "      <td>-0.015233</td>\n",
              "      <td>0.071048</td>\n",
              "      <td>0.061251</td>\n",
              "    </tr>\n",
              "    <tr>\n",
              "      <th>vryhap</th>\n",
              "      <td>-0.188775</td>\n",
              "      <td>-0.227176</td>\n",
              "      <td>-0.131133</td>\n",
              "      <td>-0.278500</td>\n",
              "      <td>-0.339266</td>\n",
              "      <td>-0.547437</td>\n",
              "      <td>1.000000</td>\n",
              "      <td>0.043760</td>\n",
              "      <td>-0.033053</td>\n",
              "      <td>-0.031608</td>\n",
              "      <td>0.012169</td>\n",
              "      <td>0.031732</td>\n",
              "      <td>0.084210</td>\n",
              "      <td>0.193641</td>\n",
              "      <td>0.067214</td>\n",
              "      <td>-0.056296</td>\n",
              "      <td>-0.021539</td>\n",
              "      <td>-0.193068</td>\n",
              "    </tr>\n",
              "    <tr>\n",
              "      <th>antirel</th>\n",
              "      <td>0.113744</td>\n",
              "      <td>-0.045474</td>\n",
              "      <td>-0.010595</td>\n",
              "      <td>-0.044586</td>\n",
              "      <td>-0.041200</td>\n",
              "      <td>0.019768</td>\n",
              "      <td>0.043760</td>\n",
              "      <td>1.000000</td>\n",
              "      <td>-0.180484</td>\n",
              "      <td>-0.154022</td>\n",
              "      <td>-0.200315</td>\n",
              "      <td>-0.106969</td>\n",
              "      <td>-0.003342</td>\n",
              "      <td>-0.000491</td>\n",
              "      <td>0.123074</td>\n",
              "      <td>-0.027700</td>\n",
              "      <td>-0.030435</td>\n",
              "      <td>-0.055645</td>\n",
              "    </tr>\n",
              "    <tr>\n",
              "      <th>notrel</th>\n",
              "      <td>0.000589</td>\n",
              "      <td>-0.110424</td>\n",
              "      <td>0.014710</td>\n",
              "      <td>0.071563</td>\n",
              "      <td>-0.003901</td>\n",
              "      <td>-0.015487</td>\n",
              "      <td>-0.033053</td>\n",
              "      <td>-0.180484</td>\n",
              "      <td>1.000000</td>\n",
              "      <td>-0.320262</td>\n",
              "      <td>-0.416521</td>\n",
              "      <td>-0.222425</td>\n",
              "      <td>0.063914</td>\n",
              "      <td>0.126652</td>\n",
              "      <td>-0.016254</td>\n",
              "      <td>0.017672</td>\n",
              "      <td>0.022107</td>\n",
              "      <td>-0.147259</td>\n",
              "    </tr>\n",
              "    <tr>\n",
              "      <th>slghtrel</th>\n",
              "      <td>0.101169</td>\n",
              "      <td>0.015304</td>\n",
              "      <td>0.014242</td>\n",
              "      <td>0.023767</td>\n",
              "      <td>0.022840</td>\n",
              "      <td>-0.005553</td>\n",
              "      <td>-0.031608</td>\n",
              "      <td>-0.154022</td>\n",
              "      <td>-0.320262</td>\n",
              "      <td>1.000000</td>\n",
              "      <td>-0.355451</td>\n",
              "      <td>-0.189813</td>\n",
              "      <td>-0.016742</td>\n",
              "      <td>0.012741</td>\n",
              "      <td>0.079645</td>\n",
              "      <td>-0.030705</td>\n",
              "      <td>-0.025582</td>\n",
              "      <td>-0.023853</td>\n",
              "    </tr>\n",
              "    <tr>\n",
              "      <th>smerel</th>\n",
              "      <td>-0.119244</td>\n",
              "      <td>0.071857</td>\n",
              "      <td>-0.023525</td>\n",
              "      <td>-0.044239</td>\n",
              "      <td>0.005927</td>\n",
              "      <td>0.020427</td>\n",
              "      <td>0.012169</td>\n",
              "      <td>-0.200315</td>\n",
              "      <td>-0.416521</td>\n",
              "      <td>-0.355451</td>\n",
              "      <td>1.000000</td>\n",
              "      <td>-0.246864</td>\n",
              "      <td>-0.056507</td>\n",
              "      <td>-0.099403</td>\n",
              "      <td>-0.058379</td>\n",
              "      <td>0.084200</td>\n",
              "      <td>0.009708</td>\n",
              "      <td>0.086965</td>\n",
              "    </tr>\n",
              "    <tr>\n",
              "      <th>vryrel</th>\n",
              "      <td>-0.053584</td>\n",
              "      <td>0.068019</td>\n",
              "      <td>0.004396</td>\n",
              "      <td>-0.027989</td>\n",
              "      <td>0.002410</td>\n",
              "      <td>-0.017702</td>\n",
              "      <td>0.031732</td>\n",
              "      <td>-0.106969</td>\n",
              "      <td>-0.222425</td>\n",
              "      <td>-0.189813</td>\n",
              "      <td>-0.246864</td>\n",
              "      <td>1.000000</td>\n",
              "      <td>0.017406</td>\n",
              "      <td>-0.047677</td>\n",
              "      <td>-0.098755</td>\n",
              "      <td>-0.083876</td>\n",
              "      <td>0.013694</td>\n",
              "      <td>0.155979</td>\n",
              "    </tr>\n",
              "    <tr>\n",
              "      <th>yrsmarr1</th>\n",
              "      <td>-0.109111</td>\n",
              "      <td>-0.369977</td>\n",
              "      <td>-0.050898</td>\n",
              "      <td>-0.089167</td>\n",
              "      <td>0.015602</td>\n",
              "      <td>-0.022600</td>\n",
              "      <td>0.084210</td>\n",
              "      <td>-0.003342</td>\n",
              "      <td>0.063914</td>\n",
              "      <td>-0.016742</td>\n",
              "      <td>-0.056507</td>\n",
              "      <td>0.017406</td>\n",
              "      <td>1.000000</td>\n",
              "      <td>-0.127467</td>\n",
              "      <td>-0.141602</td>\n",
              "      <td>-0.122332</td>\n",
              "      <td>-0.111742</td>\n",
              "      <td>-0.220615</td>\n",
              "    </tr>\n",
              "    <tr>\n",
              "      <th>yrsmarr2</th>\n",
              "      <td>-0.108355</td>\n",
              "      <td>-0.427288</td>\n",
              "      <td>-0.068496</td>\n",
              "      <td>-0.025047</td>\n",
              "      <td>-0.047075</td>\n",
              "      <td>-0.124884</td>\n",
              "      <td>0.193641</td>\n",
              "      <td>-0.000491</td>\n",
              "      <td>0.126652</td>\n",
              "      <td>0.012741</td>\n",
              "      <td>-0.099403</td>\n",
              "      <td>-0.047677</td>\n",
              "      <td>-0.127467</td>\n",
              "      <td>1.000000</td>\n",
              "      <td>-0.190562</td>\n",
              "      <td>-0.164629</td>\n",
              "      <td>-0.150378</td>\n",
              "      <td>-0.296895</td>\n",
              "    </tr>\n",
              "    <tr>\n",
              "      <th>yrsmarr3</th>\n",
              "      <td>0.008036</td>\n",
              "      <td>-0.059484</td>\n",
              "      <td>-0.021650</td>\n",
              "      <td>-0.091528</td>\n",
              "      <td>-0.015120</td>\n",
              "      <td>0.010370</td>\n",
              "      <td>0.067214</td>\n",
              "      <td>0.123074</td>\n",
              "      <td>-0.016254</td>\n",
              "      <td>0.079645</td>\n",
              "      <td>-0.058379</td>\n",
              "      <td>-0.098755</td>\n",
              "      <td>-0.141602</td>\n",
              "      <td>-0.190562</td>\n",
              "      <td>1.000000</td>\n",
              "      <td>-0.182885</td>\n",
              "      <td>-0.167053</td>\n",
              "      <td>-0.329817</td>\n",
              "    </tr>\n",
              "    <tr>\n",
              "      <th>yrsmarr4</th>\n",
              "      <td>0.028384</td>\n",
              "      <td>0.132481</td>\n",
              "      <td>-0.005511</td>\n",
              "      <td>0.108448</td>\n",
              "      <td>0.004170</td>\n",
              "      <td>-0.015233</td>\n",
              "      <td>-0.056296</td>\n",
              "      <td>-0.027700</td>\n",
              "      <td>0.017672</td>\n",
              "      <td>-0.030705</td>\n",
              "      <td>0.084200</td>\n",
              "      <td>-0.083876</td>\n",
              "      <td>-0.122332</td>\n",
              "      <td>-0.164629</td>\n",
              "      <td>-0.182885</td>\n",
              "      <td>1.000000</td>\n",
              "      <td>-0.144319</td>\n",
              "      <td>-0.284933</td>\n",
              "    </tr>\n",
              "    <tr>\n",
              "      <th>yrsmarr5</th>\n",
              "      <td>0.042297</td>\n",
              "      <td>0.148491</td>\n",
              "      <td>-0.060046</td>\n",
              "      <td>-0.044579</td>\n",
              "      <td>0.002410</td>\n",
              "      <td>0.071048</td>\n",
              "      <td>-0.021539</td>\n",
              "      <td>-0.030435</td>\n",
              "      <td>0.022107</td>\n",
              "      <td>-0.025582</td>\n",
              "      <td>0.009708</td>\n",
              "      <td>0.013694</td>\n",
              "      <td>-0.111742</td>\n",
              "      <td>-0.150378</td>\n",
              "      <td>-0.167053</td>\n",
              "      <td>-0.144319</td>\n",
              "      <td>1.000000</td>\n",
              "      <td>-0.260268</td>\n",
              "    </tr>\n",
              "    <tr>\n",
              "      <th>yrsmarr6</th>\n",
              "      <td>0.090004</td>\n",
              "      <td>0.389742</td>\n",
              "      <td>0.143393</td>\n",
              "      <td>0.096623</td>\n",
              "      <td>0.033352</td>\n",
              "      <td>0.061251</td>\n",
              "      <td>-0.193068</td>\n",
              "      <td>-0.055645</td>\n",
              "      <td>-0.147259</td>\n",
              "      <td>-0.023853</td>\n",
              "      <td>0.086965</td>\n",
              "      <td>0.155979</td>\n",
              "      <td>-0.220615</td>\n",
              "      <td>-0.296895</td>\n",
              "      <td>-0.329817</td>\n",
              "      <td>-0.284933</td>\n",
              "      <td>-0.260268</td>\n",
              "      <td>1.000000</td>\n",
              "    </tr>\n",
              "  </tbody>\n",
              "</table>\n",
              "</div>\n",
              "      <button class=\"colab-df-convert\" onclick=\"convertToInteractive('df-474accd1-b309-4822-ab33-56d3bed41693')\"\n",
              "              title=\"Convert this dataframe to an interactive table.\"\n",
              "              style=\"display:none;\">\n",
              "        \n",
              "  <svg xmlns=\"http://www.w3.org/2000/svg\" height=\"24px\"viewBox=\"0 0 24 24\"\n",
              "       width=\"24px\">\n",
              "    <path d=\"M0 0h24v24H0V0z\" fill=\"none\"/>\n",
              "    <path d=\"M18.56 5.44l.94 2.06.94-2.06 2.06-.94-2.06-.94-.94-2.06-.94 2.06-2.06.94zm-11 1L8.5 8.5l.94-2.06 2.06-.94-2.06-.94L8.5 2.5l-.94 2.06-2.06.94zm10 10l.94 2.06.94-2.06 2.06-.94-2.06-.94-.94-2.06-.94 2.06-2.06.94z\"/><path d=\"M17.41 7.96l-1.37-1.37c-.4-.4-.92-.59-1.43-.59-.52 0-1.04.2-1.43.59L10.3 9.45l-7.72 7.72c-.78.78-.78 2.05 0 2.83L4 21.41c.39.39.9.59 1.41.59.51 0 1.02-.2 1.41-.59l7.78-7.78 2.81-2.81c.8-.78.8-2.07 0-2.86zM5.41 20L4 18.59l7.72-7.72 1.47 1.35L5.41 20z\"/>\n",
              "  </svg>\n",
              "      </button>\n",
              "      \n",
              "  <style>\n",
              "    .colab-df-container {\n",
              "      display:flex;\n",
              "      flex-wrap:wrap;\n",
              "      gap: 12px;\n",
              "    }\n",
              "\n",
              "    .colab-df-convert {\n",
              "      background-color: #E8F0FE;\n",
              "      border: none;\n",
              "      border-radius: 50%;\n",
              "      cursor: pointer;\n",
              "      display: none;\n",
              "      fill: #1967D2;\n",
              "      height: 32px;\n",
              "      padding: 0 0 0 0;\n",
              "      width: 32px;\n",
              "    }\n",
              "\n",
              "    .colab-df-convert:hover {\n",
              "      background-color: #E2EBFA;\n",
              "      box-shadow: 0px 1px 2px rgba(60, 64, 67, 0.3), 0px 1px 3px 1px rgba(60, 64, 67, 0.15);\n",
              "      fill: #174EA6;\n",
              "    }\n",
              "\n",
              "    [theme=dark] .colab-df-convert {\n",
              "      background-color: #3B4455;\n",
              "      fill: #D2E3FC;\n",
              "    }\n",
              "\n",
              "    [theme=dark] .colab-df-convert:hover {\n",
              "      background-color: #434B5C;\n",
              "      box-shadow: 0px 1px 3px 1px rgba(0, 0, 0, 0.15);\n",
              "      filter: drop-shadow(0px 1px 2px rgba(0, 0, 0, 0.3));\n",
              "      fill: #FFFFFF;\n",
              "    }\n",
              "  </style>\n",
              "\n",
              "      <script>\n",
              "        const buttonEl =\n",
              "          document.querySelector('#df-474accd1-b309-4822-ab33-56d3bed41693 button.colab-df-convert');\n",
              "        buttonEl.style.display =\n",
              "          google.colab.kernel.accessAllowed ? 'block' : 'none';\n",
              "\n",
              "        async function convertToInteractive(key) {\n",
              "          const element = document.querySelector('#df-474accd1-b309-4822-ab33-56d3bed41693');\n",
              "          const dataTable =\n",
              "            await google.colab.kernel.invokeFunction('convertToInteractive',\n",
              "                                                     [key], {});\n",
              "          if (!dataTable) return;\n",
              "\n",
              "          const docLinkHtml = 'Like what you see? Visit the ' +\n",
              "            '<a target=\"_blank\" href=https://colab.research.google.com/notebooks/data_table.ipynb>data table notebook</a>'\n",
              "            + ' to learn more about interactive tables.';\n",
              "          element.innerHTML = '';\n",
              "          dataTable['output_type'] = 'display_data';\n",
              "          await google.colab.output.renderOutput(dataTable, element);\n",
              "          const docLink = document.createElement('div');\n",
              "          docLink.innerHTML = docLinkHtml;\n",
              "          element.appendChild(docLink);\n",
              "        }\n",
              "      </script>\n",
              "    </div>\n",
              "  </div>\n",
              "  "
            ]
          },
          "metadata": {},
          "execution_count": 144
        }
      ]
    },
    {
      "cell_type": "code",
      "source": [
        "# Heat Map\n",
        "\n",
        "corr_mat = data.corr().round(1)\n",
        "sns.heatmap(data = corr_mat, annot = True)"
      ],
      "metadata": {
        "colab": {
          "base_uri": "https://localhost:8080/",
          "height": 324
        },
        "id": "8pFVrgHJxJAQ",
        "outputId": "85ad71b3-4094-413f-8801-d3cce49d7e38"
      },
      "execution_count": 145,
      "outputs": [
        {
          "output_type": "execute_result",
          "data": {
            "text/plain": [
              "<matplotlib.axes._subplots.AxesSubplot at 0x7f2795dfd950>"
            ]
          },
          "metadata": {},
          "execution_count": 145
        },
        {
          "output_type": "display_data",
          "data": {
            "text/plain": [
              "<Figure size 432x288 with 2 Axes>"
            ],
            "image/png": "[encoded data removed]"
          },
          "metadata": {
            "needs_background": "light"
          }
        }
      ]
    },
    {
      "cell_type": "code",
      "source": [
        "# Spliting the data\n",
        "\n",
        "X = data.drop(columns=['naffairs'])\n",
        "Y = data.naffairs"
      ],
      "metadata": {
        "id": "NrSWZU5fxP7V"
      },
      "execution_count": 146,
      "outputs": []
    },
    {
      "cell_type": "code",
      "source": [
        "x_train, x_test, y_train, y_test = train_test_split(X, Y, test_size=0.3, random_state=0)"
      ],
      "metadata": {
        "id": "1T1pPBeSxpjq"
      },
      "execution_count": 147,
      "outputs": []
    },
    {
      "cell_type": "code",
      "source": [
        "# Model Building\n",
        "\n",
        "model = LogisticRegression()\n",
        "model.fit(x_train, y_train)"
      ],
      "metadata": {
        "colab": {
          "base_uri": "https://localhost:8080/"
        },
        "id": "Uu4GMGqIx5qL",
        "outputId": "9f3fe8c1-4cc3-4d92-adcd-02ea25d95c69"
      },
      "execution_count": 148,
      "outputs": [
        {
          "output_type": "execute_result",
          "data": {
            "text/plain": [
              "LogisticRegression()"
            ]
          },
          "metadata": {},
          "execution_count": 148
        }
      ]
    },
    {
      "cell_type": "code",
      "source": [
        "y_pred = model.predict(x_test)"
      ],
      "metadata": {
        "id": "LgfIOQwCxs_6"
      },
      "execution_count": 149,
      "outputs": []
    },
    {
      "cell_type": "code",
      "source": [
        "from sklearn.metrics import confusion_matrix, accuracy_score\n",
        "\n",
        "cm = confusion_matrix(y_test, y_pred)\n",
        "print(cm)\n",
        "accuracy_score(y_test, y_pred) # 80% accuracy is pretty good."
      ],
      "metadata": {
        "colab": {
          "base_uri": "https://localhost:8080/"
        },
        "id": "M7KUsgioyka_",
        "outputId": "b01da154-6f85-4c0e-ea33-9293c05b7fb6"
      },
      "execution_count": 150,
      "outputs": [
        {
          "output_type": "stream",
          "name": "stdout",
          "text": [
            "[[137   2]\n",
            " [ 34   8]]\n"
          ]
        },
        {
          "output_type": "execute_result",
          "data": {
            "text/plain": [
              "0.8011049723756906"
            ]
          },
          "metadata": {},
          "execution_count": 150
        }
      ]
    },
    {
      "cell_type": "code",
      "source": [
        "# what percentage had affairs?\n",
        "Y.mean()"
      ],
      "metadata": {
        "colab": {
          "base_uri": "https://localhost:8080/"
        },
        "id": "m_xeB1zB1nGF",
        "outputId": "135fa66f-8b55-4014-fa3b-21b35a49946e"
      },
      "execution_count": 151,
      "outputs": [
        {
          "output_type": "execute_result",
          "data": {
            "text/plain": [
              "0.24958402662229617"
            ]
          },
          "metadata": {},
          "execution_count": 151
        }
      ]
    },
    {
      "cell_type": "code",
      "source": [
        "# examine the coefficients\n",
        "pd.DataFrame(zip(X.columns, np.transpose(model.coef_)))"
      ],
      "metadata": {
        "colab": {
          "base_uri": "https://localhost:8080/",
          "height": 582
        },
        "id": "YhxFWarF2C6F",
        "outputId": "58b1dce4-6b38-4314-8511-1eff4dc9b7ad"
      },
      "execution_count": 152,
      "outputs": [
        {
          "output_type": "execute_result",
          "data": {
            "text/plain": [
              "           0                         1\n",
              "0       kids   [-0.060102946924497816]\n",
              "1   vryunhap     [0.31194681043173256]\n",
              "2      unhap      [0.6637155307393432]\n",
              "3    avgmarr   [-0.031099695533183085]\n",
              "4     hapavg    [-0.24348705394817702]\n",
              "5     vryhap     [-0.7011384221116587]\n",
              "6    antirel      [0.8655667203085474]\n",
              "7     notrel    [0.016127817372639176]\n",
              "8   slghtrel     [0.18127019579492326]\n",
              "9     smerel     [-0.5859534001984468]\n",
              "10    vryrel     [-0.4770741636996076]\n",
              "11  yrsmarr1     [-1.0467252564899177]\n",
              "12  yrsmarr2     [-0.3025575515449939]\n",
              "13  yrsmarr3     [0.21328905746137125]\n",
              "14  yrsmarr4  [-0.0037720489225627953]\n",
              "15  yrsmarr5      [0.6800975784081054]\n",
              "16  yrsmarr6     [0.45960539066605094]"
            ],
            "text/html": [
              "\n",
              "  <div id=\"df-a8206e9d-7513-4e39-9b34-4cbb4a27af06\">\n",
              "    <div class=\"colab-df-container\">\n",
              "      <div>\n",
              "<style scoped>\n",
              "    .dataframe tbody tr th:only-of-type {\n",
              "        vertical-align: middle;\n",
              "    }\n",
              "\n",
              "    .dataframe tbody tr th {\n",
              "        vertical-align: top;\n",
              "    }\n",
              "\n",
              "    .dataframe thead th {\n",
              "        text-align: right;\n",
              "    }\n",
              "</style>\n",
              "<table border=\"1\" class=\"dataframe\">\n",
              "  <thead>\n",
              "    <tr style=\"text-align: right;\">\n",
              "      <th></th>\n",
              "      <th>0</th>\n",
              "      <th>1</th>\n",
              "    </tr>\n",
              "  </thead>\n",
              "  <tbody>\n",
              "    <tr>\n",
              "      <th>0</th>\n",
              "      <td>kids</td>\n",
              "      <td>[-0.060102946924497816]</td>\n",
              "    </tr>\n",
              "    <tr>\n",
              "      <th>1</th>\n",
              "      <td>vryunhap</td>\n",
              "      <td>[0.31194681043173256]</td>\n",
              "    </tr>\n",
              "    <tr>\n",
              "      <th>2</th>\n",
              "      <td>unhap</td>\n",
              "      <td>[0.6637155307393432]</td>\n",
              "    </tr>\n",
              "    <tr>\n",
              "      <th>3</th>\n",
              "      <td>avgmarr</td>\n",
              "      <td>[-0.031099695533183085]</td>\n",
              "    </tr>\n",
              "    <tr>\n",
              "      <th>4</th>\n",
              "      <td>hapavg</td>\n",
              "      <td>[-0.24348705394817702]</td>\n",
              "    </tr>\n",
              "    <tr>\n",
              "      <th>5</th>\n",
              "      <td>vryhap</td>\n",
              "      <td>[-0.7011384221116587]</td>\n",
              "    </tr>\n",
              "    <tr>\n",
              "      <th>6</th>\n",
              "      <td>antirel</td>\n",
              "      <td>[0.8655667203085474]</td>\n",
              "    </tr>\n",
              "    <tr>\n",
              "      <th>7</th>\n",
              "      <td>notrel</td>\n",
              "      <td>[0.016127817372639176]</td>\n",
              "    </tr>\n",
              "    <tr>\n",
              "      <th>8</th>\n",
              "      <td>slghtrel</td>\n",
              "      <td>[0.18127019579492326]</td>\n",
              "    </tr>\n",
              "    <tr>\n",
              "      <th>9</th>\n",
              "      <td>smerel</td>\n",
              "      <td>[-0.5859534001984468]</td>\n",
              "    </tr>\n",
              "    <tr>\n",
              "      <th>10</th>\n",
              "      <td>vryrel</td>\n",
              "      <td>[-0.4770741636996076]</td>\n",
              "    </tr>\n",
              "    <tr>\n",
              "      <th>11</th>\n",
              "      <td>yrsmarr1</td>\n",
              "      <td>[-1.0467252564899177]</td>\n",
              "    </tr>\n",
              "    <tr>\n",
              "      <th>12</th>\n",
              "      <td>yrsmarr2</td>\n",
              "      <td>[-0.3025575515449939]</td>\n",
              "    </tr>\n",
              "    <tr>\n",
              "      <th>13</th>\n",
              "      <td>yrsmarr3</td>\n",
              "      <td>[0.21328905746137125]</td>\n",
              "    </tr>\n",
              "    <tr>\n",
              "      <th>14</th>\n",
              "      <td>yrsmarr4</td>\n",
              "      <td>[-0.0037720489225627953]</td>\n",
              "    </tr>\n",
              "    <tr>\n",
              "      <th>15</th>\n",
              "      <td>yrsmarr5</td>\n",
              "      <td>[0.6800975784081054]</td>\n",
              "    </tr>\n",
              "    <tr>\n",
              "      <th>16</th>\n",
              "      <td>yrsmarr6</td>\n",
              "      <td>[0.45960539066605094]</td>\n",
              "    </tr>\n",
              "  </tbody>\n",
              "</table>\n",
              "</div>\n",
              "      <button class=\"colab-df-convert\" onclick=\"convertToInteractive('df-a8206e9d-7513-4e39-9b34-4cbb4a27af06')\"\n",
              "              title=\"Convert this dataframe to an interactive table.\"\n",
              "              style=\"display:none;\">\n",
              "        \n",
              "  <svg xmlns=\"http://www.w3.org/2000/svg\" height=\"24px\"viewBox=\"0 0 24 24\"\n",
              "       width=\"24px\">\n",
              "    <path d=\"M0 0h24v24H0V0z\" fill=\"none\"/>\n",
              "    <path d=\"M18.56 5.44l.94 2.06.94-2.06 2.06-.94-2.06-.94-.94-2.06-.94 2.06-2.06.94zm-11 1L8.5 8.5l.94-2.06 2.06-.94-2.06-.94L8.5 2.5l-.94 2.06-2.06.94zm10 10l.94 2.06.94-2.06 2.06-.94-2.06-.94-.94-2.06-.94 2.06-2.06.94z\"/><path d=\"M17.41 7.96l-1.37-1.37c-.4-.4-.92-.59-1.43-.59-.52 0-1.04.2-1.43.59L10.3 9.45l-7.72 7.72c-.78.78-.78 2.05 0 2.83L4 21.41c.39.39.9.59 1.41.59.51 0 1.02-.2 1.41-.59l7.78-7.78 2.81-2.81c.8-.78.8-2.07 0-2.86zM5.41 20L4 18.59l7.72-7.72 1.47 1.35L5.41 20z\"/>\n",
              "  </svg>\n",
              "      </button>\n",
              "      \n",
              "  <style>\n",
              "    .colab-df-container {\n",
              "      display:flex;\n",
              "      flex-wrap:wrap;\n",
              "      gap: 12px;\n",
              "    }\n",
              "\n",
              "    .colab-df-convert {\n",
              "      background-color: #E8F0FE;\n",
              "      border: none;\n",
              "      border-radius: 50%;\n",
              "      cursor: pointer;\n",
              "      display: none;\n",
              "      fill: #1967D2;\n",
              "      height: 32px;\n",
              "      padding: 0 0 0 0;\n",
              "      width: 32px;\n",
              "    }\n",
              "\n",
              "    .colab-df-convert:hover {\n",
              "      background-color: #E2EBFA;\n",
              "      box-shadow: 0px 1px 2px rgba(60, 64, 67, 0.3), 0px 1px 3px 1px rgba(60, 64, 67, 0.15);\n",
              "      fill: #174EA6;\n",
              "    }\n",
              "\n",
              "    [theme=dark] .colab-df-convert {\n",
              "      background-color: #3B4455;\n",
              "      fill: #D2E3FC;\n",
              "    }\n",
              "\n",
              "    [theme=dark] .colab-df-convert:hover {\n",
              "      background-color: #434B5C;\n",
              "      box-shadow: 0px 1px 3px 1px rgba(0, 0, 0, 0.15);\n",
              "      filter: drop-shadow(0px 1px 2px rgba(0, 0, 0, 0.3));\n",
              "      fill: #FFFFFF;\n",
              "    }\n",
              "  </style>\n",
              "\n",
              "      <script>\n",
              "        const buttonEl =\n",
              "          document.querySelector('#df-a8206e9d-7513-4e39-9b34-4cbb4a27af06 button.colab-df-convert');\n",
              "        buttonEl.style.display =\n",
              "          google.colab.kernel.accessAllowed ? 'block' : 'none';\n",
              "\n",
              "        async function convertToInteractive(key) {\n",
              "          const element = document.querySelector('#df-a8206e9d-7513-4e39-9b34-4cbb4a27af06');\n",
              "          const dataTable =\n",
              "            await google.colab.kernel.invokeFunction('convertToInteractive',\n",
              "                                                     [key], {});\n",
              "          if (!dataTable) return;\n",
              "\n",
              "          const docLinkHtml = 'Like what you see? Visit the ' +\n",
              "            '<a target=\"_blank\" href=https://colab.research.google.com/notebooks/data_table.ipynb>data table notebook</a>'\n",
              "            + ' to learn more about interactive tables.';\n",
              "          element.innerHTML = '';\n",
              "          dataTable['output_type'] = 'display_data';\n",
              "          await google.colab.output.renderOutput(dataTable, element);\n",
              "          const docLink = document.createElement('div');\n",
              "          docLink.innerHTML = docLinkHtml;\n",
              "          element.appendChild(docLink);\n",
              "        }\n",
              "      </script>\n",
              "    </div>\n",
              "  </div>\n",
              "  "
            ]
          },
          "metadata": {},
          "execution_count": 152
        }
      ]
    },
    {
      "cell_type": "code",
      "source": [
        "from sklearn.preprocessing import StandardScaler\n",
        "sc = StandardScaler()\n",
        "x_train_scaled = sc.fit_transform(x_train)\n",
        "x_test_scaled = sc.transform(x_test)\n",
        "\n",
        "model2 = LogisticRegression()\n",
        "model2.fit(x_train_scaled, y_train)\n",
        "\n",
        "y_pred2 = model2.predict(x_test_scaled)\n",
        "\n",
        "cm2 = confusion_matrix(y_test, y_pred2)\n",
        "print(cm2)\n",
        "accuracy_score(y_test, y_pred2)"
      ],
      "metadata": {
        "colab": {
          "base_uri": "https://localhost:8080/"
        },
        "id": "HE6Z39dTyryR",
        "outputId": "6705a912-3fa4-4a27-fd5b-7f6dea9edce0"
      },
      "execution_count": 155,
      "outputs": [
        {
          "output_type": "stream",
          "name": "stdout",
          "text": [
            "[[136   3]\n",
            " [ 34   8]]\n"
          ]
        },
        {
          "output_type": "execute_result",
          "data": {
            "text/plain": [
              "0.7955801104972375"
            ]
          },
          "metadata": {},
          "execution_count": 155
        }
      ]
    },
    {
      "cell_type": "code",
      "source": [
        "## K-fold cross validation\n",
        "score = cross_val_score(model, X, Y, scoring='accuracy', cv = 10)\n",
        "print(score)\n",
        "print(score.mean())"
      ],
      "metadata": {
        "colab": {
          "base_uri": "https://localhost:8080/"
        },
        "id": "TNvJN5Q5z6CJ",
        "outputId": "99b3c33e-4f2a-4f7e-9eca-98ea82eeed27"
      },
      "execution_count": 157,
      "outputs": [
        {
          "output_type": "stream",
          "name": "stdout",
          "text": [
            "[0.7704918  0.73333333 0.75       0.75       0.78333333 0.73333333\n",
            " 0.76666667 0.8        0.7        0.76666667]\n",
            "0.7553825136612022\n"
          ]
        }
      ]
    },
    {
      "cell_type": "code",
      "source": [],
      "metadata": {
        "id": "jeTVZKgE0Stx"
      },
      "execution_count": 154,
      "outputs": []
    }
  ]
}